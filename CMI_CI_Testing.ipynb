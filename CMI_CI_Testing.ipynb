{
 "cells": [
  {
   "cell_type": "markdown",
   "metadata": {},
   "source": [
    "## Modifying MINE Approach for CMI estimation"
   ]
  },
  {
   "cell_type": "code",
   "execution_count": 9,
   "metadata": {},
   "outputs": [],
   "source": [
    "import numpy as np\n",
    "import tensorflow as tf\n",
    "from tensorflow.keras.models import Sequential\n",
    "from tensorflow.keras.layers import Dense"
   ]
  },
  {
   "cell_type": "markdown",
   "metadata": {},
   "source": [
    "### Data Generating Mechanism"
   ]
  },
  {
   "cell_type": "code",
   "execution_count": 63,
   "metadata": {},
   "outputs": [],
   "source": [
    "def generate_data(num_samples, num_features, correlation_strength):\n",
    "  X = np.random.randn(num_samples, num_features)\n",
    "  Y = np.random.randn(num_samples, num_features) + X * correlation_strength\n",
    "  Z = np.random.randn(num_samples, num_features)\n",
    "  return X, Y, Z"
   ]
  },
  {
   "cell_type": "markdown",
   "metadata": {},
   "source": [
    "### Basic NN Model for Neural Separation"
   ]
  },
  {
   "cell_type": "code",
   "execution_count": 12,
   "metadata": {},
   "outputs": [],
   "source": [
    "def build_and_train_model(X, Y, Z):\n",
    "  # Concatenate X and Z\n",
    "  XZ = np.concatenate([X, Z], axis=1)\n",
    "\n",
    "  # Create positive and negative samples\n",
    "  positive_samples = np.concatenate([XZ, Y], axis=1)\n",
    "  negative_samples = np.concatenate([XZ, np.random.permutation(Y)], axis=1)\n",
    "\n",
    "  # Create a dataset\n",
    "  dataset = tf.data.Dataset.from_tensor_slices((positive_samples, np.ones(len(positive_samples)))).concatenate(\n",
    "      tf.data.Dataset.from_tensor_slices((negative_samples, np.zeros(len(negative_samples))))).shuffle(buffer_size=1024).batch(32)\n",
    "\n",
    "  # Build the model\n",
    "  model = Sequential([\n",
    "      Dense(64, activation='relu', input_dim=positive_samples.shape[1]),\n",
    "      Dense(32, activation='relu'),\n",
    "      Dense(1)\n",
    "  ])\n",
    "\n",
    "  # Compile the model\n",
    "  model.compile(loss='binary_crossentropy', optimizer='adam')\n",
    "\n",
    "  # Train the model\n",
    "  model.fit(dataset, epochs=10, verbose=1)\n",
    "\n",
    "  return model"
   ]
  },
  {
   "cell_type": "code",
   "execution_count": 13,
   "metadata": {},
   "outputs": [],
   "source": [
    "def estimate_conditional_mi(model, X, Y, Z):\n",
    "  # Concatenate X and Z\n",
    "  XZ = np.concatenate([X, Z], axis=1)\n",
    "\n",
    "  # Create positive and negative samples\n",
    "  positive_samples = np.concatenate([XZ, Y], axis=1)\n",
    "  negative_samples = np.concatenate([XZ, np.random.permutation(Y)], axis=1)\n",
    "\n",
    "  # Predict probabilities for positive and negative samples\n",
    "  positive_scores = model.predict(positive_samples)\n",
    "  negative_scores = model.predict(negative_samples)\n",
    "\n",
    "  # Estimate CMI using a simple difference in means\n",
    "  estimated_cmi = np.mean(positive_scores) - np.mean(negative_scores)\n",
    "\n",
    "  return estimated_cmi"
   ]
  },
  {
   "cell_type": "code",
   "execution_count": 14,
   "metadata": {},
   "outputs": [
    {
     "name": "stdout",
     "output_type": "stream",
     "text": [
      "Epoch 1/10\n"
     ]
    },
    {
     "name": "stderr",
     "output_type": "stream",
     "text": [
      "2024-12-06 22:09:14.566531: I tensorflow/core/common_runtime/executor.cc:1197] [/device:CPU:0] (DEBUG INFO) Executor start aborting (this does not indicate an error and you can ignore this message): INVALID_ARGUMENT: You must feed a value for placeholder tensor 'Placeholder/_3' with dtype double and shape [1000,15]\n",
      "\t [[{{node Placeholder/_3}}]]\n",
      "2024-12-06 22:09:14.566774: I tensorflow/core/common_runtime/executor.cc:1197] [/device:CPU:0] (DEBUG INFO) Executor start aborting (this does not indicate an error and you can ignore this message): INVALID_ARGUMENT: You must feed a value for placeholder tensor 'Placeholder/_4' with dtype double and shape [1000]\n",
      "\t [[{{node Placeholder/_4}}]]\n",
      "2024-12-06 22:09:14.773772: I tensorflow/core/grappler/optimizers/custom_graph_optimizer_registry.cc:114] Plugin optimizer for device_type GPU is enabled.\n"
     ]
    },
    {
     "name": "stdout",
     "output_type": "stream",
     "text": [
      "63/63 [==============================] - 1s 10ms/step - loss: 5.7540\n",
      "Epoch 2/10\n",
      "63/63 [==============================] - 1s 8ms/step - loss: 4.6240\n",
      "Epoch 3/10\n",
      "63/63 [==============================] - 1s 8ms/step - loss: 3.8947\n",
      "Epoch 4/10\n",
      "63/63 [==============================] - 0s 8ms/step - loss: 2.4510\n",
      "Epoch 5/10\n",
      "63/63 [==============================] - 0s 8ms/step - loss: 0.9573\n",
      "Epoch 6/10\n",
      "63/63 [==============================] - 0s 8ms/step - loss: 0.9066\n",
      "Epoch 7/10\n",
      "63/63 [==============================] - 0s 8ms/step - loss: 0.7094\n",
      "Epoch 8/10\n",
      "63/63 [==============================] - 1s 8ms/step - loss: 0.7035\n",
      "Epoch 9/10\n",
      "63/63 [==============================] - 0s 8ms/step - loss: 0.7025\n",
      "Epoch 10/10\n",
      "63/63 [==============================] - 0s 8ms/step - loss: 0.7035\n",
      "32/32 [==============================] - 0s 2ms/step\n",
      "32/32 [==============================] - 0s 2ms/step\n",
      "Estimated Conditional Mutual Information: -2.9802322e-08\n"
     ]
    },
    {
     "name": "stderr",
     "output_type": "stream",
     "text": [
      "2024-12-06 22:09:20.222393: I tensorflow/core/grappler/optimizers/custom_graph_optimizer_registry.cc:114] Plugin optimizer for device_type GPU is enabled.\n"
     ]
    }
   ],
   "source": [
    "num_samples = 1000\n",
    "num_features = 5\n",
    "correlation_strength = 0.5\n",
    "\n",
    "X, Y, Z = generate_data(num_samples, num_features, correlation_strength)\n",
    "\n",
    "model = build_and_train_model(X, Y, Z)\n",
    "\n",
    "estimated_cmi = estimate_conditional_mi(model, X, Y, Z)\n",
    "\n",
    "print(\"Estimated Conditional Mutual Information:\", estimated_cmi)"
   ]
  },
  {
   "cell_type": "markdown",
   "metadata": {},
   "source": [
    "### Complete Workflow \n",
    "I have modified the workflow so as to be able to modularly call and iterate over different input values"
   ]
  },
  {
   "cell_type": "code",
   "execution_count": 24,
   "metadata": {},
   "outputs": [
    {
     "name": "stdout",
     "output_type": "stream",
     "text": [
      "Epoch 1/10\n"
     ]
    },
    {
     "name": "stderr",
     "output_type": "stream",
     "text": [
      "2024-12-06 22:25:15.095145: I tensorflow/core/common_runtime/executor.cc:1197] [/device:CPU:0] (DEBUG INFO) Executor start aborting (this does not indicate an error and you can ignore this message): INVALID_ARGUMENT: You must feed a value for placeholder tensor 'Placeholder/_0' with dtype double and shape [1000,15]\n",
      "\t [[{{node Placeholder/_0}}]]\n",
      "2024-12-06 22:25:15.095379: I tensorflow/core/common_runtime/executor.cc:1197] [/device:CPU:0] (DEBUG INFO) Executor start aborting (this does not indicate an error and you can ignore this message): INVALID_ARGUMENT: You must feed a value for placeholder tensor 'Placeholder/_0' with dtype double and shape [1000,15]\n",
      "\t [[{{node Placeholder/_0}}]]\n",
      "2024-12-06 22:25:15.260357: I tensorflow/core/grappler/optimizers/custom_graph_optimizer_registry.cc:114] Plugin optimizer for device_type GPU is enabled.\n"
     ]
    },
    {
     "name": "stdout",
     "output_type": "stream",
     "text": [
      "63/63 [==============================] - 1s 10ms/step - loss: 4.9313\n",
      "Epoch 2/10\n",
      "63/63 [==============================] - 0s 8ms/step - loss: 4.3654\n",
      "Epoch 3/10\n",
      "63/63 [==============================] - 1s 8ms/step - loss: 3.3031\n",
      "Epoch 4/10\n",
      "63/63 [==============================] - 1s 9ms/step - loss: 2.5292\n",
      "Epoch 5/10\n",
      "63/63 [==============================] - 1s 10ms/step - loss: 0.8484\n",
      "Epoch 6/10\n",
      "63/63 [==============================] - 1s 9ms/step - loss: 0.7109\n",
      "Epoch 7/10\n",
      "63/63 [==============================] - 1s 9ms/step - loss: 0.7038\n",
      "Epoch 8/10\n",
      "63/63 [==============================] - 1s 9ms/step - loss: 0.7010\n",
      "Epoch 9/10\n",
      "63/63 [==============================] - 1s 9ms/step - loss: 0.7036\n",
      "Epoch 10/10\n",
      "63/63 [==============================] - 1s 8ms/step - loss: 0.7019\n",
      "32/32 [==============================] - 0s 2ms/step\n",
      "32/32 [==============================] - 0s 2ms/step\n"
     ]
    },
    {
     "name": "stderr",
     "output_type": "stream",
     "text": [
      "2024-12-06 22:25:21.099348: I tensorflow/core/grappler/optimizers/custom_graph_optimizer_registry.cc:114] Plugin optimizer for device_type GPU is enabled.\n"
     ]
    },
    {
     "name": "stdout",
     "output_type": "stream",
     "text": [
      "Epoch 1/10\n"
     ]
    },
    {
     "name": "stderr",
     "output_type": "stream",
     "text": [
      "2024-12-06 22:25:21.311060: I tensorflow/core/common_runtime/executor.cc:1197] [/device:CPU:0] (DEBUG INFO) Executor start aborting (this does not indicate an error and you can ignore this message): INVALID_ARGUMENT: You must feed a value for placeholder tensor 'Placeholder/_4' with dtype double and shape [1000]\n",
      "\t [[{{node Placeholder/_4}}]]\n",
      "2024-12-06 22:25:21.311290: I tensorflow/core/common_runtime/executor.cc:1197] [/device:CPU:0] (DEBUG INFO) Executor start aborting (this does not indicate an error and you can ignore this message): INVALID_ARGUMENT: You must feed a value for placeholder tensor 'Placeholder/_4' with dtype double and shape [1000]\n",
      "\t [[{{node Placeholder/_4}}]]\n",
      "2024-12-06 22:25:21.482262: I tensorflow/core/grappler/optimizers/custom_graph_optimizer_registry.cc:114] Plugin optimizer for device_type GPU is enabled.\n"
     ]
    },
    {
     "name": "stdout",
     "output_type": "stream",
     "text": [
      "63/63 [==============================] - 1s 10ms/step - loss: 4.1683\n",
      "Epoch 2/10\n",
      "63/63 [==============================] - 1s 9ms/step - loss: 3.2254\n",
      "Epoch 3/10\n",
      "63/63 [==============================] - 1s 8ms/step - loss: 1.0109\n",
      "Epoch 4/10\n",
      "63/63 [==============================] - 1s 8ms/step - loss: 0.7110\n",
      "Epoch 5/10\n",
      "63/63 [==============================] - 1s 8ms/step - loss: 0.7037\n",
      "Epoch 6/10\n",
      "63/63 [==============================] - 1s 9ms/step - loss: 0.7027\n",
      "Epoch 7/10\n",
      "63/63 [==============================] - 0s 8ms/step - loss: 0.7008\n",
      "Epoch 8/10\n",
      "63/63 [==============================] - 0s 8ms/step - loss: 0.7011\n",
      "Epoch 9/10\n",
      "63/63 [==============================] - 0s 8ms/step - loss: 0.7006\n",
      "Epoch 10/10\n",
      "63/63 [==============================] - 1s 8ms/step - loss: 0.7012\n",
      "32/32 [==============================] - 0s 2ms/step\n",
      "32/32 [==============================] - 0s 2ms/step\n",
      "Estimated Conditional Mutual Information: 0.0\n"
     ]
    },
    {
     "name": "stderr",
     "output_type": "stream",
     "text": [
      "2024-12-06 22:25:27.044503: I tensorflow/core/grappler/optimizers/custom_graph_optimizer_registry.cc:114] Plugin optimizer for device_type GPU is enabled.\n"
     ]
    }
   ],
   "source": [
    "import numpy as np\n",
    "import tensorflow as tf\n",
    "from tensorflow.keras.models import Sequential\n",
    "from tensorflow.keras.layers import Dense\n",
    "\n",
    "def build_mine_model(input_shape):\n",
    "  model = Sequential([\n",
    "      Dense(64, activation='relu', input_shape=(input_shape,)),  # Wrap num_features in a tuple\n",
    "      Dense(32, activation='relu'),\n",
    "      Dense(1)\n",
    "  ])\n",
    "  model.compile(loss='binary_crossentropy', optimizer='adam')\n",
    "  return model\n",
    "\n",
    "def estimate_conditional_mi(X, Y, Z):\n",
    "  # Concatenate X and Z\n",
    "  XZ = np.concatenate([X, Z], axis=1)\n",
    "\n",
    "  # Create positive and negative samples\n",
    "  positive_samples = np.concatenate([XZ, Y], axis=1)\n",
    "  negative_samples = np.concatenate([XZ, np.random.permutation(Y)], axis=1)\n",
    "\n",
    "  # Create a dataset\n",
    "  dataset = tf.data.Dataset.from_tensor_slices((positive_samples, np.ones(len(positive_samples)))).concatenate(\n",
    "      tf.data.Dataset.from_tensor_slices((negative_samples, np.zeros(len(negative_samples))))).shuffle(buffer_size=1024).batch(32)\n",
    "\n",
    "  # Build and train the MINE model\n",
    "  mine_model = build_mine_model(positive_samples.shape[1])\n",
    "  mine_model.fit(dataset, epochs=10, verbose=1)\n",
    "\n",
    "  # Estimate I(X,Z;Y)\n",
    "  I_XZ_Y = mine_model.predict(positive_samples).mean() - mine_model.predict(negative_samples).mean()\n",
    "\n",
    "  # Estimate I(Z;Y)\n",
    "  ZY = np.concatenate([Z, Y], axis=1)\n",
    "  negative_ZY = np.concatenate([Z, np.random.permutation(Y)], axis=1)\n",
    "  \n",
    "  dataset_ZY = tf.data.Dataset.from_tensor_slices((ZY, np.ones(len(ZY)))).concatenate(\n",
    "      tf.data.Dataset.from_tensor_slices((negative_ZY, np.zeros(len(negative_ZY))))).shuffle(buffer_size=1024).batch(32)\n",
    "\n",
    "  mine_model_ZY = build_mine_model(ZY.shape[1])\n",
    "  mine_model_ZY.fit(dataset_ZY, epochs=10, verbose=1)\n",
    "\n",
    "  I_Z_Y = mine_model_ZY.predict(ZY).mean() - mine_model_ZY.predict(negative_ZY).mean()\n",
    "\n",
    "  # Estimate conditional mutual information\n",
    "  conditional_mi = I_XZ_Y - I_Z_Y\n",
    "\n",
    "  return conditional_mi\n",
    "\n",
    "# Example usage:\n",
    "num_samples = 1000\n",
    "num_features = 5\n",
    "correlation_strength = 0.5\n",
    "\n",
    "X, Y, Z = generate_data(num_samples, num_features, correlation_strength)\n",
    "estimated_cmi = estimate_conditional_mi(X, Y, Z)\n",
    "\n",
    "print(\"Estimated Conditional Mutual Information:\", estimated_cmi)"
   ]
  },
  {
   "cell_type": "code",
   "execution_count": 26,
   "metadata": {},
   "outputs": [
    {
     "name": "stdout",
     "output_type": "stream",
     "text": [
      "Epoch 1/10\n"
     ]
    },
    {
     "name": "stderr",
     "output_type": "stream",
     "text": [
      "2024-12-06 22:29:12.363566: I tensorflow/core/common_runtime/executor.cc:1197] [/device:CPU:0] (DEBUG INFO) Executor start aborting (this does not indicate an error and you can ignore this message): INVALID_ARGUMENT: You must feed a value for placeholder tensor 'Placeholder/_3' with dtype double and shape [100,15]\n",
      "\t [[{{node Placeholder/_3}}]]\n",
      "2024-12-06 22:29:12.363803: I tensorflow/core/common_runtime/executor.cc:1197] [/device:CPU:0] (DEBUG INFO) Executor start aborting (this does not indicate an error and you can ignore this message): INVALID_ARGUMENT: You must feed a value for placeholder tensor 'Placeholder/_0' with dtype double and shape [100,15]\n",
      "\t [[{{node Placeholder/_0}}]]\n",
      "2024-12-06 22:29:12.535935: I tensorflow/core/grappler/optimizers/custom_graph_optimizer_registry.cc:114] Plugin optimizer for device_type GPU is enabled.\n"
     ]
    },
    {
     "name": "stdout",
     "output_type": "stream",
     "text": [
      "7/7 [==============================] - 1s 41ms/step - loss: 5.2008\n",
      "Epoch 2/10\n",
      "7/7 [==============================] - 0s 13ms/step - loss: 5.1025\n",
      "Epoch 3/10\n",
      "7/7 [==============================] - 0s 13ms/step - loss: 4.5978\n",
      "Epoch 4/10\n",
      "7/7 [==============================] - 0s 12ms/step - loss: 4.5027\n",
      "Epoch 5/10\n",
      "7/7 [==============================] - 0s 10ms/step - loss: 4.4405\n",
      "Epoch 6/10\n",
      "7/7 [==============================] - 0s 16ms/step - loss: 4.3749\n",
      "Epoch 7/10\n",
      "7/7 [==============================] - 0s 9ms/step - loss: 4.3578\n",
      "Epoch 8/10\n",
      "7/7 [==============================] - 0s 10ms/step - loss: 4.2655\n",
      "Epoch 9/10\n",
      "7/7 [==============================] - 0s 11ms/step - loss: 4.1108\n",
      "Epoch 10/10\n",
      "7/7 [==============================] - 0s 9ms/step - loss: 3.8907\n",
      "4/4 [==============================] - 0s 4ms/step\n",
      "4/4 [==============================] - 0s 2ms/step\n",
      "Epoch 1/10\n"
     ]
    },
    {
     "name": "stderr",
     "output_type": "stream",
     "text": [
      "2024-12-06 22:29:13.906652: I tensorflow/core/grappler/optimizers/custom_graph_optimizer_registry.cc:114] Plugin optimizer for device_type GPU is enabled.\n",
      "2024-12-06 22:29:14.013549: I tensorflow/core/common_runtime/executor.cc:1197] [/device:CPU:0] (DEBUG INFO) Executor start aborting (this does not indicate an error and you can ignore this message): INVALID_ARGUMENT: You must feed a value for placeholder tensor 'Placeholder/_3' with dtype double and shape [100,10]\n",
      "\t [[{{node Placeholder/_3}}]]\n",
      "2024-12-06 22:29:14.013789: I tensorflow/core/common_runtime/executor.cc:1197] [/device:CPU:0] (DEBUG INFO) Executor start aborting (this does not indicate an error and you can ignore this message): INVALID_ARGUMENT: You must feed a value for placeholder tensor 'Placeholder/_0' with dtype double and shape [100,10]\n",
      "\t [[{{node Placeholder/_0}}]]\n",
      "2024-12-06 22:29:14.182463: I tensorflow/core/grappler/optimizers/custom_graph_optimizer_registry.cc:114] Plugin optimizer for device_type GPU is enabled.\n"
     ]
    },
    {
     "name": "stdout",
     "output_type": "stream",
     "text": [
      "7/7 [==============================] - 1s 40ms/step - loss: 5.2257\n",
      "Epoch 2/10\n",
      "7/7 [==============================] - 0s 16ms/step - loss: 4.8891\n",
      "Epoch 3/10\n",
      "7/7 [==============================] - 0s 11ms/step - loss: 4.5543\n",
      "Epoch 4/10\n",
      "7/7 [==============================] - 0s 8ms/step - loss: 4.2270\n",
      "Epoch 5/10\n",
      "7/7 [==============================] - 0s 8ms/step - loss: 4.1201\n",
      "Epoch 6/10\n",
      "7/7 [==============================] - 0s 9ms/step - loss: 4.0727\n",
      "Epoch 7/10\n",
      "7/7 [==============================] - 0s 11ms/step - loss: 4.1738\n",
      "Epoch 8/10\n",
      "7/7 [==============================] - 0s 10ms/step - loss: 3.9725\n",
      "Epoch 9/10\n",
      "7/7 [==============================] - 0s 9ms/step - loss: 3.6799\n",
      "Epoch 10/10\n",
      "7/7 [==============================] - 0s 10ms/step - loss: 3.4656\n",
      "4/4 [==============================] - 0s 4ms/step\n",
      "4/4 [==============================] - 0s 2ms/step\n",
      "Epoch 1/10\n"
     ]
    },
    {
     "name": "stderr",
     "output_type": "stream",
     "text": [
      "2024-12-06 22:29:15.453224: I tensorflow/core/grappler/optimizers/custom_graph_optimizer_registry.cc:114] Plugin optimizer for device_type GPU is enabled.\n",
      "2024-12-06 22:29:15.582216: I tensorflow/core/common_runtime/executor.cc:1197] [/device:CPU:0] (DEBUG INFO) Executor start aborting (this does not indicate an error and you can ignore this message): INVALID_ARGUMENT: You must feed a value for placeholder tensor 'Placeholder/_3' with dtype double and shape [100,30]\n",
      "\t [[{{node Placeholder/_3}}]]\n",
      "2024-12-06 22:29:15.582446: I tensorflow/core/common_runtime/executor.cc:1197] [/device:CPU:0] (DEBUG INFO) Executor start aborting (this does not indicate an error and you can ignore this message): INVALID_ARGUMENT: You must feed a value for placeholder tensor 'Placeholder/_3' with dtype double and shape [100,30]\n",
      "\t [[{{node Placeholder/_3}}]]\n",
      "2024-12-06 22:29:15.752328: I tensorflow/core/grappler/optimizers/custom_graph_optimizer_registry.cc:114] Plugin optimizer for device_type GPU is enabled.\n"
     ]
    },
    {
     "name": "stdout",
     "output_type": "stream",
     "text": [
      "7/7 [==============================] - 1s 45ms/step - loss: 5.8925\n",
      "Epoch 2/10\n",
      "7/7 [==============================] - 0s 14ms/step - loss: 5.8165\n",
      "Epoch 3/10\n",
      "7/7 [==============================] - 0s 12ms/step - loss: 5.7273\n",
      "Epoch 4/10\n",
      "7/7 [==============================] - 0s 10ms/step - loss: 5.6529\n",
      "Epoch 5/10\n",
      "7/7 [==============================] - 0s 10ms/step - loss: 5.5819\n",
      "Epoch 6/10\n",
      "7/7 [==============================] - 0s 9ms/step - loss: 5.4518\n",
      "Epoch 7/10\n",
      "7/7 [==============================] - 0s 10ms/step - loss: 5.3161\n",
      "Epoch 8/10\n",
      "7/7 [==============================] - 0s 10ms/step - loss: 5.3490\n",
      "Epoch 9/10\n",
      "7/7 [==============================] - 0s 10ms/step - loss: 5.2180\n",
      "Epoch 10/10\n",
      "7/7 [==============================] - 0s 8ms/step - loss: 5.0002\n",
      "4/4 [==============================] - 0s 4ms/step\n",
      "4/4 [==============================] - 0s 3ms/step\n",
      "Epoch 1/10\n"
     ]
    },
    {
     "name": "stderr",
     "output_type": "stream",
     "text": [
      "2024-12-06 22:29:17.031331: I tensorflow/core/grappler/optimizers/custom_graph_optimizer_registry.cc:114] Plugin optimizer for device_type GPU is enabled.\n",
      "2024-12-06 22:29:17.140767: I tensorflow/core/common_runtime/executor.cc:1197] [/device:CPU:0] (DEBUG INFO) Executor start aborting (this does not indicate an error and you can ignore this message): INVALID_ARGUMENT: You must feed a value for placeholder tensor 'Placeholder/_3' with dtype double and shape [100,20]\n",
      "\t [[{{node Placeholder/_3}}]]\n",
      "2024-12-06 22:29:17.141064: I tensorflow/core/common_runtime/executor.cc:1197] [/device:CPU:0] (DEBUG INFO) Executor start aborting (this does not indicate an error and you can ignore this message): INVALID_ARGUMENT: You must feed a value for placeholder tensor 'Placeholder/_1' with dtype double and shape [100]\n",
      "\t [[{{node Placeholder/_1}}]]\n",
      "2024-12-06 22:29:17.306329: I tensorflow/core/grappler/optimizers/custom_graph_optimizer_registry.cc:114] Plugin optimizer for device_type GPU is enabled.\n"
     ]
    },
    {
     "name": "stdout",
     "output_type": "stream",
     "text": [
      "7/7 [==============================] - 1s 46ms/step - loss: 5.9332\n",
      "Epoch 2/10\n",
      "7/7 [==============================] - 0s 21ms/step - loss: 5.5585\n",
      "Epoch 3/10\n",
      "7/7 [==============================] - 0s 12ms/step - loss: 5.4598\n",
      "Epoch 4/10\n",
      "7/7 [==============================] - 0s 11ms/step - loss: 5.1589\n",
      "Epoch 5/10\n",
      "7/7 [==============================] - 0s 10ms/step - loss: 5.3393\n",
      "Epoch 6/10\n",
      "7/7 [==============================] - 0s 12ms/step - loss: 5.3203\n",
      "Epoch 7/10\n",
      "7/7 [==============================] - 0s 9ms/step - loss: 5.3088\n",
      "Epoch 8/10\n",
      "7/7 [==============================] - 0s 10ms/step - loss: 5.3121\n",
      "Epoch 9/10\n",
      "7/7 [==============================] - 0s 8ms/step - loss: 5.3183\n",
      "Epoch 10/10\n",
      "7/7 [==============================] - 0s 8ms/step - loss: 5.2136\n",
      "4/4 [==============================] - 0s 4ms/step\n",
      "4/4 [==============================] - 0s 3ms/step\n",
      "Epoch 1/10\n"
     ]
    },
    {
     "name": "stderr",
     "output_type": "stream",
     "text": [
      "2024-12-06 22:29:18.666090: I tensorflow/core/grappler/optimizers/custom_graph_optimizer_registry.cc:114] Plugin optimizer for device_type GPU is enabled.\n",
      "2024-12-06 22:29:18.778599: I tensorflow/core/common_runtime/executor.cc:1197] [/device:CPU:0] (DEBUG INFO) Executor start aborting (this does not indicate an error and you can ignore this message): INVALID_ARGUMENT: You must feed a value for placeholder tensor 'Placeholder/_3' with dtype double and shape [100,150]\n",
      "\t [[{{node Placeholder/_3}}]]\n",
      "2024-12-06 22:29:18.778840: I tensorflow/core/common_runtime/executor.cc:1197] [/device:CPU:0] (DEBUG INFO) Executor start aborting (this does not indicate an error and you can ignore this message): INVALID_ARGUMENT: You must feed a value for placeholder tensor 'Placeholder/_1' with dtype double and shape [100]\n",
      "\t [[{{node Placeholder/_1}}]]\n",
      "2024-12-06 22:29:18.942138: I tensorflow/core/grappler/optimizers/custom_graph_optimizer_registry.cc:114] Plugin optimizer for device_type GPU is enabled.\n"
     ]
    },
    {
     "name": "stdout",
     "output_type": "stream",
     "text": [
      "7/7 [==============================] - 1s 50ms/step - loss: 6.5437\n",
      "Epoch 2/10\n",
      "7/7 [==============================] - 0s 15ms/step - loss: 6.2625\n",
      "Epoch 3/10\n",
      "7/7 [==============================] - 0s 12ms/step - loss: 6.0640\n",
      "Epoch 4/10\n",
      "7/7 [==============================] - 0s 11ms/step - loss: 6.0360\n",
      "Epoch 5/10\n",
      "7/7 [==============================] - 0s 10ms/step - loss: 6.0230\n",
      "Epoch 6/10\n",
      "7/7 [==============================] - 0s 10ms/step - loss: 5.9533\n",
      "Epoch 7/10\n",
      "7/7 [==============================] - 0s 9ms/step - loss: 5.8703\n",
      "Epoch 8/10\n",
      "7/7 [==============================] - 0s 14ms/step - loss: 5.6768\n",
      "Epoch 9/10\n",
      "7/7 [==============================] - 0s 9ms/step - loss: 5.6146\n",
      "Epoch 10/10\n",
      "7/7 [==============================] - 0s 10ms/step - loss: 5.5265\n",
      "4/4 [==============================] - 0s 4ms/step\n",
      "4/4 [==============================] - 0s 3ms/step\n",
      "Epoch 1/10\n"
     ]
    },
    {
     "name": "stderr",
     "output_type": "stream",
     "text": [
      "2024-12-06 22:29:20.366872: I tensorflow/core/grappler/optimizers/custom_graph_optimizer_registry.cc:114] Plugin optimizer for device_type GPU is enabled.\n",
      "2024-12-06 22:29:20.479451: I tensorflow/core/common_runtime/executor.cc:1197] [/device:CPU:0] (DEBUG INFO) Executor start aborting (this does not indicate an error and you can ignore this message): INVALID_ARGUMENT: You must feed a value for placeholder tensor 'Placeholder/_3' with dtype double and shape [100,100]\n",
      "\t [[{{node Placeholder/_3}}]]\n",
      "2024-12-06 22:29:20.479702: I tensorflow/core/common_runtime/executor.cc:1197] [/device:CPU:0] (DEBUG INFO) Executor start aborting (this does not indicate an error and you can ignore this message): INVALID_ARGUMENT: You must feed a value for placeholder tensor 'Placeholder/_1' with dtype double and shape [100]\n",
      "\t [[{{node Placeholder/_1}}]]\n",
      "2024-12-06 22:29:20.650064: I tensorflow/core/grappler/optimizers/custom_graph_optimizer_registry.cc:114] Plugin optimizer for device_type GPU is enabled.\n"
     ]
    },
    {
     "name": "stdout",
     "output_type": "stream",
     "text": [
      "7/7 [==============================] - 1s 37ms/step - loss: 6.2793\n",
      "Epoch 2/10\n",
      "7/7 [==============================] - 0s 19ms/step - loss: 5.8542\n",
      "Epoch 3/10\n",
      "7/7 [==============================] - 0s 10ms/step - loss: 5.4405\n",
      "Epoch 4/10\n",
      "7/7 [==============================] - 0s 13ms/step - loss: 5.3693\n",
      "Epoch 5/10\n",
      "7/7 [==============================] - 0s 10ms/step - loss: 5.4149\n",
      "Epoch 6/10\n",
      "7/7 [==============================] - 0s 12ms/step - loss: 5.4036\n",
      "Epoch 7/10\n",
      "7/7 [==============================] - 0s 10ms/step - loss: 5.3923\n",
      "Epoch 8/10\n",
      "7/7 [==============================] - 0s 9ms/step - loss: 5.3150\n",
      "Epoch 9/10\n",
      "7/7 [==============================] - 0s 9ms/step - loss: 5.2907\n",
      "Epoch 10/10\n",
      "7/7 [==============================] - 0s 11ms/step - loss: 5.2853\n",
      "4/4 [==============================] - 0s 4ms/step\n",
      "4/4 [==============================] - 0s 2ms/step\n",
      "Epoch 1/10\n"
     ]
    },
    {
     "name": "stderr",
     "output_type": "stream",
     "text": [
      "2024-12-06 22:29:21.967760: I tensorflow/core/grappler/optimizers/custom_graph_optimizer_registry.cc:114] Plugin optimizer for device_type GPU is enabled.\n",
      "2024-12-06 22:29:22.096919: I tensorflow/core/common_runtime/executor.cc:1197] [/device:CPU:0] (DEBUG INFO) Executor start aborting (this does not indicate an error and you can ignore this message): INVALID_ARGUMENT: You must feed a value for placeholder tensor 'Placeholder/_3' with dtype double and shape [100,300]\n",
      "\t [[{{node Placeholder/_3}}]]\n",
      "2024-12-06 22:29:22.097172: I tensorflow/core/common_runtime/executor.cc:1197] [/device:CPU:0] (DEBUG INFO) Executor start aborting (this does not indicate an error and you can ignore this message): INVALID_ARGUMENT: You must feed a value for placeholder tensor 'Placeholder/_3' with dtype double and shape [100,300]\n",
      "\t [[{{node Placeholder/_3}}]]\n",
      "2024-12-06 22:29:22.301490: I tensorflow/core/grappler/optimizers/custom_graph_optimizer_registry.cc:114] Plugin optimizer for device_type GPU is enabled.\n"
     ]
    },
    {
     "name": "stdout",
     "output_type": "stream",
     "text": [
      "7/7 [==============================] - 1s 48ms/step - loss: 6.5310\n",
      "Epoch 2/10\n",
      "7/7 [==============================] - 0s 19ms/step - loss: 6.1916\n",
      "Epoch 3/10\n",
      "7/7 [==============================] - 0s 9ms/step - loss: 6.1788\n",
      "Epoch 4/10\n",
      "7/7 [==============================] - 0s 11ms/step - loss: 6.0237\n",
      "Epoch 5/10\n",
      "7/7 [==============================] - 0s 14ms/step - loss: 6.0093\n",
      "Epoch 6/10\n",
      "7/7 [==============================] - 0s 10ms/step - loss: 5.9168\n",
      "Epoch 7/10\n",
      "7/7 [==============================] - 0s 9ms/step - loss: 5.9031\n",
      "Epoch 8/10\n",
      "7/7 [==============================] - 0s 11ms/step - loss: 5.8917\n",
      "Epoch 9/10\n",
      "7/7 [==============================] - 0s 9ms/step - loss: 5.9597\n",
      "Epoch 10/10\n",
      "7/7 [==============================] - 0s 12ms/step - loss: 5.9506\n",
      "4/4 [==============================] - 0s 6ms/step\n",
      "4/4 [==============================] - 0s 3ms/step\n",
      "Epoch 1/10\n"
     ]
    },
    {
     "name": "stderr",
     "output_type": "stream",
     "text": [
      "2024-12-06 22:29:23.727708: I tensorflow/core/grappler/optimizers/custom_graph_optimizer_registry.cc:114] Plugin optimizer for device_type GPU is enabled.\n",
      "2024-12-06 22:29:23.864802: I tensorflow/core/common_runtime/executor.cc:1197] [/device:CPU:0] (DEBUG INFO) Executor start aborting (this does not indicate an error and you can ignore this message): INVALID_ARGUMENT: You must feed a value for placeholder tensor 'Placeholder/_0' with dtype double and shape [100,200]\n",
      "\t [[{{node Placeholder/_0}}]]\n",
      "2024-12-06 22:29:23.865033: I tensorflow/core/common_runtime/executor.cc:1197] [/device:CPU:0] (DEBUG INFO) Executor start aborting (this does not indicate an error and you can ignore this message): INVALID_ARGUMENT: You must feed a value for placeholder tensor 'Placeholder/_0' with dtype double and shape [100,200]\n",
      "\t [[{{node Placeholder/_0}}]]\n",
      "2024-12-06 22:29:24.038307: I tensorflow/core/grappler/optimizers/custom_graph_optimizer_registry.cc:114] Plugin optimizer for device_type GPU is enabled.\n"
     ]
    },
    {
     "name": "stdout",
     "output_type": "stream",
     "text": [
      "7/7 [==============================] - 1s 54ms/step - loss: 6.4918\n",
      "Epoch 2/10\n",
      "7/7 [==============================] - 0s 20ms/step - loss: 6.2763\n",
      "Epoch 3/10\n",
      "7/7 [==============================] - 0s 15ms/step - loss: 6.2471\n",
      "Epoch 4/10\n",
      "7/7 [==============================] - 0s 12ms/step - loss: 6.0474\n",
      "Epoch 5/10\n",
      "7/7 [==============================] - 0s 13ms/step - loss: 6.0058\n",
      "Epoch 6/10\n",
      "7/7 [==============================] - 0s 8ms/step - loss: 5.9864\n",
      "Epoch 7/10\n",
      "7/7 [==============================] - 0s 8ms/step - loss: 5.9752\n",
      "Epoch 8/10\n",
      "7/7 [==============================] - 0s 11ms/step - loss: 5.9175\n",
      "Epoch 9/10\n",
      "7/7 [==============================] - 0s 9ms/step - loss: 5.8188\n",
      "Epoch 10/10\n",
      "7/7 [==============================] - 0s 10ms/step - loss: 5.9013\n",
      "4/4 [==============================] - 0s 6ms/step\n",
      "4/4 [==============================] - 0s 3ms/step\n",
      "Epoch 1/10\n"
     ]
    },
    {
     "name": "stderr",
     "output_type": "stream",
     "text": [
      "2024-12-06 22:29:25.512634: I tensorflow/core/grappler/optimizers/custom_graph_optimizer_registry.cc:114] Plugin optimizer for device_type GPU is enabled.\n",
      "2024-12-06 22:29:25.656923: I tensorflow/core/common_runtime/executor.cc:1197] [/device:CPU:0] (DEBUG INFO) Executor start aborting (this does not indicate an error and you can ignore this message): INVALID_ARGUMENT: You must feed a value for placeholder tensor 'Placeholder/_3' with dtype double and shape [100,600]\n",
      "\t [[{{node Placeholder/_3}}]]\n",
      "2024-12-06 22:29:25.657153: I tensorflow/core/common_runtime/executor.cc:1197] [/device:CPU:0] (DEBUG INFO) Executor start aborting (this does not indicate an error and you can ignore this message): INVALID_ARGUMENT: You must feed a value for placeholder tensor 'Placeholder/_3' with dtype double and shape [100,600]\n",
      "\t [[{{node Placeholder/_3}}]]\n",
      "2024-12-06 22:29:25.834748: I tensorflow/core/grappler/optimizers/custom_graph_optimizer_registry.cc:114] Plugin optimizer for device_type GPU is enabled.\n"
     ]
    },
    {
     "name": "stdout",
     "output_type": "stream",
     "text": [
      "7/7 [==============================] - 1s 60ms/step - loss: 6.5059\n",
      "Epoch 2/10\n",
      "7/7 [==============================] - 0s 19ms/step - loss: 6.4487\n",
      "Epoch 3/10\n",
      "7/7 [==============================] - 0s 12ms/step - loss: 6.3737\n",
      "Epoch 4/10\n",
      "7/7 [==============================] - 0s 11ms/step - loss: 6.2993\n",
      "Epoch 5/10\n",
      "7/7 [==============================] - 0s 8ms/step - loss: 6.2650\n",
      "Epoch 6/10\n",
      "7/7 [==============================] - 0s 12ms/step - loss: 6.2487\n",
      "Epoch 7/10\n",
      "7/7 [==============================] - 0s 8ms/step - loss: 6.2376\n",
      "Epoch 8/10\n",
      "7/7 [==============================] - 0s 13ms/step - loss: 6.2297\n",
      "Epoch 9/10\n",
      "7/7 [==============================] - 0s 9ms/step - loss: 6.2252\n",
      "Epoch 10/10\n",
      "7/7 [==============================] - 0s 11ms/step - loss: 6.2234\n",
      "4/4 [==============================] - 0s 5ms/step\n",
      "4/4 [==============================] - 0s 2ms/step\n",
      "Epoch 1/10\n"
     ]
    },
    {
     "name": "stderr",
     "output_type": "stream",
     "text": [
      "2024-12-06 22:29:27.387197: I tensorflow/core/grappler/optimizers/custom_graph_optimizer_registry.cc:114] Plugin optimizer for device_type GPU is enabled.\n",
      "2024-12-06 22:29:27.515793: I tensorflow/core/common_runtime/executor.cc:1197] [/device:CPU:0] (DEBUG INFO) Executor start aborting (this does not indicate an error and you can ignore this message): INVALID_ARGUMENT: You must feed a value for placeholder tensor 'Placeholder/_0' with dtype double and shape [100,400]\n",
      "\t [[{{node Placeholder/_0}}]]\n",
      "2024-12-06 22:29:27.516014: I tensorflow/core/common_runtime/executor.cc:1197] [/device:CPU:0] (DEBUG INFO) Executor start aborting (this does not indicate an error and you can ignore this message): INVALID_ARGUMENT: You must feed a value for placeholder tensor 'Placeholder/_0' with dtype double and shape [100,400]\n",
      "\t [[{{node Placeholder/_0}}]]\n",
      "2024-12-06 22:29:27.682821: I tensorflow/core/grappler/optimizers/custom_graph_optimizer_registry.cc:114] Plugin optimizer for device_type GPU is enabled.\n"
     ]
    },
    {
     "name": "stdout",
     "output_type": "stream",
     "text": [
      "7/7 [==============================] - 1s 52ms/step - loss: 6.5788\n",
      "Epoch 2/10\n",
      "7/7 [==============================] - 0s 17ms/step - loss: 6.2628\n",
      "Epoch 3/10\n",
      "7/7 [==============================] - 0s 12ms/step - loss: 6.2969\n",
      "Epoch 4/10\n",
      "7/7 [==============================] - 0s 9ms/step - loss: 6.2804\n",
      "Epoch 5/10\n",
      "7/7 [==============================] - 0s 11ms/step - loss: 6.3361\n",
      "Epoch 6/10\n",
      "7/7 [==============================] - 0s 8ms/step - loss: 6.1398\n",
      "Epoch 7/10\n",
      "7/7 [==============================] - 0s 9ms/step - loss: 6.1005\n",
      "Epoch 8/10\n",
      "7/7 [==============================] - 0s 8ms/step - loss: 6.0869\n",
      "Epoch 9/10\n",
      "7/7 [==============================] - 0s 7ms/step - loss: 6.0851\n",
      "Epoch 10/10\n",
      "7/7 [==============================] - 0s 8ms/step - loss: 6.0820\n",
      "4/4 [==============================] - 0s 6ms/step\n",
      "4/4 [==============================] - 0s 2ms/step\n",
      "Epoch 1/10\n"
     ]
    },
    {
     "name": "stderr",
     "output_type": "stream",
     "text": [
      "2024-12-06 22:29:29.009124: I tensorflow/core/grappler/optimizers/custom_graph_optimizer_registry.cc:114] Plugin optimizer for device_type GPU is enabled.\n",
      "2024-12-06 22:29:29.117050: I tensorflow/core/common_runtime/executor.cc:1197] [/device:CPU:0] (DEBUG INFO) Executor start aborting (this does not indicate an error and you can ignore this message): INVALID_ARGUMENT: You must feed a value for placeholder tensor 'Placeholder/_3' with dtype double and shape [1000,15]\n",
      "\t [[{{node Placeholder/_3}}]]\n",
      "2024-12-06 22:29:29.117293: I tensorflow/core/common_runtime/executor.cc:1197] [/device:CPU:0] (DEBUG INFO) Executor start aborting (this does not indicate an error and you can ignore this message): INVALID_ARGUMENT: You must feed a value for placeholder tensor 'Placeholder/_1' with dtype double and shape [1000]\n",
      "\t [[{{node Placeholder/_1}}]]\n",
      "2024-12-06 22:29:29.362708: I tensorflow/core/grappler/optimizers/custom_graph_optimizer_registry.cc:114] Plugin optimizer for device_type GPU is enabled.\n"
     ]
    },
    {
     "name": "stdout",
     "output_type": "stream",
     "text": [
      "63/63 [==============================] - 1s 13ms/step - loss: 5.4207\n",
      "Epoch 2/10\n",
      "63/63 [==============================] - 0s 8ms/step - loss: 4.2854\n",
      "Epoch 3/10\n",
      "63/63 [==============================] - 1s 8ms/step - loss: 3.6612\n",
      "Epoch 4/10\n",
      "63/63 [==============================] - 0s 8ms/step - loss: 2.1840\n",
      "Epoch 5/10\n",
      "63/63 [==============================] - 1s 8ms/step - loss: 0.8222\n",
      "Epoch 6/10\n",
      "63/63 [==============================] - 0s 8ms/step - loss: 0.7311\n",
      "Epoch 7/10\n",
      "63/63 [==============================] - 0s 8ms/step - loss: 0.7316\n",
      "Epoch 8/10\n",
      "63/63 [==============================] - 0s 8ms/step - loss: 0.7293\n",
      "Epoch 9/10\n",
      "63/63 [==============================] - 0s 7ms/step - loss: 0.7285\n",
      "Epoch 10/10\n",
      "63/63 [==============================] - 0s 8ms/step - loss: 0.7286\n",
      "32/32 [==============================] - 0s 2ms/step\n",
      "32/32 [==============================] - 0s 2ms/step\n",
      "Epoch 1/10\n"
     ]
    },
    {
     "name": "stderr",
     "output_type": "stream",
     "text": [
      "2024-12-06 22:29:34.916204: I tensorflow/core/grappler/optimizers/custom_graph_optimizer_registry.cc:114] Plugin optimizer for device_type GPU is enabled.\n",
      "2024-12-06 22:29:35.112819: I tensorflow/core/common_runtime/executor.cc:1197] [/device:CPU:0] (DEBUG INFO) Executor start aborting (this does not indicate an error and you can ignore this message): INVALID_ARGUMENT: You must feed a value for placeholder tensor 'Placeholder/_1' with dtype double and shape [1000]\n",
      "\t [[{{node Placeholder/_1}}]]\n",
      "2024-12-06 22:29:35.113056: I tensorflow/core/common_runtime/executor.cc:1197] [/device:CPU:0] (DEBUG INFO) Executor start aborting (this does not indicate an error and you can ignore this message): INVALID_ARGUMENT: You must feed a value for placeholder tensor 'Placeholder/_4' with dtype double and shape [1000]\n",
      "\t [[{{node Placeholder/_4}}]]\n",
      "2024-12-06 22:29:35.267420: I tensorflow/core/grappler/optimizers/custom_graph_optimizer_registry.cc:114] Plugin optimizer for device_type GPU is enabled.\n"
     ]
    },
    {
     "name": "stdout",
     "output_type": "stream",
     "text": [
      "63/63 [==============================] - 1s 13ms/step - loss: 4.4520\n",
      "Epoch 2/10\n",
      "63/63 [==============================] - 1s 8ms/step - loss: 1.8709\n",
      "Epoch 3/10\n",
      "63/63 [==============================] - 0s 8ms/step - loss: 0.7107\n",
      "Epoch 4/10\n",
      "63/63 [==============================] - 0s 7ms/step - loss: 0.7065\n",
      "Epoch 5/10\n",
      "63/63 [==============================] - 1s 8ms/step - loss: 0.7056\n",
      "Epoch 6/10\n",
      "63/63 [==============================] - 0s 7ms/step - loss: 0.7087\n",
      "Epoch 7/10\n",
      "63/63 [==============================] - 0s 8ms/step - loss: 0.7101\n",
      "Epoch 8/10\n",
      "63/63 [==============================] - 0s 8ms/step - loss: 0.7124\n",
      "Epoch 9/10\n",
      "63/63 [==============================] - 0s 7ms/step - loss: 0.7139\n",
      "Epoch 10/10\n",
      "63/63 [==============================] - 0s 8ms/step - loss: 0.7143\n",
      "32/32 [==============================] - 0s 2ms/step\n",
      "32/32 [==============================] - 0s 2ms/step\n"
     ]
    },
    {
     "name": "stderr",
     "output_type": "stream",
     "text": [
      "2024-12-06 22:29:40.795438: I tensorflow/core/grappler/optimizers/custom_graph_optimizer_registry.cc:114] Plugin optimizer for device_type GPU is enabled.\n",
      "2024-12-06 22:29:40.995362: I tensorflow/core/common_runtime/executor.cc:1197] [/device:CPU:0] (DEBUG INFO) Executor start aborting (this does not indicate an error and you can ignore this message): INVALID_ARGUMENT: You must feed a value for placeholder tensor 'Placeholder/_4' with dtype double and shape [1000]\n",
      "\t [[{{node Placeholder/_4}}]]\n",
      "2024-12-06 22:29:40.995600: I tensorflow/core/common_runtime/executor.cc:1197] [/device:CPU:0] (DEBUG INFO) Executor start aborting (this does not indicate an error and you can ignore this message): INVALID_ARGUMENT: You must feed a value for placeholder tensor 'Placeholder/_1' with dtype double and shape [1000]\n",
      "\t [[{{node Placeholder/_1}}]]\n"
     ]
    },
    {
     "name": "stdout",
     "output_type": "stream",
     "text": [
      "Epoch 1/10\n"
     ]
    },
    {
     "name": "stderr",
     "output_type": "stream",
     "text": [
      "2024-12-06 22:29:41.141529: I tensorflow/core/grappler/optimizers/custom_graph_optimizer_registry.cc:114] Plugin optimizer for device_type GPU is enabled.\n"
     ]
    },
    {
     "name": "stdout",
     "output_type": "stream",
     "text": [
      "63/63 [==============================] - 1s 13ms/step - loss: 5.7749\n",
      "Epoch 2/10\n",
      "63/63 [==============================] - 1s 8ms/step - loss: 5.4938\n",
      "Epoch 3/10\n",
      "63/63 [==============================] - 0s 8ms/step - loss: 5.1402\n",
      "Epoch 4/10\n",
      "63/63 [==============================] - 0s 8ms/step - loss: 4.8992\n",
      "Epoch 5/10\n",
      "63/63 [==============================] - 0s 8ms/step - loss: 4.2954\n",
      "Epoch 6/10\n",
      "63/63 [==============================] - 0s 7ms/step - loss: 4.5192\n",
      "Epoch 7/10\n",
      "63/63 [==============================] - 0s 8ms/step - loss: 4.9597\n",
      "Epoch 8/10\n",
      "63/63 [==============================] - 0s 7ms/step - loss: 4.3302\n",
      "Epoch 9/10\n",
      "63/63 [==============================] - 0s 7ms/step - loss: 4.8705\n",
      "Epoch 10/10\n",
      "63/63 [==============================] - 0s 8ms/step - loss: 4.4324\n",
      "32/32 [==============================] - 0s 2ms/step\n",
      "32/32 [==============================] - 0s 2ms/step\n"
     ]
    },
    {
     "name": "stderr",
     "output_type": "stream",
     "text": [
      "2024-12-06 22:29:46.677471: I tensorflow/core/grappler/optimizers/custom_graph_optimizer_registry.cc:114] Plugin optimizer for device_type GPU is enabled.\n"
     ]
    },
    {
     "name": "stdout",
     "output_type": "stream",
     "text": [
      "Epoch 1/10\n"
     ]
    },
    {
     "name": "stderr",
     "output_type": "stream",
     "text": [
      "2024-12-06 22:29:46.883579: I tensorflow/core/common_runtime/executor.cc:1197] [/device:CPU:0] (DEBUG INFO) Executor start aborting (this does not indicate an error and you can ignore this message): INVALID_ARGUMENT: You must feed a value for placeholder tensor 'Placeholder/_0' with dtype double and shape [1000,20]\n",
      "\t [[{{node Placeholder/_0}}]]\n",
      "2024-12-06 22:29:46.883818: I tensorflow/core/common_runtime/executor.cc:1197] [/device:CPU:0] (DEBUG INFO) Executor start aborting (this does not indicate an error and you can ignore this message): INVALID_ARGUMENT: You must feed a value for placeholder tensor 'Placeholder/_1' with dtype double and shape [1000]\n",
      "\t [[{{node Placeholder/_1}}]]\n",
      "2024-12-06 22:29:47.036134: I tensorflow/core/grappler/optimizers/custom_graph_optimizer_registry.cc:114] Plugin optimizer for device_type GPU is enabled.\n"
     ]
    },
    {
     "name": "stdout",
     "output_type": "stream",
     "text": [
      "63/63 [==============================] - 1s 13ms/step - loss: 5.4528\n",
      "Epoch 2/10\n",
      "63/63 [==============================] - 0s 8ms/step - loss: 4.5216\n",
      "Epoch 3/10\n",
      "63/63 [==============================] - 0s 8ms/step - loss: 2.4084\n",
      "Epoch 4/10\n",
      "63/63 [==============================] - 1s 9ms/step - loss: 0.7515\n",
      "Epoch 5/10\n",
      "63/63 [==============================] - 0s 8ms/step - loss: 0.7117\n",
      "Epoch 6/10\n",
      "63/63 [==============================] - 1s 10ms/step - loss: 0.7066\n",
      "Epoch 7/10\n",
      "63/63 [==============================] - 1s 8ms/step - loss: 0.7081\n",
      "Epoch 8/10\n",
      "63/63 [==============================] - 0s 7ms/step - loss: 0.7129\n",
      "Epoch 9/10\n",
      "63/63 [==============================] - 1s 8ms/step - loss: 0.7119\n",
      "Epoch 10/10\n",
      "63/63 [==============================] - 0s 8ms/step - loss: 0.7132\n",
      "32/32 [==============================] - 0s 2ms/step\n",
      "32/32 [==============================] - 0s 2ms/step\n"
     ]
    },
    {
     "name": "stderr",
     "output_type": "stream",
     "text": [
      "2024-12-06 22:29:52.906565: I tensorflow/core/grappler/optimizers/custom_graph_optimizer_registry.cc:114] Plugin optimizer for device_type GPU is enabled.\n"
     ]
    },
    {
     "name": "stdout",
     "output_type": "stream",
     "text": [
      "Epoch 1/10\n"
     ]
    },
    {
     "name": "stderr",
     "output_type": "stream",
     "text": [
      "2024-12-06 22:29:53.163864: I tensorflow/core/common_runtime/executor.cc:1197] [/device:CPU:0] (DEBUG INFO) Executor start aborting (this does not indicate an error and you can ignore this message): INVALID_ARGUMENT: You must feed a value for placeholder tensor 'Placeholder/_3' with dtype double and shape [1000,150]\n",
      "\t [[{{node Placeholder/_3}}]]\n",
      "2024-12-06 22:29:53.164100: I tensorflow/core/common_runtime/executor.cc:1197] [/device:CPU:0] (DEBUG INFO) Executor start aborting (this does not indicate an error and you can ignore this message): INVALID_ARGUMENT: You must feed a value for placeholder tensor 'Placeholder/_3' with dtype double and shape [1000,150]\n",
      "\t [[{{node Placeholder/_3}}]]\n",
      "2024-12-06 22:29:53.363120: I tensorflow/core/grappler/optimizers/custom_graph_optimizer_registry.cc:114] Plugin optimizer for device_type GPU is enabled.\n"
     ]
    },
    {
     "name": "stdout",
     "output_type": "stream",
     "text": [
      "63/63 [==============================] - 1s 13ms/step - loss: 6.3628\n",
      "Epoch 2/10\n",
      "63/63 [==============================] - 1s 9ms/step - loss: 6.1168\n",
      "Epoch 3/10\n",
      "63/63 [==============================] - 1s 8ms/step - loss: 6.0245\n",
      "Epoch 4/10\n",
      "63/63 [==============================] - 0s 8ms/step - loss: 6.0621\n",
      "Epoch 5/10\n",
      "63/63 [==============================] - 1s 8ms/step - loss: 6.0743\n",
      "Epoch 6/10\n",
      "63/63 [==============================] - 0s 7ms/step - loss: 6.0254\n",
      "Epoch 7/10\n",
      "63/63 [==============================] - 0s 7ms/step - loss: 6.0620\n",
      "Epoch 8/10\n",
      "63/63 [==============================] - 0s 8ms/step - loss: 6.4574\n",
      "Epoch 9/10\n",
      "63/63 [==============================] - 0s 7ms/step - loss: 6.2718\n",
      "Epoch 10/10\n",
      "63/63 [==============================] - 0s 8ms/step - loss: 6.5212\n",
      "32/32 [==============================] - 0s 2ms/step\n",
      "32/32 [==============================] - 0s 2ms/step\n",
      "Epoch 1/10\n"
     ]
    },
    {
     "name": "stderr",
     "output_type": "stream",
     "text": [
      "2024-12-06 22:29:59.014404: I tensorflow/core/grappler/optimizers/custom_graph_optimizer_registry.cc:114] Plugin optimizer for device_type GPU is enabled.\n",
      "2024-12-06 22:29:59.210731: I tensorflow/core/common_runtime/executor.cc:1197] [/device:CPU:0] (DEBUG INFO) Executor start aborting (this does not indicate an error and you can ignore this message): INVALID_ARGUMENT: You must feed a value for placeholder tensor 'Placeholder/_0' with dtype double and shape [1000,100]\n",
      "\t [[{{node Placeholder/_0}}]]\n",
      "2024-12-06 22:29:59.210977: I tensorflow/core/common_runtime/executor.cc:1197] [/device:CPU:0] (DEBUG INFO) Executor start aborting (this does not indicate an error and you can ignore this message): INVALID_ARGUMENT: You must feed a value for placeholder tensor 'Placeholder/_3' with dtype double and shape [1000,100]\n",
      "\t [[{{node Placeholder/_3}}]]\n",
      "2024-12-06 22:29:59.399933: I tensorflow/core/grappler/optimizers/custom_graph_optimizer_registry.cc:114] Plugin optimizer for device_type GPU is enabled.\n"
     ]
    },
    {
     "name": "stdout",
     "output_type": "stream",
     "text": [
      "63/63 [==============================] - 1s 13ms/step - loss: 6.3330\n",
      "Epoch 2/10\n",
      "63/63 [==============================] - 1s 8ms/step - loss: 6.0358\n",
      "Epoch 3/10\n",
      "63/63 [==============================] - 0s 7ms/step - loss: 5.8449\n",
      "Epoch 4/10\n",
      "63/63 [==============================] - 1s 8ms/step - loss: 5.7781\n",
      "Epoch 5/10\n",
      "63/63 [==============================] - 1s 8ms/step - loss: 5.6662\n",
      "Epoch 6/10\n",
      "63/63 [==============================] - 1s 8ms/step - loss: 5.8232\n",
      "Epoch 7/10\n",
      "63/63 [==============================] - 1s 8ms/step - loss: 5.7859\n",
      "Epoch 8/10\n",
      "63/63 [==============================] - 1s 8ms/step - loss: 5.8031\n",
      "Epoch 9/10\n",
      "63/63 [==============================] - 0s 8ms/step - loss: 5.8158\n",
      "Epoch 10/10\n",
      "63/63 [==============================] - 0s 8ms/step - loss: 5.8242\n",
      "32/32 [==============================] - 0s 2ms/step\n",
      "32/32 [==============================] - 0s 1ms/step\n"
     ]
    },
    {
     "name": "stderr",
     "output_type": "stream",
     "text": [
      "2024-12-06 22:30:05.107439: I tensorflow/core/grappler/optimizers/custom_graph_optimizer_registry.cc:114] Plugin optimizer for device_type GPU is enabled.\n",
      "2024-12-06 22:30:05.305471: I tensorflow/core/common_runtime/executor.cc:1197] [/device:CPU:0] (DEBUG INFO) Executor start aborting (this does not indicate an error and you can ignore this message): INVALID_ARGUMENT: You must feed a value for placeholder tensor 'Placeholder/_0' with dtype double and shape [1000,300]\n",
      "\t [[{{node Placeholder/_0}}]]\n",
      "2024-12-06 22:30:05.305717: I tensorflow/core/common_runtime/executor.cc:1197] [/device:CPU:0] (DEBUG INFO) Executor start aborting (this does not indicate an error and you can ignore this message): INVALID_ARGUMENT: You must feed a value for placeholder tensor 'Placeholder/_4' with dtype double and shape [1000]\n",
      "\t [[{{node Placeholder/_4}}]]\n"
     ]
    },
    {
     "name": "stdout",
     "output_type": "stream",
     "text": [
      "Epoch 1/10\n"
     ]
    },
    {
     "name": "stderr",
     "output_type": "stream",
     "text": [
      "2024-12-06 22:30:05.486457: I tensorflow/core/grappler/optimizers/custom_graph_optimizer_registry.cc:114] Plugin optimizer for device_type GPU is enabled.\n"
     ]
    },
    {
     "name": "stdout",
     "output_type": "stream",
     "text": [
      "63/63 [==============================] - 1s 13ms/step - loss: 6.9139\n",
      "Epoch 2/10\n",
      "63/63 [==============================] - 1s 10ms/step - loss: 6.7557\n",
      "Epoch 3/10\n",
      "63/63 [==============================] - 1s 8ms/step - loss: 6.6983\n",
      "Epoch 4/10\n",
      "63/63 [==============================] - 1s 8ms/step - loss: 6.5471\n",
      "Epoch 5/10\n",
      "63/63 [==============================] - 1s 8ms/step - loss: 6.6431\n",
      "Epoch 6/10\n",
      "63/63 [==============================] - 0s 8ms/step - loss: 6.4995\n",
      "Epoch 7/10\n",
      "63/63 [==============================] - 0s 8ms/step - loss: 6.5888\n",
      "Epoch 8/10\n",
      "63/63 [==============================] - 1s 9ms/step - loss: 6.6023\n",
      "Epoch 9/10\n",
      "63/63 [==============================] - 1s 8ms/step - loss: 6.5892\n",
      "Epoch 10/10\n",
      "63/63 [==============================] - 1s 9ms/step - loss: 6.7680\n",
      "32/32 [==============================] - 0s 2ms/step\n",
      "24/32 [=====================>........] - ETA: 0s"
     ]
    },
    {
     "name": "stderr",
     "output_type": "stream",
     "text": [
      "2024-12-06 22:30:11.540179: I tensorflow/core/grappler/optimizers/custom_graph_optimizer_registry.cc:114] Plugin optimizer for device_type GPU is enabled.\n"
     ]
    },
    {
     "name": "stdout",
     "output_type": "stream",
     "text": [
      "32/32 [==============================] - 0s 2ms/step\n",
      "Epoch 1/10\n"
     ]
    },
    {
     "name": "stderr",
     "output_type": "stream",
     "text": [
      "2024-12-06 22:30:11.780305: I tensorflow/core/common_runtime/executor.cc:1197] [/device:CPU:0] (DEBUG INFO) Executor start aborting (this does not indicate an error and you can ignore this message): INVALID_ARGUMENT: You must feed a value for placeholder tensor 'Placeholder/_3' with dtype double and shape [1000,200]\n",
      "\t [[{{node Placeholder/_3}}]]\n",
      "2024-12-06 22:30:11.780540: I tensorflow/core/common_runtime/executor.cc:1197] [/device:CPU:0] (DEBUG INFO) Executor start aborting (this does not indicate an error and you can ignore this message): INVALID_ARGUMENT: You must feed a value for placeholder tensor 'Placeholder/_0' with dtype double and shape [1000,200]\n",
      "\t [[{{node Placeholder/_0}}]]\n",
      "2024-12-06 22:30:11.949597: I tensorflow/core/grappler/optimizers/custom_graph_optimizer_registry.cc:114] Plugin optimizer for device_type GPU is enabled.\n"
     ]
    },
    {
     "name": "stdout",
     "output_type": "stream",
     "text": [
      "63/63 [==============================] - 1s 13ms/step - loss: 6.9098\n",
      "Epoch 2/10\n",
      "63/63 [==============================] - 1s 8ms/step - loss: 6.5897\n",
      "Epoch 3/10\n",
      "63/63 [==============================] - 1s 8ms/step - loss: 6.6621\n",
      "Epoch 4/10\n",
      "63/63 [==============================] - 0s 8ms/step - loss: 6.5957\n",
      "Epoch 5/10\n",
      "63/63 [==============================] - 1s 8ms/step - loss: 6.5780\n",
      "Epoch 6/10\n",
      "63/63 [==============================] - 1s 8ms/step - loss: 6.7096\n",
      "Epoch 7/10\n",
      "63/63 [==============================] - 1s 9ms/step - loss: 6.6326\n",
      "Epoch 8/10\n",
      "63/63 [==============================] - 1s 8ms/step - loss: 6.6340\n",
      "Epoch 9/10\n",
      "63/63 [==============================] - 1s 8ms/step - loss: 6.5940\n",
      "Epoch 10/10\n",
      "63/63 [==============================] - 1s 8ms/step - loss: 6.6299\n",
      "32/32 [==============================] - 0s 2ms/step\n",
      " 1/32 [..............................] - ETA: 0s"
     ]
    },
    {
     "name": "stderr",
     "output_type": "stream",
     "text": [
      "2024-12-06 22:30:17.909060: I tensorflow/core/grappler/optimizers/custom_graph_optimizer_registry.cc:114] Plugin optimizer for device_type GPU is enabled.\n"
     ]
    },
    {
     "name": "stdout",
     "output_type": "stream",
     "text": [
      "32/32 [==============================] - 0s 2ms/step\n",
      "Epoch 1/10\n"
     ]
    },
    {
     "name": "stderr",
     "output_type": "stream",
     "text": [
      "2024-12-06 22:30:18.182106: I tensorflow/core/common_runtime/executor.cc:1197] [/device:CPU:0] (DEBUG INFO) Executor start aborting (this does not indicate an error and you can ignore this message): INVALID_ARGUMENT: You must feed a value for placeholder tensor 'Placeholder/_3' with dtype double and shape [1000,600]\n",
      "\t [[{{node Placeholder/_3}}]]\n",
      "2024-12-06 22:30:18.182377: I tensorflow/core/common_runtime/executor.cc:1197] [/device:CPU:0] (DEBUG INFO) Executor start aborting (this does not indicate an error and you can ignore this message): INVALID_ARGUMENT: You must feed a value for placeholder tensor 'Placeholder/_3' with dtype double and shape [1000,600]\n",
      "\t [[{{node Placeholder/_3}}]]\n",
      "2024-12-06 22:30:18.347273: I tensorflow/core/grappler/optimizers/custom_graph_optimizer_registry.cc:114] Plugin optimizer for device_type GPU is enabled.\n"
     ]
    },
    {
     "name": "stdout",
     "output_type": "stream",
     "text": [
      "63/63 [==============================] - 1s 14ms/step - loss: 6.7197\n",
      "Epoch 2/10\n",
      "63/63 [==============================] - 1s 9ms/step - loss: 6.6199\n",
      "Epoch 3/10\n",
      "63/63 [==============================] - 1s 9ms/step - loss: 6.6912\n",
      "Epoch 4/10\n",
      "63/63 [==============================] - 1s 9ms/step - loss: 6.7467\n",
      "Epoch 5/10\n",
      "63/63 [==============================] - 1s 9ms/step - loss: 6.7947\n",
      "Epoch 6/10\n",
      "63/63 [==============================] - 1s 9ms/step - loss: 6.7341\n",
      "Epoch 7/10\n",
      "63/63 [==============================] - 1s 8ms/step - loss: 6.7911\n",
      "Epoch 8/10\n",
      "63/63 [==============================] - 1s 9ms/step - loss: 6.7830\n",
      "Epoch 9/10\n",
      "63/63 [==============================] - 1s 9ms/step - loss: 6.7339\n",
      "Epoch 10/10\n",
      "63/63 [==============================] - 1s 9ms/step - loss: 6.8545\n",
      "32/32 [==============================] - 0s 3ms/step\n",
      "32/32 [==============================] - 0s 2ms/step\n"
     ]
    },
    {
     "name": "stderr",
     "output_type": "stream",
     "text": [
      "2024-12-06 22:30:24.531808: I tensorflow/core/grappler/optimizers/custom_graph_optimizer_registry.cc:114] Plugin optimizer for device_type GPU is enabled.\n"
     ]
    },
    {
     "name": "stdout",
     "output_type": "stream",
     "text": [
      "Epoch 1/10\n"
     ]
    },
    {
     "name": "stderr",
     "output_type": "stream",
     "text": [
      "2024-12-06 22:30:24.772665: I tensorflow/core/common_runtime/executor.cc:1197] [/device:CPU:0] (DEBUG INFO) Executor start aborting (this does not indicate an error and you can ignore this message): INVALID_ARGUMENT: You must feed a value for placeholder tensor 'Placeholder/_3' with dtype double and shape [1000,400]\n",
      "\t [[{{node Placeholder/_3}}]]\n",
      "2024-12-06 22:30:24.772900: I tensorflow/core/common_runtime/executor.cc:1197] [/device:CPU:0] (DEBUG INFO) Executor start aborting (this does not indicate an error and you can ignore this message): INVALID_ARGUMENT: You must feed a value for placeholder tensor 'Placeholder/_1' with dtype double and shape [1000]\n",
      "\t [[{{node Placeholder/_1}}]]\n",
      "2024-12-06 22:30:24.945478: I tensorflow/core/grappler/optimizers/custom_graph_optimizer_registry.cc:114] Plugin optimizer for device_type GPU is enabled.\n"
     ]
    },
    {
     "name": "stdout",
     "output_type": "stream",
     "text": [
      "63/63 [==============================] - 1s 14ms/step - loss: 6.7609\n",
      "Epoch 2/10\n",
      "63/63 [==============================] - 1s 8ms/step - loss: 6.6901\n",
      "Epoch 3/10\n",
      "63/63 [==============================] - 1s 8ms/step - loss: 6.5169\n",
      "Epoch 4/10\n",
      "63/63 [==============================] - 1s 8ms/step - loss: 6.4430\n",
      "Epoch 5/10\n",
      "63/63 [==============================] - 0s 8ms/step - loss: 6.3637\n",
      "Epoch 6/10\n",
      "63/63 [==============================] - 0s 8ms/step - loss: 6.4557\n",
      "Epoch 7/10\n",
      "63/63 [==============================] - 0s 8ms/step - loss: 6.5151\n",
      "Epoch 8/10\n",
      "63/63 [==============================] - 0s 8ms/step - loss: 6.7013\n",
      "Epoch 9/10\n",
      "63/63 [==============================] - 1s 8ms/step - loss: 6.7379\n",
      "Epoch 10/10\n",
      "63/63 [==============================] - 0s 8ms/step - loss: 6.9525\n",
      "32/32 [==============================] - 0s 2ms/step\n",
      "32/32 [==============================] - 0s 2ms/step\n"
     ]
    },
    {
     "name": "stderr",
     "output_type": "stream",
     "text": [
      "2024-12-06 22:30:30.728349: I tensorflow/core/grappler/optimizers/custom_graph_optimizer_registry.cc:114] Plugin optimizer for device_type GPU is enabled.\n"
     ]
    },
    {
     "name": "stdout",
     "output_type": "stream",
     "text": [
      "Epoch 1/10\n"
     ]
    },
    {
     "name": "stderr",
     "output_type": "stream",
     "text": [
      "2024-12-06 22:30:30.944942: I tensorflow/core/common_runtime/executor.cc:1197] [/device:CPU:0] (DEBUG INFO) Executor start aborting (this does not indicate an error and you can ignore this message): INVALID_ARGUMENT: You must feed a value for placeholder tensor 'Placeholder/_1' with dtype double and shape [10000]\n",
      "\t [[{{node Placeholder/_1}}]]\n",
      "2024-12-06 22:30:30.945170: I tensorflow/core/common_runtime/executor.cc:1197] [/device:CPU:0] (DEBUG INFO) Executor start aborting (this does not indicate an error and you can ignore this message): INVALID_ARGUMENT: You must feed a value for placeholder tensor 'Placeholder/_0' with dtype double and shape [10000,15]\n",
      "\t [[{{node Placeholder/_0}}]]\n",
      "2024-12-06 22:30:31.105164: I tensorflow/core/grappler/optimizers/custom_graph_optimizer_registry.cc:114] Plugin optimizer for device_type GPU is enabled.\n"
     ]
    },
    {
     "name": "stdout",
     "output_type": "stream",
     "text": [
      "625/625 [==============================] - 5s 8ms/step - loss: 2.5508\n",
      "Epoch 2/10\n",
      "625/625 [==============================] - 5s 8ms/step - loss: 0.8674\n",
      "Epoch 3/10\n",
      "625/625 [==============================] - 5s 8ms/step - loss: 0.8795\n",
      "Epoch 4/10\n",
      "625/625 [==============================] - 5s 8ms/step - loss: 0.9392\n",
      "Epoch 5/10\n",
      "625/625 [==============================] - 5s 8ms/step - loss: 0.9148\n",
      "Epoch 6/10\n",
      "625/625 [==============================] - 5s 8ms/step - loss: 4.1217\n",
      "Epoch 7/10\n",
      "625/625 [==============================] - 5s 8ms/step - loss: 6.9314\n",
      "Epoch 8/10\n",
      "625/625 [==============================] - 5s 8ms/step - loss: 5.8571\n",
      "Epoch 9/10\n",
      "625/625 [==============================] - 5s 8ms/step - loss: 5.7149\n",
      "Epoch 10/10\n",
      "625/625 [==============================] - 5s 8ms/step - loss: 4.6496\n",
      " 82/313 [======>.......................] - ETA: 0s"
     ]
    },
    {
     "name": "stderr",
     "output_type": "stream",
     "text": [
      "2024-12-06 22:31:19.041316: I tensorflow/core/grappler/optimizers/custom_graph_optimizer_registry.cc:114] Plugin optimizer for device_type GPU is enabled.\n"
     ]
    },
    {
     "name": "stdout",
     "output_type": "stream",
     "text": [
      "313/313 [==============================] - 1s 2ms/step\n",
      "313/313 [==============================] - 0s 1ms/step\n",
      "Epoch 1/10\n"
     ]
    },
    {
     "name": "stderr",
     "output_type": "stream",
     "text": [
      "2024-12-06 22:31:20.184665: I tensorflow/core/common_runtime/executor.cc:1197] [/device:CPU:0] (DEBUG INFO) Executor start aborting (this does not indicate an error and you can ignore this message): INVALID_ARGUMENT: You must feed a value for placeholder tensor 'Placeholder/_0' with dtype double and shape [10000,10]\n",
      "\t [[{{node Placeholder/_0}}]]\n",
      "2024-12-06 22:31:20.184898: I tensorflow/core/common_runtime/executor.cc:1197] [/device:CPU:0] (DEBUG INFO) Executor start aborting (this does not indicate an error and you can ignore this message): INVALID_ARGUMENT: You must feed a value for placeholder tensor 'Placeholder/_0' with dtype double and shape [10000,10]\n",
      "\t [[{{node Placeholder/_0}}]]\n",
      "2024-12-06 22:31:20.345513: I tensorflow/core/grappler/optimizers/custom_graph_optimizer_registry.cc:114] Plugin optimizer for device_type GPU is enabled.\n"
     ]
    },
    {
     "name": "stdout",
     "output_type": "stream",
     "text": [
      "625/625 [==============================] - 5s 8ms/step - loss: 2.1235\n",
      "Epoch 2/10\n",
      "625/625 [==============================] - 5s 8ms/step - loss: 0.7696\n",
      "Epoch 3/10\n",
      "625/625 [==============================] - 5s 7ms/step - loss: 1.5781\n",
      "Epoch 4/10\n",
      "625/625 [==============================] - 5s 8ms/step - loss: 1.7837\n",
      "Epoch 5/10\n",
      "625/625 [==============================] - 5s 8ms/step - loss: 0.6698\n",
      "Epoch 6/10\n",
      "625/625 [==============================] - 5s 7ms/step - loss: 0.9889\n",
      "Epoch 7/10\n",
      "625/625 [==============================] - 5s 8ms/step - loss: 1.0642\n",
      "Epoch 8/10\n",
      "625/625 [==============================] - 5s 7ms/step - loss: 0.6307\n",
      "Epoch 9/10\n",
      "625/625 [==============================] - 5s 8ms/step - loss: 2.1671\n",
      "Epoch 10/10\n",
      "625/625 [==============================] - 5s 7ms/step - loss: 0.6881\n",
      "100/313 [========>.....................] - ETA: 0s"
     ]
    },
    {
     "name": "stderr",
     "output_type": "stream",
     "text": [
      "2024-12-06 22:32:08.017049: I tensorflow/core/grappler/optimizers/custom_graph_optimizer_registry.cc:114] Plugin optimizer for device_type GPU is enabled.\n"
     ]
    },
    {
     "name": "stdout",
     "output_type": "stream",
     "text": [
      "313/313 [==============================] - 1s 2ms/step\n",
      "313/313 [==============================] - 1s 2ms/step\n",
      "Epoch 1/10\n"
     ]
    },
    {
     "name": "stderr",
     "output_type": "stream",
     "text": [
      "2024-12-06 22:32:09.180118: I tensorflow/core/common_runtime/executor.cc:1197] [/device:CPU:0] (DEBUG INFO) Executor start aborting (this does not indicate an error and you can ignore this message): INVALID_ARGUMENT: You must feed a value for placeholder tensor 'Placeholder/_1' with dtype double and shape [10000]\n",
      "\t [[{{node Placeholder/_1}}]]\n",
      "2024-12-06 22:32:09.180365: I tensorflow/core/common_runtime/executor.cc:1197] [/device:CPU:0] (DEBUG INFO) Executor start aborting (this does not indicate an error and you can ignore this message): INVALID_ARGUMENT: You must feed a value for placeholder tensor 'Placeholder/_1' with dtype double and shape [10000]\n",
      "\t [[{{node Placeholder/_1}}]]\n",
      "2024-12-06 22:32:09.342949: I tensorflow/core/grappler/optimizers/custom_graph_optimizer_registry.cc:114] Plugin optimizer for device_type GPU is enabled.\n"
     ]
    },
    {
     "name": "stdout",
     "output_type": "stream",
     "text": [
      "625/625 [==============================] - 5s 8ms/step - loss: 5.1692\n",
      "Epoch 2/10\n",
      "625/625 [==============================] - 5s 8ms/step - loss: 6.4144\n",
      "Epoch 3/10\n",
      "625/625 [==============================] - 5s 7ms/step - loss: 6.4502\n",
      "Epoch 4/10\n",
      "625/625 [==============================] - 5s 7ms/step - loss: 6.5499\n",
      "Epoch 5/10\n",
      "625/625 [==============================] - 5s 7ms/step - loss: 6.5526\n",
      "Epoch 6/10\n",
      "625/625 [==============================] - 5s 8ms/step - loss: 6.7021\n",
      "Epoch 7/10\n",
      "625/625 [==============================] - 70s 112ms/step - loss: 6.9767\n",
      "Epoch 8/10\n",
      "625/625 [==============================] - 5s 8ms/step - loss: 6.7777\n",
      "Epoch 9/10\n",
      "625/625 [==============================] - 5s 8ms/step - loss: 6.9614\n",
      "Epoch 10/10\n",
      "625/625 [==============================] - 5s 8ms/step - loss: 6.7878\n",
      " 94/313 [========>.....................] - ETA: 0s"
     ]
    },
    {
     "name": "stderr",
     "output_type": "stream",
     "text": [
      "2024-12-06 22:34:03.269982: I tensorflow/core/grappler/optimizers/custom_graph_optimizer_registry.cc:114] Plugin optimizer for device_type GPU is enabled.\n"
     ]
    },
    {
     "name": "stdout",
     "output_type": "stream",
     "text": [
      "313/313 [==============================] - 1s 2ms/step\n",
      "313/313 [==============================] - 0s 2ms/step\n",
      "Epoch 1/10\n"
     ]
    },
    {
     "name": "stderr",
     "output_type": "stream",
     "text": [
      "2024-12-06 22:34:04.442960: I tensorflow/core/common_runtime/executor.cc:1197] [/device:CPU:0] (DEBUG INFO) Executor start aborting (this does not indicate an error and you can ignore this message): INVALID_ARGUMENT: You must feed a value for placeholder tensor 'Placeholder/_1' with dtype double and shape [10000]\n",
      "\t [[{{node Placeholder/_1}}]]\n",
      "2024-12-06 22:34:04.443232: I tensorflow/core/common_runtime/executor.cc:1197] [/device:CPU:0] (DEBUG INFO) Executor start aborting (this does not indicate an error and you can ignore this message): INVALID_ARGUMENT: You must feed a value for placeholder tensor 'Placeholder/_0' with dtype double and shape [10000,20]\n",
      "\t [[{{node Placeholder/_0}}]]\n",
      "2024-12-06 22:34:06.179692: I tensorflow/core/grappler/optimizers/custom_graph_optimizer_registry.cc:114] Plugin optimizer for device_type GPU is enabled.\n"
     ]
    },
    {
     "name": "stdout",
     "output_type": "stream",
     "text": [
      "625/625 [==============================] - 8s 9ms/step - loss: 5.5607\n",
      "Epoch 2/10\n",
      "625/625 [==============================] - 5s 8ms/step - loss: 3.2226\n",
      "Epoch 3/10\n",
      "625/625 [==============================] - 5s 8ms/step - loss: 1.0831\n",
      "Epoch 4/10\n",
      "625/625 [==============================] - 5s 8ms/step - loss: 0.6608\n",
      "Epoch 5/10\n",
      "625/625 [==============================] - 5s 8ms/step - loss: 0.6220\n",
      "Epoch 6/10\n",
      "625/625 [==============================] - 5s 8ms/step - loss: 1.4076\n",
      "Epoch 7/10\n",
      "625/625 [==============================] - 5s 8ms/step - loss: 1.0113\n",
      "Epoch 8/10\n",
      "625/625 [==============================] - 5s 8ms/step - loss: 0.5717\n",
      "Epoch 9/10\n",
      "625/625 [==============================] - 5s 8ms/step - loss: 0.8561\n",
      "Epoch 10/10\n",
      "625/625 [==============================] - 5s 8ms/step - loss: 0.6708\n",
      " 90/313 [=======>......................] - ETA: 0s"
     ]
    },
    {
     "name": "stderr",
     "output_type": "stream",
     "text": [
      "2024-12-06 22:34:57.563764: I tensorflow/core/grappler/optimizers/custom_graph_optimizer_registry.cc:114] Plugin optimizer for device_type GPU is enabled.\n"
     ]
    },
    {
     "name": "stdout",
     "output_type": "stream",
     "text": [
      "313/313 [==============================] - 1s 2ms/step\n",
      "313/313 [==============================] - 1s 2ms/step\n",
      "Epoch 1/10\n"
     ]
    },
    {
     "name": "stderr",
     "output_type": "stream",
     "text": [
      "2024-12-06 22:34:58.869960: I tensorflow/core/common_runtime/executor.cc:1197] [/device:CPU:0] (DEBUG INFO) Executor start aborting (this does not indicate an error and you can ignore this message): INVALID_ARGUMENT: You must feed a value for placeholder tensor 'Placeholder/_4' with dtype double and shape [10000]\n",
      "\t [[{{node Placeholder/_4}}]]\n",
      "2024-12-06 22:34:58.870223: I tensorflow/core/common_runtime/executor.cc:1197] [/device:CPU:0] (DEBUG INFO) Executor start aborting (this does not indicate an error and you can ignore this message): INVALID_ARGUMENT: You must feed a value for placeholder tensor 'Placeholder/_4' with dtype double and shape [10000]\n",
      "\t [[{{node Placeholder/_4}}]]\n",
      "2024-12-06 22:34:59.035287: I tensorflow/core/grappler/optimizers/custom_graph_optimizer_registry.cc:114] Plugin optimizer for device_type GPU is enabled.\n"
     ]
    },
    {
     "name": "stdout",
     "output_type": "stream",
     "text": [
      "625/625 [==============================] - 5s 8ms/step - loss: 6.4654\n",
      "Epoch 2/10\n",
      "625/625 [==============================] - 5s 8ms/step - loss: 6.8787\n",
      "Epoch 3/10\n",
      "625/625 [==============================] - 5s 8ms/step - loss: 6.8431\n",
      "Epoch 4/10\n",
      "625/625 [==============================] - 5s 8ms/step - loss: 6.7634\n",
      "Epoch 5/10\n",
      "625/625 [==============================] - 5s 8ms/step - loss: 6.8261\n",
      "Epoch 6/10\n",
      "625/625 [==============================] - 5s 8ms/step - loss: 6.6754\n",
      "Epoch 7/10\n",
      "625/625 [==============================] - 5s 8ms/step - loss: 7.0860\n",
      "Epoch 8/10\n",
      "625/625 [==============================] - 5s 8ms/step - loss: 6.8995\n",
      "Epoch 9/10\n",
      "625/625 [==============================] - 5s 8ms/step - loss: 7.1521\n",
      "Epoch 10/10\n",
      "625/625 [==============================] - 5s 8ms/step - loss: 7.0173\n",
      " 94/313 [========>.....................] - ETA: 0s"
     ]
    },
    {
     "name": "stderr",
     "output_type": "stream",
     "text": [
      "2024-12-06 22:35:47.616080: I tensorflow/core/grappler/optimizers/custom_graph_optimizer_registry.cc:114] Plugin optimizer for device_type GPU is enabled.\n"
     ]
    },
    {
     "name": "stdout",
     "output_type": "stream",
     "text": [
      "313/313 [==============================] - 1s 2ms/step\n",
      "313/313 [==============================] - 0s 1ms/step\n",
      "Epoch 1/10\n"
     ]
    },
    {
     "name": "stderr",
     "output_type": "stream",
     "text": [
      "2024-12-06 22:35:48.765373: I tensorflow/core/common_runtime/executor.cc:1197] [/device:CPU:0] (DEBUG INFO) Executor start aborting (this does not indicate an error and you can ignore this message): INVALID_ARGUMENT: You must feed a value for placeholder tensor 'Placeholder/_3' with dtype double and shape [10000,100]\n",
      "\t [[{{node Placeholder/_3}}]]\n",
      "2024-12-06 22:35:48.765610: I tensorflow/core/common_runtime/executor.cc:1197] [/device:CPU:0] (DEBUG INFO) Executor start aborting (this does not indicate an error and you can ignore this message): INVALID_ARGUMENT: You must feed a value for placeholder tensor 'Placeholder/_1' with dtype double and shape [10000]\n",
      "\t [[{{node Placeholder/_1}}]]\n",
      "2024-12-06 22:35:48.923346: I tensorflow/core/grappler/optimizers/custom_graph_optimizer_registry.cc:114] Plugin optimizer for device_type GPU is enabled.\n"
     ]
    },
    {
     "name": "stdout",
     "output_type": "stream",
     "text": [
      "625/625 [==============================] - 6s 8ms/step - loss: 6.7119\n",
      "Epoch 2/10\n",
      "625/625 [==============================] - 5s 8ms/step - loss: 7.0476\n",
      "Epoch 3/10\n",
      "625/625 [==============================] - 5s 8ms/step - loss: 7.1606\n",
      "Epoch 4/10\n",
      "625/625 [==============================] - 5s 8ms/step - loss: 7.0117\n",
      "Epoch 5/10\n",
      "625/625 [==============================] - 5s 8ms/step - loss: 7.5086\n",
      "Epoch 6/10\n",
      "625/625 [==============================] - 5s 8ms/step - loss: 7.1514\n",
      "Epoch 7/10\n",
      "625/625 [==============================] - 5s 8ms/step - loss: 7.2928\n",
      "Epoch 8/10\n",
      "625/625 [==============================] - 5s 8ms/step - loss: 7.1512\n",
      "Epoch 9/10\n",
      "625/625 [==============================] - 14s 22ms/step - loss: 7.0442\n",
      "Epoch 10/10\n",
      "625/625 [==============================] - 5s 8ms/step - loss: 7.1251\n",
      " 92/313 [=======>......................] - ETA: 0s"
     ]
    },
    {
     "name": "stderr",
     "output_type": "stream",
     "text": [
      "2024-12-06 22:36:46.689431: I tensorflow/core/grappler/optimizers/custom_graph_optimizer_registry.cc:114] Plugin optimizer for device_type GPU is enabled.\n"
     ]
    },
    {
     "name": "stdout",
     "output_type": "stream",
     "text": [
      "313/313 [==============================] - 1s 2ms/step\n",
      "313/313 [==============================] - 1s 2ms/step\n",
      "Epoch 1/10\n"
     ]
    },
    {
     "name": "stderr",
     "output_type": "stream",
     "text": [
      "2024-12-06 22:36:48.005314: I tensorflow/core/common_runtime/executor.cc:1197] [/device:CPU:0] (DEBUG INFO) Executor start aborting (this does not indicate an error and you can ignore this message): INVALID_ARGUMENT: You must feed a value for placeholder tensor 'Placeholder/_4' with dtype double and shape [10000]\n",
      "\t [[{{node Placeholder/_4}}]]\n",
      "2024-12-06 22:36:48.005582: I tensorflow/core/common_runtime/executor.cc:1197] [/device:CPU:0] (DEBUG INFO) Executor start aborting (this does not indicate an error and you can ignore this message): INVALID_ARGUMENT: You must feed a value for placeholder tensor 'Placeholder/_3' with dtype double and shape [10000,300]\n",
      "\t [[{{node Placeholder/_3}}]]\n",
      "2024-12-06 22:36:48.176206: I tensorflow/core/grappler/optimizers/custom_graph_optimizer_registry.cc:114] Plugin optimizer for device_type GPU is enabled.\n"
     ]
    },
    {
     "name": "stdout",
     "output_type": "stream",
     "text": [
      "625/625 [==============================] - 5s 8ms/step - loss: 7.1229\n",
      "Epoch 2/10\n",
      "625/625 [==============================] - 5s 8ms/step - loss: 6.9465\n",
      "Epoch 3/10\n",
      "625/625 [==============================] - 5s 8ms/step - loss: 7.0262\n",
      "Epoch 4/10\n",
      "625/625 [==============================] - 5s 7ms/step - loss: 7.2432\n",
      "Epoch 5/10\n",
      "625/625 [==============================] - 5s 8ms/step - loss: 7.2373\n",
      "Epoch 6/10\n",
      "625/625 [==============================] - 5s 7ms/step - loss: 7.1179\n",
      "Epoch 7/10\n",
      "625/625 [==============================] - 5s 7ms/step - loss: 7.1968\n",
      "Epoch 8/10\n",
      "625/625 [==============================] - 5s 7ms/step - loss: 7.2592\n",
      "Epoch 9/10\n",
      "625/625 [==============================] - 5s 7ms/step - loss: 7.3636\n",
      "Epoch 10/10\n",
      "625/625 [==============================] - 5s 8ms/step - loss: 7.3941\n",
      " 90/313 [=======>......................] - ETA: 0s"
     ]
    },
    {
     "name": "stderr",
     "output_type": "stream",
     "text": [
      "2024-12-06 22:37:35.620097: I tensorflow/core/grappler/optimizers/custom_graph_optimizer_registry.cc:114] Plugin optimizer for device_type GPU is enabled.\n"
     ]
    },
    {
     "name": "stdout",
     "output_type": "stream",
     "text": [
      "313/313 [==============================] - 1s 2ms/step\n",
      "313/313 [==============================] - 0s 2ms/step\n",
      "Epoch 1/10\n"
     ]
    },
    {
     "name": "stderr",
     "output_type": "stream",
     "text": [
      "2024-12-06 22:37:36.810307: I tensorflow/core/common_runtime/executor.cc:1197] [/device:CPU:0] (DEBUG INFO) Executor start aborting (this does not indicate an error and you can ignore this message): INVALID_ARGUMENT: You must feed a value for placeholder tensor 'Placeholder/_4' with dtype double and shape [10000]\n",
      "\t [[{{node Placeholder/_4}}]]\n",
      "2024-12-06 22:37:36.810677: I tensorflow/core/common_runtime/executor.cc:1197] [/device:CPU:0] (DEBUG INFO) Executor start aborting (this does not indicate an error and you can ignore this message): INVALID_ARGUMENT: You must feed a value for placeholder tensor 'Placeholder/_1' with dtype double and shape [10000]\n",
      "\t [[{{node Placeholder/_1}}]]\n",
      "2024-12-06 22:37:36.973058: I tensorflow/core/grappler/optimizers/custom_graph_optimizer_registry.cc:114] Plugin optimizer for device_type GPU is enabled.\n"
     ]
    },
    {
     "name": "stdout",
     "output_type": "stream",
     "text": [
      "625/625 [==============================] - 5s 8ms/step - loss: 6.8781\n",
      "Epoch 2/10\n",
      "625/625 [==============================] - 5s 7ms/step - loss: 7.1027\n",
      "Epoch 3/10\n",
      "625/625 [==============================] - 5s 8ms/step - loss: 6.9339\n",
      "Epoch 4/10\n",
      "625/625 [==============================] - 5s 7ms/step - loss: 7.1446\n",
      "Epoch 5/10\n",
      "625/625 [==============================] - 5s 8ms/step - loss: 7.1077\n",
      "Epoch 6/10\n",
      "625/625 [==============================] - 5s 7ms/step - loss: 7.3296\n",
      "Epoch 7/10\n",
      "625/625 [==============================] - 5s 7ms/step - loss: 7.3614\n",
      "Epoch 8/10\n",
      "625/625 [==============================] - 5s 7ms/step - loss: 7.1475\n",
      "Epoch 9/10\n",
      "625/625 [==============================] - 5s 7ms/step - loss: 7.1806\n",
      "Epoch 10/10\n",
      "625/625 [==============================] - 5s 7ms/step - loss: 7.1109\n",
      " 97/313 [========>.....................] - ETA: 0s"
     ]
    },
    {
     "name": "stderr",
     "output_type": "stream",
     "text": [
      "2024-12-06 22:38:24.283115: I tensorflow/core/grappler/optimizers/custom_graph_optimizer_registry.cc:114] Plugin optimizer for device_type GPU is enabled.\n"
     ]
    },
    {
     "name": "stdout",
     "output_type": "stream",
     "text": [
      "313/313 [==============================] - 1s 2ms/step\n",
      "313/313 [==============================] - 1s 2ms/step\n",
      "Epoch 1/10\n"
     ]
    },
    {
     "name": "stderr",
     "output_type": "stream",
     "text": [
      "2024-12-06 22:38:25.696602: I tensorflow/core/common_runtime/executor.cc:1197] [/device:CPU:0] (DEBUG INFO) Executor start aborting (this does not indicate an error and you can ignore this message): INVALID_ARGUMENT: You must feed a value for placeholder tensor 'Placeholder/_4' with dtype double and shape [10000]\n",
      "\t [[{{node Placeholder/_4}}]]\n",
      "2024-12-06 22:38:25.696850: I tensorflow/core/common_runtime/executor.cc:1197] [/device:CPU:0] (DEBUG INFO) Executor start aborting (this does not indicate an error and you can ignore this message): INVALID_ARGUMENT: You must feed a value for placeholder tensor 'Placeholder/_4' with dtype double and shape [10000]\n",
      "\t [[{{node Placeholder/_4}}]]\n",
      "2024-12-06 22:38:25.865236: I tensorflow/core/grappler/optimizers/custom_graph_optimizer_registry.cc:114] Plugin optimizer for device_type GPU is enabled.\n"
     ]
    },
    {
     "name": "stdout",
     "output_type": "stream",
     "text": [
      "625/625 [==============================] - 5s 8ms/step - loss: 7.0367\n",
      "Epoch 2/10\n",
      "625/625 [==============================] - 5s 7ms/step - loss: 7.4096\n",
      "Epoch 3/10\n",
      "625/625 [==============================] - 5s 7ms/step - loss: 7.2925\n",
      "Epoch 4/10\n",
      "625/625 [==============================] - 5s 7ms/step - loss: 7.4013\n",
      "Epoch 5/10\n",
      "625/625 [==============================] - 5s 7ms/step - loss: 7.3691\n",
      "Epoch 6/10\n",
      "625/625 [==============================] - 5s 7ms/step - loss: 7.4112\n",
      "Epoch 7/10\n",
      "625/625 [==============================] - 5s 7ms/step - loss: 7.4615\n",
      "Epoch 8/10\n",
      "625/625 [==============================] - 5s 7ms/step - loss: 7.4248\n",
      "Epoch 9/10\n",
      "625/625 [==============================] - 5s 7ms/step - loss: 7.4054\n",
      "Epoch 10/10\n",
      "625/625 [==============================] - 5s 7ms/step - loss: 7.4464\n",
      " 96/313 [========>.....................] - ETA: 0s"
     ]
    },
    {
     "name": "stderr",
     "output_type": "stream",
     "text": [
      "2024-12-06 22:39:12.426348: I tensorflow/core/grappler/optimizers/custom_graph_optimizer_registry.cc:114] Plugin optimizer for device_type GPU is enabled.\n"
     ]
    },
    {
     "name": "stdout",
     "output_type": "stream",
     "text": [
      "313/313 [==============================] - 1s 2ms/step\n",
      "313/313 [==============================] - 1s 2ms/step\n",
      "Epoch 1/10\n"
     ]
    },
    {
     "name": "stderr",
     "output_type": "stream",
     "text": [
      "2024-12-06 22:39:13.663414: I tensorflow/core/common_runtime/executor.cc:1197] [/device:CPU:0] (DEBUG INFO) Executor start aborting (this does not indicate an error and you can ignore this message): INVALID_ARGUMENT: You must feed a value for placeholder tensor 'Placeholder/_4' with dtype double and shape [10000]\n",
      "\t [[{{node Placeholder/_4}}]]\n",
      "2024-12-06 22:39:13.663740: I tensorflow/core/common_runtime/executor.cc:1197] [/device:CPU:0] (DEBUG INFO) Executor start aborting (this does not indicate an error and you can ignore this message): INVALID_ARGUMENT: You must feed a value for placeholder tensor 'Placeholder/_3' with dtype double and shape [10000,400]\n",
      "\t [[{{node Placeholder/_3}}]]\n",
      "2024-12-06 22:39:13.834139: I tensorflow/core/grappler/optimizers/custom_graph_optimizer_registry.cc:114] Plugin optimizer for device_type GPU is enabled.\n"
     ]
    },
    {
     "name": "stdout",
     "output_type": "stream",
     "text": [
      "625/625 [==============================] - 5s 8ms/step - loss: 7.1101\n",
      "Epoch 2/10\n",
      "625/625 [==============================] - 5s 7ms/step - loss: 7.0677\n",
      "Epoch 3/10\n",
      "625/625 [==============================] - 5s 8ms/step - loss: 7.2869\n",
      "Epoch 4/10\n",
      "625/625 [==============================] - 5s 8ms/step - loss: 7.2213\n",
      "Epoch 5/10\n",
      "625/625 [==============================] - 5s 8ms/step - loss: 7.3136\n",
      "Epoch 6/10\n",
      "625/625 [==============================] - 5s 8ms/step - loss: 7.3073\n",
      "Epoch 7/10\n",
      "625/625 [==============================] - 5s 7ms/step - loss: 7.2806\n",
      "Epoch 8/10\n",
      "625/625 [==============================] - 5s 7ms/step - loss: 7.2877\n",
      "Epoch 9/10\n",
      "625/625 [==============================] - 5s 7ms/step - loss: 7.3051\n",
      "Epoch 10/10\n",
      "625/625 [==============================] - 5s 7ms/step - loss: 7.3529\n",
      "100/313 [========>.....................] - ETA: 0s"
     ]
    },
    {
     "name": "stderr",
     "output_type": "stream",
     "text": [
      "2024-12-06 22:40:02.141508: I tensorflow/core/grappler/optimizers/custom_graph_optimizer_registry.cc:114] Plugin optimizer for device_type GPU is enabled.\n"
     ]
    },
    {
     "name": "stdout",
     "output_type": "stream",
     "text": [
      "313/313 [==============================] - 1s 2ms/step\n",
      "313/313 [==============================] - 0s 2ms/step\n",
      "Results:\n",
      "|Num Samples    |Num Features   |Corr Strength  |CMI Estimate             |\n",
      "--------------------------------------------------------------------------------\n",
      "|            100|              5|           0.20|              -0.00000002|\n",
      "|            100|             10|           0.20|               0.00000000|\n",
      "|            100|             50|           0.20|               0.00000004|\n",
      "|            100|            100|           0.20|              -0.00000010|\n",
      "|            100|            200|           0.20|              -0.00000025|\n",
      "|           1000|              5|           0.20|               0.00000003|\n",
      "|           1000|             10|           0.20|               0.00000003|\n",
      "|           1000|             50|           0.20|              -0.00000001|\n",
      "|           1000|            100|           0.20|               0.00000008|\n",
      "|           1000|            200|           0.20|              -0.00000004|\n",
      "|          10000|              5|           0.20|              -0.00000005|\n",
      "|          10000|             10|           0.20|              -0.00000012|\n",
      "|          10000|             50|           0.20|              -0.00000003|\n",
      "|          10000|            100|           0.20|               0.00000006|\n",
      "|          10000|            200|           0.20|              -0.00000009|\n"
     ]
    }
   ],
   "source": [
    "# Define ranges for hyperparameters\n",
    "num_samples_range = [100, 1000, 10000]\n",
    "num_features_range = [5, 10, 50, 100, 200]  # Increased range for higher dimensions\n",
    "correlation_strength_range = [0.2]\n",
    "\n",
    "# Results dictionary\n",
    "results = {}\n",
    "\n",
    "# Loop through all combinations\n",
    "for num_samples in num_samples_range:\n",
    "    for num_features in num_features_range:\n",
    "        for correlation_strength in correlation_strength_range:\n",
    "            key = (num_samples, num_features, correlation_strength)\n",
    "            X, Y, Z = generate_data(num_samples, num_features, correlation_strength)\n",
    "            estimated_cmi = estimate_conditional_mi(X, Y, Z)\n",
    "            results[key] = estimated_cmi\n",
    "\n",
    "# Print the results in a tabular format\n",
    "print(\"Results:\")\n",
    "print(\"|{:15s}|{:15s}|{:15s}|{:25s}|\".format('Num Samples', 'Num Features', 'Corr Strength', 'CMI Estimate'))\n",
    "print(\"-\"*80)\n",
    "for key, value in results.items():\n",
    "    num_samples, num_features, correlation_strength = key\n",
    "    print(\"|{:15d}|{:15d}|{:15.2f}|{:25.8f}|\".format(num_samples, num_features, correlation_strength, value))"
   ]
  },
  {
   "cell_type": "markdown",
   "metadata": {},
   "source": [
    "Testing for correlation strength of 0.8"
   ]
  },
  {
   "cell_type": "code",
   "execution_count": 60,
   "metadata": {},
   "outputs": [
    {
     "name": "stdout",
     "output_type": "stream",
     "text": [
      "Epoch 1/10\n"
     ]
    },
    {
     "name": "stderr",
     "output_type": "stream",
     "text": [
      "2024-12-09 21:33:47.196864: I tensorflow/core/common_runtime/executor.cc:1197] [/device:CPU:0] (DEBUG INFO) Executor start aborting (this does not indicate an error and you can ignore this message): INVALID_ARGUMENT: You must feed a value for placeholder tensor 'Placeholder/_1' with dtype double and shape [100]\n",
      "\t [[{{node Placeholder/_1}}]]\n",
      "2024-12-09 21:33:47.197115: I tensorflow/core/common_runtime/executor.cc:1197] [/device:CPU:0] (DEBUG INFO) Executor start aborting (this does not indicate an error and you can ignore this message): INVALID_ARGUMENT: You must feed a value for placeholder tensor 'Placeholder/_0' with dtype double and shape [100,15]\n",
      "\t [[{{node Placeholder/_0}}]]\n",
      "2024-12-09 21:33:47.376281: I tensorflow/core/grappler/optimizers/custom_graph_optimizer_registry.cc:114] Plugin optimizer for device_type GPU is enabled.\n"
     ]
    },
    {
     "name": "stdout",
     "output_type": "stream",
     "text": [
      "7/7 [==============================] - 1s 63ms/step - loss: 4.4884\n",
      "Epoch 2/10\n",
      "7/7 [==============================] - 0s 27ms/step - loss: 4.1984\n",
      "Epoch 3/10\n",
      "7/7 [==============================] - 0s 15ms/step - loss: 3.8879\n",
      "Epoch 4/10\n",
      "7/7 [==============================] - 0s 12ms/step - loss: 4.0022\n",
      "Epoch 5/10\n",
      "7/7 [==============================] - 0s 10ms/step - loss: 3.4226\n",
      "Epoch 6/10\n",
      "7/7 [==============================] - 0s 10ms/step - loss: 3.3674\n",
      "Epoch 7/10\n",
      "7/7 [==============================] - 0s 9ms/step - loss: 3.2933\n",
      "Epoch 8/10\n",
      "7/7 [==============================] - 0s 14ms/step - loss: 2.8016\n",
      "Epoch 9/10\n",
      "7/7 [==============================] - 0s 11ms/step - loss: 2.4758\n",
      "Epoch 10/10\n",
      "7/7 [==============================] - 0s 8ms/step - loss: 2.1437\n",
      "4/4 [==============================] - 0s 5ms/step\n",
      "4/4 [==============================] - 0s 3ms/step\n",
      "Epoch 1/10\n"
     ]
    },
    {
     "name": "stderr",
     "output_type": "stream",
     "text": [
      "2024-12-09 21:33:49.158756: I tensorflow/core/grappler/optimizers/custom_graph_optimizer_registry.cc:114] Plugin optimizer for device_type GPU is enabled.\n",
      "2024-12-09 21:33:49.274713: I tensorflow/core/common_runtime/executor.cc:1197] [/device:CPU:0] (DEBUG INFO) Executor start aborting (this does not indicate an error and you can ignore this message): INVALID_ARGUMENT: You must feed a value for placeholder tensor 'Placeholder/_1' with dtype double and shape [100]\n",
      "\t [[{{node Placeholder/_1}}]]\n",
      "2024-12-09 21:33:49.274954: I tensorflow/core/common_runtime/executor.cc:1197] [/device:CPU:0] (DEBUG INFO) Executor start aborting (this does not indicate an error and you can ignore this message): INVALID_ARGUMENT: You must feed a value for placeholder tensor 'Placeholder/_0' with dtype double and shape [100,10]\n",
      "\t [[{{node Placeholder/_0}}]]\n",
      "2024-12-09 21:33:49.436879: I tensorflow/core/grappler/optimizers/custom_graph_optimizer_registry.cc:114] Plugin optimizer for device_type GPU is enabled.\n"
     ]
    },
    {
     "name": "stdout",
     "output_type": "stream",
     "text": [
      "7/7 [==============================] - 1s 60ms/step - loss: 5.4500\n",
      "Epoch 2/10\n",
      "7/7 [==============================] - 0s 20ms/step - loss: 5.1659\n",
      "Epoch 3/10\n",
      "7/7 [==============================] - 0s 20ms/step - loss: 4.9144\n",
      "Epoch 4/10\n",
      "7/7 [==============================] - 0s 14ms/step - loss: 4.7101\n",
      "Epoch 5/10\n",
      "7/7 [==============================] - 0s 9ms/step - loss: 4.3244\n",
      "Epoch 6/10\n",
      "7/7 [==============================] - 0s 14ms/step - loss: 4.6001\n",
      "Epoch 7/10\n",
      "7/7 [==============================] - 0s 10ms/step - loss: 4.4827\n",
      "Epoch 8/10\n",
      "7/7 [==============================] - 0s 11ms/step - loss: 4.2810\n",
      "Epoch 9/10\n",
      "7/7 [==============================] - 0s 8ms/step - loss: 3.8264\n",
      "Epoch 10/10\n",
      "7/7 [==============================] - 0s 8ms/step - loss: 3.5604\n",
      "4/4 [==============================] - 0s 5ms/step\n",
      "4/4 [==============================] - 0s 3ms/step\n",
      "Epoch 1/10\n"
     ]
    },
    {
     "name": "stderr",
     "output_type": "stream",
     "text": [
      "2024-12-09 21:33:51.088998: I tensorflow/core/grappler/optimizers/custom_graph_optimizer_registry.cc:114] Plugin optimizer for device_type GPU is enabled.\n",
      "2024-12-09 21:33:51.204217: I tensorflow/core/common_runtime/executor.cc:1197] [/device:CPU:0] (DEBUG INFO) Executor start aborting (this does not indicate an error and you can ignore this message): INVALID_ARGUMENT: You must feed a value for placeholder tensor 'Placeholder/_1' with dtype double and shape [100]\n",
      "\t [[{{node Placeholder/_1}}]]\n",
      "2024-12-09 21:33:51.204463: I tensorflow/core/common_runtime/executor.cc:1197] [/device:CPU:0] (DEBUG INFO) Executor start aborting (this does not indicate an error and you can ignore this message): INVALID_ARGUMENT: You must feed a value for placeholder tensor 'Placeholder/_3' with dtype double and shape [100,15]\n",
      "\t [[{{node Placeholder/_3}}]]\n",
      "2024-12-09 21:33:51.360569: I tensorflow/core/grappler/optimizers/custom_graph_optimizer_registry.cc:114] Plugin optimizer for device_type GPU is enabled.\n"
     ]
    },
    {
     "name": "stdout",
     "output_type": "stream",
     "text": [
      "7/7 [==============================] - 1s 62ms/step - loss: 5.0819\n",
      "Epoch 2/10\n",
      "7/7 [==============================] - 0s 20ms/step - loss: 4.8527\n",
      "Epoch 3/10\n",
      "7/7 [==============================] - 0s 21ms/step - loss: 4.8856\n",
      "Epoch 4/10\n",
      "7/7 [==============================] - 0s 15ms/step - loss: 4.8671\n",
      "Epoch 5/10\n",
      "7/7 [==============================] - 0s 12ms/step - loss: 4.7518\n",
      "Epoch 6/10\n",
      "7/7 [==============================] - 0s 11ms/step - loss: 4.6690\n",
      "Epoch 7/10\n",
      "7/7 [==============================] - 0s 10ms/step - loss: 4.4817\n",
      "Epoch 8/10\n",
      "7/7 [==============================] - 0s 8ms/step - loss: 4.3253\n",
      "Epoch 9/10\n",
      "7/7 [==============================] - 0s 8ms/step - loss: 4.1561\n",
      "Epoch 10/10\n",
      "7/7 [==============================] - 0s 8ms/step - loss: 4.0763\n",
      "4/4 [==============================] - 0s 4ms/step\n",
      "4/4 [==============================] - 0s 2ms/step\n",
      "Epoch 1/10\n"
     ]
    },
    {
     "name": "stderr",
     "output_type": "stream",
     "text": [
      "2024-12-09 21:33:52.955300: I tensorflow/core/grappler/optimizers/custom_graph_optimizer_registry.cc:114] Plugin optimizer for device_type GPU is enabled.\n",
      "2024-12-09 21:33:53.062500: I tensorflow/core/common_runtime/executor.cc:1197] [/device:CPU:0] (DEBUG INFO) Executor start aborting (this does not indicate an error and you can ignore this message): INVALID_ARGUMENT: You must feed a value for placeholder tensor 'Placeholder/_3' with dtype double and shape [100,10]\n",
      "\t [[{{node Placeholder/_3}}]]\n",
      "2024-12-09 21:33:53.062743: I tensorflow/core/common_runtime/executor.cc:1197] [/device:CPU:0] (DEBUG INFO) Executor start aborting (this does not indicate an error and you can ignore this message): INVALID_ARGUMENT: You must feed a value for placeholder tensor 'Placeholder/_1' with dtype double and shape [100]\n",
      "\t [[{{node Placeholder/_1}}]]\n",
      "2024-12-09 21:33:53.221884: I tensorflow/core/grappler/optimizers/custom_graph_optimizer_registry.cc:114] Plugin optimizer for device_type GPU is enabled.\n"
     ]
    },
    {
     "name": "stdout",
     "output_type": "stream",
     "text": [
      "7/7 [==============================] - 1s 73ms/step - loss: 5.7246\n",
      "Epoch 2/10\n",
      "7/7 [==============================] - 0s 24ms/step - loss: 5.6633\n",
      "Epoch 3/10\n",
      "7/7 [==============================] - 0s 16ms/step - loss: 5.5857\n",
      "Epoch 4/10\n",
      "7/7 [==============================] - 0s 13ms/step - loss: 5.2770\n",
      "Epoch 5/10\n",
      "7/7 [==============================] - 0s 11ms/step - loss: 5.1545\n",
      "Epoch 6/10\n",
      "7/7 [==============================] - 0s 11ms/step - loss: 4.9627\n",
      "Epoch 7/10\n",
      "7/7 [==============================] - 0s 8ms/step - loss: 4.8694\n",
      "Epoch 8/10\n",
      "7/7 [==============================] - 0s 12ms/step - loss: 4.8545\n",
      "Epoch 9/10\n",
      "7/7 [==============================] - 0s 8ms/step - loss: 4.8590\n",
      "Epoch 10/10\n",
      "7/7 [==============================] - 0s 8ms/step - loss: 4.7538\n",
      "4/4 [==============================] - 0s 4ms/step\n",
      "4/4 [==============================] - 0s 2ms/step\n",
      "Epoch 1/10\n"
     ]
    },
    {
     "name": "stderr",
     "output_type": "stream",
     "text": [
      "2024-12-09 21:33:54.966650: I tensorflow/core/grappler/optimizers/custom_graph_optimizer_registry.cc:114] Plugin optimizer for device_type GPU is enabled.\n",
      "2024-12-09 21:33:55.116481: I tensorflow/core/common_runtime/executor.cc:1197] [/device:CPU:0] (DEBUG INFO) Executor start aborting (this does not indicate an error and you can ignore this message): INVALID_ARGUMENT: You must feed a value for placeholder tensor 'Placeholder/_1' with dtype double and shape [100]\n",
      "\t [[{{node Placeholder/_1}}]]\n",
      "2024-12-09 21:33:55.116760: I tensorflow/core/common_runtime/executor.cc:1197] [/device:CPU:0] (DEBUG INFO) Executor start aborting (this does not indicate an error and you can ignore this message): INVALID_ARGUMENT: You must feed a value for placeholder tensor 'Placeholder/_3' with dtype double and shape [100,30]\n",
      "\t [[{{node Placeholder/_3}}]]\n",
      "2024-12-09 21:33:55.306981: I tensorflow/core/grappler/optimizers/custom_graph_optimizer_registry.cc:114] Plugin optimizer for device_type GPU is enabled.\n"
     ]
    },
    {
     "name": "stdout",
     "output_type": "stream",
     "text": [
      "7/7 [==============================] - 1s 66ms/step - loss: 6.0053\n",
      "Epoch 2/10\n",
      "7/7 [==============================] - 0s 26ms/step - loss: 5.8045\n",
      "Epoch 3/10\n",
      "7/7 [==============================] - 0s 16ms/step - loss: 5.3492\n",
      "Epoch 4/10\n",
      "7/7 [==============================] - 0s 11ms/step - loss: 4.7151\n",
      "Epoch 5/10\n",
      "7/7 [==============================] - 0s 13ms/step - loss: 4.9399\n",
      "Epoch 6/10\n",
      "7/7 [==============================] - 0s 11ms/step - loss: 4.8727\n",
      "Epoch 7/10\n",
      "7/7 [==============================] - 0s 10ms/step - loss: 4.8103\n",
      "Epoch 8/10\n",
      "7/7 [==============================] - 0s 10ms/step - loss: 4.6811\n",
      "Epoch 9/10\n",
      "7/7 [==============================] - 0s 8ms/step - loss: 4.7298\n",
      "Epoch 10/10\n",
      "7/7 [==============================] - 0s 8ms/step - loss: 4.8105\n",
      "4/4 [==============================] - 0s 6ms/step\n",
      "4/4 [==============================] - 0s 3ms/step\n",
      "Epoch 1/10\n"
     ]
    },
    {
     "name": "stderr",
     "output_type": "stream",
     "text": [
      "2024-12-09 21:33:57.003606: I tensorflow/core/grappler/optimizers/custom_graph_optimizer_registry.cc:114] Plugin optimizer for device_type GPU is enabled.\n",
      "2024-12-09 21:33:57.120466: I tensorflow/core/common_runtime/executor.cc:1197] [/device:CPU:0] (DEBUG INFO) Executor start aborting (this does not indicate an error and you can ignore this message): INVALID_ARGUMENT: You must feed a value for placeholder tensor 'Placeholder/_1' with dtype double and shape [100]\n",
      "\t [[{{node Placeholder/_1}}]]\n",
      "2024-12-09 21:33:57.120730: I tensorflow/core/common_runtime/executor.cc:1197] [/device:CPU:0] (DEBUG INFO) Executor start aborting (this does not indicate an error and you can ignore this message): INVALID_ARGUMENT: You must feed a value for placeholder tensor 'Placeholder/_4' with dtype double and shape [100]\n",
      "\t [[{{node Placeholder/_4}}]]\n",
      "2024-12-09 21:33:57.277078: I tensorflow/core/grappler/optimizers/custom_graph_optimizer_registry.cc:114] Plugin optimizer for device_type GPU is enabled.\n"
     ]
    },
    {
     "name": "stdout",
     "output_type": "stream",
     "text": [
      "7/7 [==============================] - 1s 78ms/step - loss: 6.2208\n",
      "Epoch 2/10\n",
      "7/7 [==============================] - 0s 19ms/step - loss: 6.1168\n",
      "Epoch 3/10\n",
      "7/7 [==============================] - 0s 12ms/step - loss: 6.0114\n",
      "Epoch 4/10\n",
      "7/7 [==============================] - 0s 15ms/step - loss: 5.9041\n",
      "Epoch 5/10\n",
      "7/7 [==============================] - 0s 9ms/step - loss: 5.8253\n",
      "Epoch 6/10\n",
      "7/7 [==============================] - 0s 12ms/step - loss: 5.8025\n",
      "Epoch 7/10\n",
      "7/7 [==============================] - 0s 8ms/step - loss: 5.7330\n",
      "Epoch 8/10\n",
      "7/7 [==============================] - 0s 16ms/step - loss: 5.6851\n",
      "Epoch 9/10\n",
      "7/7 [==============================] - 0s 8ms/step - loss: 5.6495\n",
      "Epoch 10/10\n",
      "7/7 [==============================] - 0s 13ms/step - loss: 5.6166\n",
      "4/4 [==============================] - 0s 4ms/step\n",
      "4/4 [==============================] - 0s 3ms/step\n",
      "Epoch 1/10\n"
     ]
    },
    {
     "name": "stderr",
     "output_type": "stream",
     "text": [
      "2024-12-09 21:33:58.941738: I tensorflow/core/grappler/optimizers/custom_graph_optimizer_registry.cc:114] Plugin optimizer for device_type GPU is enabled.\n",
      "2024-12-09 21:33:59.052031: I tensorflow/core/common_runtime/executor.cc:1197] [/device:CPU:0] (DEBUG INFO) Executor start aborting (this does not indicate an error and you can ignore this message): INVALID_ARGUMENT: You must feed a value for placeholder tensor 'Placeholder/_4' with dtype double and shape [100]\n",
      "\t [[{{node Placeholder/_4}}]]\n",
      "2024-12-09 21:33:59.052272: I tensorflow/core/common_runtime/executor.cc:1197] [/device:CPU:0] (DEBUG INFO) Executor start aborting (this does not indicate an error and you can ignore this message): INVALID_ARGUMENT: You must feed a value for placeholder tensor 'Placeholder/_1' with dtype double and shape [100]\n",
      "\t [[{{node Placeholder/_1}}]]\n",
      "2024-12-09 21:33:59.215754: I tensorflow/core/grappler/optimizers/custom_graph_optimizer_registry.cc:114] Plugin optimizer for device_type GPU is enabled.\n"
     ]
    },
    {
     "name": "stdout",
     "output_type": "stream",
     "text": [
      "7/7 [==============================] - 1s 65ms/step - loss: 5.4566\n",
      "Epoch 2/10\n",
      "7/7 [==============================] - 0s 17ms/step - loss: 5.2719\n",
      "Epoch 3/10\n",
      "7/7 [==============================] - 0s 12ms/step - loss: 5.2367\n",
      "Epoch 4/10\n",
      "7/7 [==============================] - 0s 11ms/step - loss: 5.0949\n",
      "Epoch 5/10\n",
      "7/7 [==============================] - 0s 14ms/step - loss: 4.9688\n",
      "Epoch 6/10\n",
      "7/7 [==============================] - 0s 8ms/step - loss: 4.9083\n",
      "Epoch 7/10\n",
      "7/7 [==============================] - 0s 12ms/step - loss: 4.9569\n",
      "Epoch 8/10\n",
      "7/7 [==============================] - 0s 8ms/step - loss: 4.9275\n",
      "Epoch 9/10\n",
      "7/7 [==============================] - 0s 8ms/step - loss: 4.9267\n",
      "Epoch 10/10\n",
      "7/7 [==============================] - 0s 10ms/step - loss: 4.9202\n",
      "4/4 [==============================] - 0s 4ms/step\n",
      "4/4 [==============================] - 0s 2ms/step\n",
      "Epoch 1/10\n"
     ]
    },
    {
     "name": "stderr",
     "output_type": "stream",
     "text": [
      "2024-12-09 21:34:00.863993: I tensorflow/core/grappler/optimizers/custom_graph_optimizer_registry.cc:114] Plugin optimizer for device_type GPU is enabled.\n",
      "2024-12-09 21:34:00.974417: I tensorflow/core/common_runtime/executor.cc:1197] [/device:CPU:0] (DEBUG INFO) Executor start aborting (this does not indicate an error and you can ignore this message): INVALID_ARGUMENT: You must feed a value for placeholder tensor 'Placeholder/_4' with dtype double and shape [100]\n",
      "\t [[{{node Placeholder/_4}}]]\n",
      "2024-12-09 21:34:00.974670: I tensorflow/core/common_runtime/executor.cc:1197] [/device:CPU:0] (DEBUG INFO) Executor start aborting (this does not indicate an error and you can ignore this message): INVALID_ARGUMENT: You must feed a value for placeholder tensor 'Placeholder/_4' with dtype double and shape [100]\n",
      "\t [[{{node Placeholder/_4}}]]\n",
      "2024-12-09 21:34:01.135204: I tensorflow/core/grappler/optimizers/custom_graph_optimizer_registry.cc:114] Plugin optimizer for device_type GPU is enabled.\n"
     ]
    },
    {
     "name": "stdout",
     "output_type": "stream",
     "text": [
      "7/7 [==============================] - 1s 72ms/step - loss: 6.3470\n",
      "Epoch 2/10\n",
      "7/7 [==============================] - 0s 31ms/step - loss: 5.9185\n",
      "Epoch 3/10\n",
      "7/7 [==============================] - 0s 9ms/step - loss: 5.8516\n",
      "Epoch 4/10\n",
      "7/7 [==============================] - 0s 12ms/step - loss: 5.7079\n",
      "Epoch 5/10\n",
      "7/7 [==============================] - 0s 10ms/step - loss: 5.7025\n",
      "Epoch 6/10\n",
      "7/7 [==============================] - 0s 11ms/step - loss: 5.5568\n",
      "Epoch 7/10\n",
      "7/7 [==============================] - 0s 10ms/step - loss: 5.5379\n",
      "Epoch 8/10\n",
      "7/7 [==============================] - 0s 8ms/step - loss: 5.5264\n",
      "Epoch 9/10\n",
      "7/7 [==============================] - 0s 14ms/step - loss: 5.5215\n",
      "Epoch 10/10\n",
      "7/7 [==============================] - 0s 8ms/step - loss: 5.4111\n",
      "4/4 [==============================] - 0s 5ms/step\n",
      "4/4 [==============================] - 0s 3ms/step\n",
      "Epoch 1/10\n"
     ]
    },
    {
     "name": "stderr",
     "output_type": "stream",
     "text": [
      "2024-12-09 21:34:02.924990: I tensorflow/core/grappler/optimizers/custom_graph_optimizer_registry.cc:114] Plugin optimizer for device_type GPU is enabled.\n",
      "2024-12-09 21:34:03.043008: I tensorflow/core/common_runtime/executor.cc:1197] [/device:CPU:0] (DEBUG INFO) Executor start aborting (this does not indicate an error and you can ignore this message): INVALID_ARGUMENT: You must feed a value for placeholder tensor 'Placeholder/_3' with dtype double and shape [100,150]\n",
      "\t [[{{node Placeholder/_3}}]]\n",
      "2024-12-09 21:34:03.043257: I tensorflow/core/common_runtime/executor.cc:1197] [/device:CPU:0] (DEBUG INFO) Executor start aborting (this does not indicate an error and you can ignore this message): INVALID_ARGUMENT: You must feed a value for placeholder tensor 'Placeholder/_0' with dtype double and shape [100,150]\n",
      "\t [[{{node Placeholder/_0}}]]\n",
      "2024-12-09 21:34:03.207745: I tensorflow/core/grappler/optimizers/custom_graph_optimizer_registry.cc:114] Plugin optimizer for device_type GPU is enabled.\n"
     ]
    },
    {
     "name": "stdout",
     "output_type": "stream",
     "text": [
      "7/7 [==============================] - 1s 57ms/step - loss: 6.3606\n",
      "Epoch 2/10\n",
      "7/7 [==============================] - 0s 20ms/step - loss: 5.8165\n",
      "Epoch 3/10\n",
      "7/7 [==============================] - 0s 23ms/step - loss: 5.6723\n",
      "Epoch 4/10\n",
      "7/7 [==============================] - 0s 14ms/step - loss: 5.6494\n",
      "Epoch 5/10\n",
      "7/7 [==============================] - 0s 12ms/step - loss: 5.5578\n",
      "Epoch 6/10\n",
      "7/7 [==============================] - 0s 12ms/step - loss: 5.5393\n",
      "Epoch 7/10\n",
      "7/7 [==============================] - 0s 8ms/step - loss: 5.5226\n",
      "Epoch 8/10\n",
      "7/7 [==============================] - 0s 11ms/step - loss: 5.4466\n",
      "Epoch 9/10\n",
      "7/7 [==============================] - 0s 8ms/step - loss: 5.3030\n",
      "Epoch 10/10\n",
      "7/7 [==============================] - 0s 8ms/step - loss: 5.2251\n",
      "4/4 [==============================] - 0s 5ms/step\n",
      "4/4 [==============================] - 0s 3ms/step\n",
      "Epoch 1/10\n"
     ]
    },
    {
     "name": "stderr",
     "output_type": "stream",
     "text": [
      "2024-12-09 21:34:04.916869: I tensorflow/core/grappler/optimizers/custom_graph_optimizer_registry.cc:114] Plugin optimizer for device_type GPU is enabled.\n",
      "2024-12-09 21:34:05.028598: I tensorflow/core/common_runtime/executor.cc:1197] [/device:CPU:0] (DEBUG INFO) Executor start aborting (this does not indicate an error and you can ignore this message): INVALID_ARGUMENT: You must feed a value for placeholder tensor 'Placeholder/_3' with dtype double and shape [100,100]\n",
      "\t [[{{node Placeholder/_3}}]]\n",
      "2024-12-09 21:34:05.028855: I tensorflow/core/common_runtime/executor.cc:1197] [/device:CPU:0] (DEBUG INFO) Executor start aborting (this does not indicate an error and you can ignore this message): INVALID_ARGUMENT: You must feed a value for placeholder tensor 'Placeholder/_1' with dtype double and shape [100]\n",
      "\t [[{{node Placeholder/_1}}]]\n",
      "2024-12-09 21:34:05.232310: I tensorflow/core/grappler/optimizers/custom_graph_optimizer_registry.cc:114] Plugin optimizer for device_type GPU is enabled.\n"
     ]
    },
    {
     "name": "stdout",
     "output_type": "stream",
     "text": [
      "7/7 [==============================] - 1s 91ms/step - loss: 5.7288\n",
      "Epoch 2/10\n",
      "7/7 [==============================] - 0s 20ms/step - loss: 5.6378\n",
      "Epoch 3/10\n",
      "7/7 [==============================] - 0s 9ms/step - loss: 5.6096\n",
      "Epoch 4/10\n",
      "7/7 [==============================] - 0s 12ms/step - loss: 5.5920\n",
      "Epoch 5/10\n",
      "7/7 [==============================] - 0s 11ms/step - loss: 5.5189\n",
      "Epoch 6/10\n",
      "7/7 [==============================] - 0s 12ms/step - loss: 5.4968\n",
      "Epoch 7/10\n",
      "7/7 [==============================] - 0s 11ms/step - loss: 5.4647\n",
      "Epoch 8/10\n",
      "7/7 [==============================] - 0s 8ms/step - loss: 5.3616\n",
      "Epoch 9/10\n",
      "7/7 [==============================] - 0s 10ms/step - loss: 5.2390\n",
      "Epoch 10/10\n",
      "7/7 [==============================] - 0s 8ms/step - loss: 5.2063\n",
      "4/4 [==============================] - 0s 4ms/step\n",
      "4/4 [==============================] - 0s 3ms/step\n",
      "Epoch 1/10\n"
     ]
    },
    {
     "name": "stderr",
     "output_type": "stream",
     "text": [
      "2024-12-09 21:34:06.927152: I tensorflow/core/grappler/optimizers/custom_graph_optimizer_registry.cc:114] Plugin optimizer for device_type GPU is enabled.\n",
      "2024-12-09 21:34:07.038308: I tensorflow/core/common_runtime/executor.cc:1197] [/device:CPU:0] (DEBUG INFO) Executor start aborting (this does not indicate an error and you can ignore this message): INVALID_ARGUMENT: You must feed a value for placeholder tensor 'Placeholder/_1' with dtype double and shape [100]\n",
      "\t [[{{node Placeholder/_1}}]]\n",
      "2024-12-09 21:34:07.038561: I tensorflow/core/common_runtime/executor.cc:1197] [/device:CPU:0] (DEBUG INFO) Executor start aborting (this does not indicate an error and you can ignore this message): INVALID_ARGUMENT: You must feed a value for placeholder tensor 'Placeholder/_0' with dtype double and shape [100,150]\n",
      "\t [[{{node Placeholder/_0}}]]\n",
      "2024-12-09 21:34:07.194065: I tensorflow/core/grappler/optimizers/custom_graph_optimizer_registry.cc:114] Plugin optimizer for device_type GPU is enabled.\n"
     ]
    },
    {
     "name": "stdout",
     "output_type": "stream",
     "text": [
      "7/7 [==============================] - 1s 76ms/step - loss: 6.5382\n",
      "Epoch 2/10\n",
      "7/7 [==============================] - 0s 18ms/step - loss: 6.4084\n",
      "Epoch 3/10\n",
      "7/7 [==============================] - 0s 16ms/step - loss: 6.3949\n",
      "Epoch 4/10\n",
      "7/7 [==============================] - 0s 9ms/step - loss: 6.2817\n",
      "Epoch 5/10\n",
      "7/7 [==============================] - 0s 10ms/step - loss: 6.2757\n",
      "Epoch 6/10\n",
      "7/7 [==============================] - 0s 8ms/step - loss: 6.2644\n",
      "Epoch 7/10\n",
      "7/7 [==============================] - 0s 12ms/step - loss: 6.2540\n",
      "Epoch 8/10\n",
      "7/7 [==============================] - 0s 13ms/step - loss: 6.2461\n",
      "Epoch 9/10\n",
      "7/7 [==============================] - 0s 11ms/step - loss: 6.2398\n",
      "Epoch 10/10\n",
      "7/7 [==============================] - 0s 12ms/step - loss: 6.2336\n",
      "4/4 [==============================] - 0s 4ms/step\n",
      "4/4 [==============================] - 0s 2ms/step\n",
      "Epoch 1/10\n"
     ]
    },
    {
     "name": "stderr",
     "output_type": "stream",
     "text": [
      "2024-12-09 21:34:08.994740: I tensorflow/core/grappler/optimizers/custom_graph_optimizer_registry.cc:114] Plugin optimizer for device_type GPU is enabled.\n",
      "2024-12-09 21:34:09.109392: I tensorflow/core/common_runtime/executor.cc:1197] [/device:CPU:0] (DEBUG INFO) Executor start aborting (this does not indicate an error and you can ignore this message): INVALID_ARGUMENT: You must feed a value for placeholder tensor 'Placeholder/_4' with dtype double and shape [100]\n",
      "\t [[{{node Placeholder/_4}}]]\n",
      "2024-12-09 21:34:09.109640: I tensorflow/core/common_runtime/executor.cc:1197] [/device:CPU:0] (DEBUG INFO) Executor start aborting (this does not indicate an error and you can ignore this message): INVALID_ARGUMENT: You must feed a value for placeholder tensor 'Placeholder/_4' with dtype double and shape [100]\n",
      "\t [[{{node Placeholder/_4}}]]\n",
      "2024-12-09 21:34:09.369578: I tensorflow/core/grappler/optimizers/custom_graph_optimizer_registry.cc:114] Plugin optimizer for device_type GPU is enabled.\n"
     ]
    },
    {
     "name": "stdout",
     "output_type": "stream",
     "text": [
      "7/7 [==============================] - 1s 62ms/step - loss: 6.9876\n",
      "Epoch 2/10\n",
      "7/7 [==============================] - 0s 24ms/step - loss: 7.0066\n",
      "Epoch 3/10\n",
      "7/7 [==============================] - 0s 16ms/step - loss: 6.9300\n",
      "Epoch 4/10\n",
      "7/7 [==============================] - 0s 16ms/step - loss: 6.7866\n",
      "Epoch 5/10\n",
      "7/7 [==============================] - 0s 12ms/step - loss: 6.7654\n",
      "Epoch 6/10\n",
      "7/7 [==============================] - 0s 10ms/step - loss: 6.7038\n",
      "Epoch 7/10\n",
      "7/7 [==============================] - 0s 8ms/step - loss: 6.5634\n",
      "Epoch 8/10\n",
      "7/7 [==============================] - 0s 9ms/step - loss: 6.3102\n",
      "Epoch 9/10\n",
      "7/7 [==============================] - 0s 11ms/step - loss: 6.2871\n",
      "Epoch 10/10\n",
      "7/7 [==============================] - 0s 9ms/step - loss: 6.1480\n",
      "4/4 [==============================] - 0s 5ms/step\n",
      "4/4 [==============================] - 0s 3ms/step\n",
      "Epoch 1/10\n"
     ]
    },
    {
     "name": "stderr",
     "output_type": "stream",
     "text": [
      "2024-12-09 21:34:11.012887: I tensorflow/core/grappler/optimizers/custom_graph_optimizer_registry.cc:114] Plugin optimizer for device_type GPU is enabled.\n",
      "2024-12-09 21:34:11.135177: I tensorflow/core/common_runtime/executor.cc:1197] [/device:CPU:0] (DEBUG INFO) Executor start aborting (this does not indicate an error and you can ignore this message): INVALID_ARGUMENT: You must feed a value for placeholder tensor 'Placeholder/_3' with dtype double and shape [100,300]\n",
      "\t [[{{node Placeholder/_3}}]]\n",
      "2024-12-09 21:34:11.135443: I tensorflow/core/common_runtime/executor.cc:1197] [/device:CPU:0] (DEBUG INFO) Executor start aborting (this does not indicate an error and you can ignore this message): INVALID_ARGUMENT: You must feed a value for placeholder tensor 'Placeholder/_3' with dtype double and shape [100,300]\n",
      "\t [[{{node Placeholder/_3}}]]\n",
      "2024-12-09 21:34:11.322286: I tensorflow/core/grappler/optimizers/custom_graph_optimizer_registry.cc:114] Plugin optimizer for device_type GPU is enabled.\n"
     ]
    },
    {
     "name": "stdout",
     "output_type": "stream",
     "text": [
      "7/7 [==============================] - 1s 84ms/step - loss: 7.0324\n",
      "Epoch 2/10\n",
      "7/7 [==============================] - 0s 24ms/step - loss: 6.4171\n",
      "Epoch 3/10\n",
      "7/7 [==============================] - 0s 18ms/step - loss: 6.3540\n",
      "Epoch 4/10\n",
      "7/7 [==============================] - 0s 13ms/step - loss: 6.2666\n",
      "Epoch 5/10\n",
      "7/7 [==============================] - 0s 13ms/step - loss: 6.2523\n",
      "Epoch 6/10\n",
      "7/7 [==============================] - 0s 11ms/step - loss: 6.1147\n",
      "Epoch 7/10\n",
      "7/7 [==============================] - 0s 10ms/step - loss: 6.1670\n",
      "Epoch 8/10\n",
      "7/7 [==============================] - 0s 10ms/step - loss: 6.1673\n",
      "Epoch 9/10\n",
      "7/7 [==============================] - 0s 9ms/step - loss: 6.1512\n",
      "Epoch 10/10\n",
      "7/7 [==============================] - 0s 10ms/step - loss: 6.1475\n",
      "4/4 [==============================] - 0s 5ms/step\n",
      "4/4 [==============================] - 0s 3ms/step\n",
      "Epoch 1/10\n"
     ]
    },
    {
     "name": "stderr",
     "output_type": "stream",
     "text": [
      "2024-12-09 21:34:13.101906: I tensorflow/core/grappler/optimizers/custom_graph_optimizer_registry.cc:114] Plugin optimizer for device_type GPU is enabled.\n",
      "2024-12-09 21:34:13.222747: I tensorflow/core/common_runtime/executor.cc:1197] [/device:CPU:0] (DEBUG INFO) Executor start aborting (this does not indicate an error and you can ignore this message): INVALID_ARGUMENT: You must feed a value for placeholder tensor 'Placeholder/_4' with dtype double and shape [100]\n",
      "\t [[{{node Placeholder/_4}}]]\n",
      "2024-12-09 21:34:13.222994: I tensorflow/core/common_runtime/executor.cc:1197] [/device:CPU:0] (DEBUG INFO) Executor start aborting (this does not indicate an error and you can ignore this message): INVALID_ARGUMENT: You must feed a value for placeholder tensor 'Placeholder/_0' with dtype double and shape [100,200]\n",
      "\t [[{{node Placeholder/_0}}]]\n",
      "2024-12-09 21:34:13.387365: I tensorflow/core/grappler/optimizers/custom_graph_optimizer_registry.cc:114] Plugin optimizer for device_type GPU is enabled.\n"
     ]
    },
    {
     "name": "stdout",
     "output_type": "stream",
     "text": [
      "7/7 [==============================] - 1s 66ms/step - loss: 6.9864\n",
      "Epoch 2/10\n",
      "7/7 [==============================] - 0s 23ms/step - loss: 6.6862\n",
      "Epoch 3/10\n",
      "7/7 [==============================] - 0s 13ms/step - loss: 6.3271\n",
      "Epoch 4/10\n",
      "7/7 [==============================] - 0s 12ms/step - loss: 6.0819\n",
      "Epoch 5/10\n",
      "7/7 [==============================] - 0s 14ms/step - loss: 6.1941\n",
      "Epoch 6/10\n",
      "7/7 [==============================] - 0s 10ms/step - loss: 6.1538\n",
      "Epoch 7/10\n",
      "7/7 [==============================] - 0s 12ms/step - loss: 5.9715\n",
      "Epoch 8/10\n",
      "7/7 [==============================] - 0s 9ms/step - loss: 5.9445\n",
      "Epoch 9/10\n",
      "7/7 [==============================] - 0s 15ms/step - loss: 5.8632\n",
      "Epoch 10/10\n",
      "7/7 [==============================] - 0s 15ms/step - loss: 5.9136\n",
      "4/4 [==============================] - 0s 17ms/step\n",
      "4/4 [==============================] - 0s 3ms/step\n",
      "Epoch 1/10\n"
     ]
    },
    {
     "name": "stderr",
     "output_type": "stream",
     "text": [
      "2024-12-09 21:34:15.055785: I tensorflow/core/grappler/optimizers/custom_graph_optimizer_registry.cc:114] Plugin optimizer for device_type GPU is enabled.\n",
      "2024-12-09 21:34:15.214600: I tensorflow/core/common_runtime/executor.cc:1197] [/device:CPU:0] (DEBUG INFO) Executor start aborting (this does not indicate an error and you can ignore this message): INVALID_ARGUMENT: You must feed a value for placeholder tensor 'Placeholder/_3' with dtype double and shape [100,300]\n",
      "\t [[{{node Placeholder/_3}}]]\n",
      "2024-12-09 21:34:15.214846: I tensorflow/core/common_runtime/executor.cc:1197] [/device:CPU:0] (DEBUG INFO) Executor start aborting (this does not indicate an error and you can ignore this message): INVALID_ARGUMENT: You must feed a value for placeholder tensor 'Placeholder/_1' with dtype double and shape [100]\n",
      "\t [[{{node Placeholder/_1}}]]\n",
      "2024-12-09 21:34:15.377307: I tensorflow/core/grappler/optimizers/custom_graph_optimizer_registry.cc:114] Plugin optimizer for device_type GPU is enabled.\n"
     ]
    },
    {
     "name": "stdout",
     "output_type": "stream",
     "text": [
      "7/7 [==============================] - 1s 69ms/step - loss: 6.7983\n",
      "Epoch 2/10\n",
      "7/7 [==============================] - 0s 24ms/step - loss: 6.5966\n",
      "Epoch 3/10\n",
      "7/7 [==============================] - 0s 11ms/step - loss: 6.7368\n",
      "Epoch 4/10\n",
      "7/7 [==============================] - 0s 16ms/step - loss: 6.6436\n",
      "Epoch 5/10\n",
      "7/7 [==============================] - 0s 13ms/step - loss: 6.5637\n",
      "Epoch 6/10\n",
      "7/7 [==============================] - 0s 13ms/step - loss: 6.5425\n",
      "Epoch 7/10\n",
      "7/7 [==============================] - 0s 12ms/step - loss: 6.5293\n",
      "Epoch 8/10\n",
      "7/7 [==============================] - 0s 9ms/step - loss: 6.5223\n",
      "Epoch 9/10\n",
      "7/7 [==============================] - 0s 9ms/step - loss: 6.5207\n",
      "Epoch 10/10\n",
      "7/7 [==============================] - 0s 15ms/step - loss: 6.5196\n",
      "4/4 [==============================] - 0s 5ms/step\n",
      "4/4 [==============================] - 0s 3ms/step\n",
      "Epoch 1/10\n"
     ]
    },
    {
     "name": "stderr",
     "output_type": "stream",
     "text": [
      "2024-12-09 21:34:17.198757: I tensorflow/core/grappler/optimizers/custom_graph_optimizer_registry.cc:114] Plugin optimizer for device_type GPU is enabled.\n",
      "2024-12-09 21:34:17.324587: I tensorflow/core/common_runtime/executor.cc:1197] [/device:CPU:0] (DEBUG INFO) Executor start aborting (this does not indicate an error and you can ignore this message): INVALID_ARGUMENT: You must feed a value for placeholder tensor 'Placeholder/_3' with dtype double and shape [100,200]\n",
      "\t [[{{node Placeholder/_3}}]]\n",
      "2024-12-09 21:34:17.324847: I tensorflow/core/common_runtime/executor.cc:1197] [/device:CPU:0] (DEBUG INFO) Executor start aborting (this does not indicate an error and you can ignore this message): INVALID_ARGUMENT: You must feed a value for placeholder tensor 'Placeholder/_4' with dtype double and shape [100]\n",
      "\t [[{{node Placeholder/_4}}]]\n",
      "2024-12-09 21:34:17.481405: I tensorflow/core/grappler/optimizers/custom_graph_optimizer_registry.cc:114] Plugin optimizer for device_type GPU is enabled.\n"
     ]
    },
    {
     "name": "stdout",
     "output_type": "stream",
     "text": [
      "7/7 [==============================] - 1s 65ms/step - loss: 7.2971\n",
      "Epoch 2/10\n",
      "7/7 [==============================] - 0s 16ms/step - loss: 6.9480\n",
      "Epoch 3/10\n",
      "7/7 [==============================] - 0s 12ms/step - loss: 6.6707\n",
      "Epoch 4/10\n",
      "7/7 [==============================] - 0s 16ms/step - loss: 6.6488\n",
      "Epoch 5/10\n",
      "7/7 [==============================] - 0s 22ms/step - loss: 6.5004\n",
      "Epoch 6/10\n",
      "7/7 [==============================] - 0s 9ms/step - loss: 6.4817\n",
      "Epoch 7/10\n",
      "7/7 [==============================] - 0s 11ms/step - loss: 6.4767\n",
      "Epoch 8/10\n",
      "7/7 [==============================] - 0s 29ms/step - loss: 6.4579\n",
      "Epoch 9/10\n",
      "7/7 [==============================] - 0s 20ms/step - loss: 6.4522\n",
      "Epoch 10/10\n",
      "7/7 [==============================] - 0s 9ms/step - loss: 6.4462\n",
      "4/4 [==============================] - 0s 5ms/step\n",
      "4/4 [==============================] - 0s 3ms/step\n",
      "Epoch 1/10\n"
     ]
    },
    {
     "name": "stderr",
     "output_type": "stream",
     "text": [
      "2024-12-09 21:34:19.488916: I tensorflow/core/grappler/optimizers/custom_graph_optimizer_registry.cc:114] Plugin optimizer for device_type GPU is enabled.\n",
      "2024-12-09 21:34:19.653260: I tensorflow/core/common_runtime/executor.cc:1197] [/device:CPU:0] (DEBUG INFO) Executor start aborting (this does not indicate an error and you can ignore this message): INVALID_ARGUMENT: You must feed a value for placeholder tensor 'Placeholder/_1' with dtype double and shape [100]\n",
      "\t [[{{node Placeholder/_1}}]]\n",
      "2024-12-09 21:34:19.653524: I tensorflow/core/common_runtime/executor.cc:1197] [/device:CPU:0] (DEBUG INFO) Executor start aborting (this does not indicate an error and you can ignore this message): INVALID_ARGUMENT: You must feed a value for placeholder tensor 'Placeholder/_0' with dtype double and shape [100,600]\n",
      "\t [[{{node Placeholder/_0}}]]\n",
      "2024-12-09 21:34:19.818481: I tensorflow/core/grappler/optimizers/custom_graph_optimizer_registry.cc:114] Plugin optimizer for device_type GPU is enabled.\n"
     ]
    },
    {
     "name": "stdout",
     "output_type": "stream",
     "text": [
      "7/7 [==============================] - 1s 68ms/step - loss: 6.1116\n",
      "Epoch 2/10\n",
      "7/7 [==============================] - 0s 18ms/step - loss: 5.9747\n",
      "Epoch 3/10\n",
      "7/7 [==============================] - 0s 22ms/step - loss: 5.8088\n",
      "Epoch 4/10\n",
      "7/7 [==============================] - 0s 10ms/step - loss: 5.7957\n",
      "Epoch 5/10\n",
      "7/7 [==============================] - 0s 15ms/step - loss: 5.8488\n",
      "Epoch 6/10\n",
      "7/7 [==============================] - 0s 14ms/step - loss: 5.8415\n",
      "Epoch 7/10\n",
      "7/7 [==============================] - 0s 8ms/step - loss: 5.8374\n",
      "Epoch 8/10\n",
      "7/7 [==============================] - 0s 8ms/step - loss: 5.8374\n",
      "Epoch 9/10\n",
      "7/7 [==============================] - 0s 9ms/step - loss: 5.8370\n",
      "Epoch 10/10\n",
      "7/7 [==============================] - 0s 9ms/step - loss: 5.8382\n",
      "4/4 [==============================] - 0s 5ms/step\n",
      "4/4 [==============================] - 0s 3ms/step\n",
      "Epoch 1/10\n"
     ]
    },
    {
     "name": "stderr",
     "output_type": "stream",
     "text": [
      "2024-12-09 21:34:21.574907: I tensorflow/core/grappler/optimizers/custom_graph_optimizer_registry.cc:114] Plugin optimizer for device_type GPU is enabled.\n",
      "2024-12-09 21:34:21.694439: I tensorflow/core/common_runtime/executor.cc:1197] [/device:CPU:0] (DEBUG INFO) Executor start aborting (this does not indicate an error and you can ignore this message): INVALID_ARGUMENT: You must feed a value for placeholder tensor 'Placeholder/_4' with dtype double and shape [100]\n",
      "\t [[{{node Placeholder/_4}}]]\n",
      "2024-12-09 21:34:21.694669: I tensorflow/core/common_runtime/executor.cc:1197] [/device:CPU:0] (DEBUG INFO) Executor start aborting (this does not indicate an error and you can ignore this message): INVALID_ARGUMENT: You must feed a value for placeholder tensor 'Placeholder/_0' with dtype double and shape [100,400]\n",
      "\t [[{{node Placeholder/_0}}]]\n",
      "2024-12-09 21:34:21.894897: I tensorflow/core/grappler/optimizers/custom_graph_optimizer_registry.cc:114] Plugin optimizer for device_type GPU is enabled.\n"
     ]
    },
    {
     "name": "stdout",
     "output_type": "stream",
     "text": [
      "7/7 [==============================] - 1s 72ms/step - loss: 6.9158\n",
      "Epoch 2/10\n",
      "7/7 [==============================] - 0s 17ms/step - loss: 6.6345\n",
      "Epoch 3/10\n",
      "7/7 [==============================] - 0s 17ms/step - loss: 6.6485\n",
      "Epoch 4/10\n",
      "7/7 [==============================] - 0s 17ms/step - loss: 6.5575\n",
      "Epoch 5/10\n",
      "7/7 [==============================] - 0s 12ms/step - loss: 6.4801\n",
      "Epoch 6/10\n",
      "7/7 [==============================] - 0s 14ms/step - loss: 6.4019\n",
      "Epoch 7/10\n",
      "7/7 [==============================] - 0s 16ms/step - loss: 6.2618\n",
      "Epoch 8/10\n",
      "7/7 [==============================] - 0s 12ms/step - loss: 6.1843\n",
      "Epoch 9/10\n",
      "7/7 [==============================] - 0s 9ms/step - loss: 6.0235\n",
      "Epoch 10/10\n",
      "7/7 [==============================] - 0s 13ms/step - loss: 6.0953\n",
      "4/4 [==============================] - 0s 4ms/step\n",
      "4/4 [==============================] - 0s 2ms/step\n",
      "Epoch 1/10\n"
     ]
    },
    {
     "name": "stderr",
     "output_type": "stream",
     "text": [
      "2024-12-09 21:34:23.902838: I tensorflow/core/grappler/optimizers/custom_graph_optimizer_registry.cc:114] Plugin optimizer for device_type GPU is enabled.\n",
      "2024-12-09 21:34:24.018591: I tensorflow/core/common_runtime/executor.cc:1197] [/device:CPU:0] (DEBUG INFO) Executor start aborting (this does not indicate an error and you can ignore this message): INVALID_ARGUMENT: You must feed a value for placeholder tensor 'Placeholder/_4' with dtype double and shape [100]\n",
      "\t [[{{node Placeholder/_4}}]]\n",
      "2024-12-09 21:34:24.018827: I tensorflow/core/common_runtime/executor.cc:1197] [/device:CPU:0] (DEBUG INFO) Executor start aborting (this does not indicate an error and you can ignore this message): INVALID_ARGUMENT: You must feed a value for placeholder tensor 'Placeholder/_4' with dtype double and shape [100]\n",
      "\t [[{{node Placeholder/_4}}]]\n",
      "2024-12-09 21:34:24.189778: I tensorflow/core/grappler/optimizers/custom_graph_optimizer_registry.cc:114] Plugin optimizer for device_type GPU is enabled.\n"
     ]
    },
    {
     "name": "stdout",
     "output_type": "stream",
     "text": [
      "7/7 [==============================] - 1s 55ms/step - loss: 6.5483\n",
      "Epoch 2/10\n",
      "7/7 [==============================] - 0s 25ms/step - loss: 6.2733\n",
      "Epoch 3/10\n",
      "7/7 [==============================] - 0s 15ms/step - loss: 6.4375\n",
      "Epoch 4/10\n",
      "7/7 [==============================] - 0s 16ms/step - loss: 6.4905\n",
      "Epoch 5/10\n",
      "7/7 [==============================] - 0s 11ms/step - loss: 6.2801\n",
      "Epoch 6/10\n",
      "7/7 [==============================] - 0s 18ms/step - loss: 6.2664\n",
      "Epoch 7/10\n",
      "7/7 [==============================] - 0s 16ms/step - loss: 6.2635\n",
      "Epoch 8/10\n",
      "7/7 [==============================] - 0s 12ms/step - loss: 6.2429\n",
      "Epoch 9/10\n",
      "7/7 [==============================] - 0s 8ms/step - loss: 6.2385\n",
      "Epoch 10/10\n",
      "7/7 [==============================] - 0s 8ms/step - loss: 6.2315\n",
      "4/4 [==============================] - 0s 5ms/step\n",
      "4/4 [==============================] - 0s 3ms/step\n",
      "Epoch 1/10\n"
     ]
    },
    {
     "name": "stderr",
     "output_type": "stream",
     "text": [
      "2024-12-09 21:34:25.965723: I tensorflow/core/grappler/optimizers/custom_graph_optimizer_registry.cc:114] Plugin optimizer for device_type GPU is enabled.\n",
      "2024-12-09 21:34:26.083110: I tensorflow/core/common_runtime/executor.cc:1197] [/device:CPU:0] (DEBUG INFO) Executor start aborting (this does not indicate an error and you can ignore this message): INVALID_ARGUMENT: You must feed a value for placeholder tensor 'Placeholder/_3' with dtype double and shape [100,400]\n",
      "\t [[{{node Placeholder/_3}}]]\n",
      "2024-12-09 21:34:26.083363: I tensorflow/core/common_runtime/executor.cc:1197] [/device:CPU:0] (DEBUG INFO) Executor start aborting (this does not indicate an error and you can ignore this message): INVALID_ARGUMENT: You must feed a value for placeholder tensor 'Placeholder/_0' with dtype double and shape [100,400]\n",
      "\t [[{{node Placeholder/_0}}]]\n",
      "2024-12-09 21:34:26.242582: I tensorflow/core/grappler/optimizers/custom_graph_optimizer_registry.cc:114] Plugin optimizer for device_type GPU is enabled.\n"
     ]
    },
    {
     "name": "stdout",
     "output_type": "stream",
     "text": [
      "7/7 [==============================] - 1s 69ms/step - loss: 6.9298\n",
      "Epoch 2/10\n",
      "7/7 [==============================] - 0s 18ms/step - loss: 6.4457\n",
      "Epoch 3/10\n",
      "7/7 [==============================] - 0s 16ms/step - loss: 6.3967\n",
      "Epoch 4/10\n",
      "7/7 [==============================] - 0s 10ms/step - loss: 6.2616\n",
      "Epoch 5/10\n",
      "7/7 [==============================] - 0s 13ms/step - loss: 6.3436\n",
      "Epoch 6/10\n",
      "7/7 [==============================] - 0s 15ms/step - loss: 6.2382\n",
      "Epoch 7/10\n",
      "7/7 [==============================] - 0s 10ms/step - loss: 6.2531\n",
      "Epoch 8/10\n",
      "7/7 [==============================] - 0s 14ms/step - loss: 6.1525\n",
      "Epoch 9/10\n",
      "7/7 [==============================] - 0s 10ms/step - loss: 6.1659\n",
      "Epoch 10/10\n",
      "7/7 [==============================] - 0s 9ms/step - loss: 6.1513\n",
      "4/4 [==============================] - 0s 5ms/step\n",
      "4/4 [==============================] - 0s 2ms/step\n",
      "Epoch 1/10\n"
     ]
    },
    {
     "name": "stderr",
     "output_type": "stream",
     "text": [
      "2024-12-09 21:34:28.110209: I tensorflow/core/grappler/optimizers/custom_graph_optimizer_registry.cc:114] Plugin optimizer for device_type GPU is enabled.\n",
      "2024-12-09 21:34:28.227599: I tensorflow/core/common_runtime/executor.cc:1197] [/device:CPU:0] (DEBUG INFO) Executor start aborting (this does not indicate an error and you can ignore this message): INVALID_ARGUMENT: You must feed a value for placeholder tensor 'Placeholder/_3' with dtype double and shape [1000,15]\n",
      "\t [[{{node Placeholder/_3}}]]\n",
      "2024-12-09 21:34:28.227843: I tensorflow/core/common_runtime/executor.cc:1197] [/device:CPU:0] (DEBUG INFO) Executor start aborting (this does not indicate an error and you can ignore this message): INVALID_ARGUMENT: You must feed a value for placeholder tensor 'Placeholder/_0' with dtype double and shape [1000,15]\n",
      "\t [[{{node Placeholder/_0}}]]\n",
      "2024-12-09 21:34:28.386649: I tensorflow/core/grappler/optimizers/custom_graph_optimizer_registry.cc:114] Plugin optimizer for device_type GPU is enabled.\n"
     ]
    },
    {
     "name": "stdout",
     "output_type": "stream",
     "text": [
      "63/63 [==============================] - 2s 17ms/step - loss: 5.6047\n",
      "Epoch 2/10\n",
      "63/63 [==============================] - 1s 8ms/step - loss: 4.8319\n",
      "Epoch 3/10\n",
      "63/63 [==============================] - 1s 8ms/step - loss: 5.1400\n",
      "Epoch 4/10\n",
      "63/63 [==============================] - 0s 8ms/step - loss: 3.9994\n",
      "Epoch 5/10\n",
      "63/63 [==============================] - 1s 9ms/step - loss: 1.5847\n",
      "Epoch 6/10\n",
      "63/63 [==============================] - 1s 8ms/step - loss: 0.7230\n",
      "Epoch 7/10\n",
      "63/63 [==============================] - 1s 8ms/step - loss: 0.7137\n",
      "Epoch 8/10\n",
      "63/63 [==============================] - 0s 8ms/step - loss: 0.7085\n",
      "Epoch 9/10\n",
      "63/63 [==============================] - 1s 8ms/step - loss: 0.7093\n",
      "Epoch 10/10\n",
      "63/63 [==============================] - 0s 8ms/step - loss: 0.7058\n",
      "32/32 [==============================] - 0s 2ms/step\n",
      "32/32 [==============================] - 0s 2ms/step\n"
     ]
    },
    {
     "name": "stderr",
     "output_type": "stream",
     "text": [
      "2024-12-09 21:34:34.625611: I tensorflow/core/grappler/optimizers/custom_graph_optimizer_registry.cc:114] Plugin optimizer for device_type GPU is enabled.\n"
     ]
    },
    {
     "name": "stdout",
     "output_type": "stream",
     "text": [
      "Epoch 1/10\n"
     ]
    },
    {
     "name": "stderr",
     "output_type": "stream",
     "text": [
      "2024-12-09 21:34:34.844165: I tensorflow/core/common_runtime/executor.cc:1197] [/device:CPU:0] (DEBUG INFO) Executor start aborting (this does not indicate an error and you can ignore this message): INVALID_ARGUMENT: You must feed a value for placeholder tensor 'Placeholder/_3' with dtype double and shape [1000,10]\n",
      "\t [[{{node Placeholder/_3}}]]\n",
      "2024-12-09 21:34:34.844441: I tensorflow/core/common_runtime/executor.cc:1197] [/device:CPU:0] (DEBUG INFO) Executor start aborting (this does not indicate an error and you can ignore this message): INVALID_ARGUMENT: You must feed a value for placeholder tensor 'Placeholder/_1' with dtype double and shape [1000]\n",
      "\t [[{{node Placeholder/_1}}]]\n",
      "2024-12-09 21:34:35.003058: I tensorflow/core/grappler/optimizers/custom_graph_optimizer_registry.cc:114] Plugin optimizer for device_type GPU is enabled.\n"
     ]
    },
    {
     "name": "stdout",
     "output_type": "stream",
     "text": [
      "63/63 [==============================] - 2s 17ms/step - loss: 5.1143\n",
      "Epoch 2/10\n",
      "63/63 [==============================] - 1s 9ms/step - loss: 2.1339\n",
      "Epoch 3/10\n",
      "63/63 [==============================] - 1s 8ms/step - loss: 0.7300\n",
      "Epoch 4/10\n",
      "63/63 [==============================] - 1s 8ms/step - loss: 0.7184\n",
      "Epoch 5/10\n",
      "63/63 [==============================] - 0s 8ms/step - loss: 0.7214\n",
      "Epoch 6/10\n",
      "63/63 [==============================] - 0s 8ms/step - loss: 0.7208\n",
      "Epoch 7/10\n",
      "63/63 [==============================] - 0s 8ms/step - loss: 0.7241\n",
      "Epoch 8/10\n",
      "63/63 [==============================] - 1s 8ms/step - loss: 0.7274\n",
      "Epoch 9/10\n",
      "63/63 [==============================] - 1s 8ms/step - loss: 0.7262\n",
      "Epoch 10/10\n",
      "63/63 [==============================] - 1s 8ms/step - loss: 0.7329\n",
      "32/32 [==============================] - 0s 2ms/step\n",
      "32/32 [==============================] - 0s 2ms/step\n"
     ]
    },
    {
     "name": "stderr",
     "output_type": "stream",
     "text": [
      "2024-12-09 21:34:41.184338: I tensorflow/core/grappler/optimizers/custom_graph_optimizer_registry.cc:114] Plugin optimizer for device_type GPU is enabled.\n"
     ]
    },
    {
     "name": "stdout",
     "output_type": "stream",
     "text": [
      "Epoch 1/10\n"
     ]
    },
    {
     "name": "stderr",
     "output_type": "stream",
     "text": [
      "2024-12-09 21:34:41.407629: I tensorflow/core/common_runtime/executor.cc:1197] [/device:CPU:0] (DEBUG INFO) Executor start aborting (this does not indicate an error and you can ignore this message): INVALID_ARGUMENT: You must feed a value for placeholder tensor 'Placeholder/_0' with dtype double and shape [1000,15]\n",
      "\t [[{{node Placeholder/_0}}]]\n",
      "2024-12-09 21:34:41.407879: I tensorflow/core/common_runtime/executor.cc:1197] [/device:CPU:0] (DEBUG INFO) Executor start aborting (this does not indicate an error and you can ignore this message): INVALID_ARGUMENT: You must feed a value for placeholder tensor 'Placeholder/_3' with dtype double and shape [1000,15]\n",
      "\t [[{{node Placeholder/_3}}]]\n",
      "2024-12-09 21:34:41.567865: I tensorflow/core/grappler/optimizers/custom_graph_optimizer_registry.cc:114] Plugin optimizer for device_type GPU is enabled.\n"
     ]
    },
    {
     "name": "stdout",
     "output_type": "stream",
     "text": [
      "63/63 [==============================] - 2s 17ms/step - loss: 4.5667\n",
      "Epoch 2/10\n",
      "63/63 [==============================] - 1s 8ms/step - loss: 2.4608\n",
      "Epoch 3/10\n",
      "63/63 [==============================] - 1s 8ms/step - loss: 0.7313\n",
      "Epoch 4/10\n",
      "63/63 [==============================] - 1s 8ms/step - loss: 0.7073\n",
      "Epoch 5/10\n",
      "63/63 [==============================] - 1s 8ms/step - loss: 0.7110\n",
      "Epoch 6/10\n",
      "63/63 [==============================] - 0s 8ms/step - loss: 0.7103\n",
      "Epoch 7/10\n",
      "63/63 [==============================] - 1s 8ms/step - loss: 0.7115\n",
      "Epoch 8/10\n",
      "63/63 [==============================] - 1s 8ms/step - loss: 0.7109\n",
      "Epoch 9/10\n",
      "63/63 [==============================] - 1s 9ms/step - loss: 0.7137\n",
      "Epoch 10/10\n",
      "63/63 [==============================] - 0s 8ms/step - loss: 0.7208\n",
      "32/32 [==============================] - 0s 2ms/step\n",
      "32/32 [==============================] - 0s 2ms/step\n"
     ]
    },
    {
     "name": "stderr",
     "output_type": "stream",
     "text": [
      "2024-12-09 21:34:47.864457: I tensorflow/core/grappler/optimizers/custom_graph_optimizer_registry.cc:114] Plugin optimizer for device_type GPU is enabled.\n"
     ]
    },
    {
     "name": "stdout",
     "output_type": "stream",
     "text": [
      "Epoch 1/10\n"
     ]
    },
    {
     "name": "stderr",
     "output_type": "stream",
     "text": [
      "2024-12-09 21:34:48.079899: I tensorflow/core/common_runtime/executor.cc:1197] [/device:CPU:0] (DEBUG INFO) Executor start aborting (this does not indicate an error and you can ignore this message): INVALID_ARGUMENT: You must feed a value for placeholder tensor 'Placeholder/_4' with dtype double and shape [1000]\n",
      "\t [[{{node Placeholder/_4}}]]\n",
      "2024-12-09 21:34:48.080157: I tensorflow/core/common_runtime/executor.cc:1197] [/device:CPU:0] (DEBUG INFO) Executor start aborting (this does not indicate an error and you can ignore this message): INVALID_ARGUMENT: You must feed a value for placeholder tensor 'Placeholder/_4' with dtype double and shape [1000]\n",
      "\t [[{{node Placeholder/_4}}]]\n",
      "2024-12-09 21:34:48.241798: I tensorflow/core/grappler/optimizers/custom_graph_optimizer_registry.cc:114] Plugin optimizer for device_type GPU is enabled.\n"
     ]
    },
    {
     "name": "stdout",
     "output_type": "stream",
     "text": [
      "63/63 [==============================] - 2s 17ms/step - loss: 4.7739\n",
      "Epoch 2/10\n",
      "63/63 [==============================] - 1s 9ms/step - loss: 3.0576\n",
      "Epoch 3/10\n",
      "63/63 [==============================] - 1s 11ms/step - loss: 0.9376\n",
      "Epoch 4/10\n",
      "63/63 [==============================] - 1s 8ms/step - loss: 0.7192\n",
      "Epoch 5/10\n",
      "63/63 [==============================] - 1s 8ms/step - loss: 0.7079\n",
      "Epoch 6/10\n",
      "63/63 [==============================] - 1s 9ms/step - loss: 0.7038\n",
      "Epoch 7/10\n",
      "63/63 [==============================] - 1s 8ms/step - loss: 0.7022\n",
      "Epoch 8/10\n",
      "63/63 [==============================] - 0s 8ms/step - loss: 0.7032\n",
      "Epoch 9/10\n",
      "63/63 [==============================] - 1s 8ms/step - loss: 0.7011\n",
      "Epoch 10/10\n",
      "63/63 [==============================] - 1s 9ms/step - loss: 0.7047\n",
      "32/32 [==============================] - 0s 2ms/step\n",
      "32/32 [==============================] - 0s 2ms/step\n"
     ]
    },
    {
     "name": "stderr",
     "output_type": "stream",
     "text": [
      "2024-12-09 21:34:54.766825: I tensorflow/core/grappler/optimizers/custom_graph_optimizer_registry.cc:114] Plugin optimizer for device_type GPU is enabled.\n"
     ]
    },
    {
     "name": "stdout",
     "output_type": "stream",
     "text": [
      "Epoch 1/10\n"
     ]
    },
    {
     "name": "stderr",
     "output_type": "stream",
     "text": [
      "2024-12-09 21:34:54.991508: I tensorflow/core/common_runtime/executor.cc:1197] [/device:CPU:0] (DEBUG INFO) Executor start aborting (this does not indicate an error and you can ignore this message): INVALID_ARGUMENT: You must feed a value for placeholder tensor 'Placeholder/_3' with dtype double and shape [1000,30]\n",
      "\t [[{{node Placeholder/_3}}]]\n",
      "2024-12-09 21:34:54.991746: I tensorflow/core/common_runtime/executor.cc:1197] [/device:CPU:0] (DEBUG INFO) Executor start aborting (this does not indicate an error and you can ignore this message): INVALID_ARGUMENT: You must feed a value for placeholder tensor 'Placeholder/_1' with dtype double and shape [1000]\n",
      "\t [[{{node Placeholder/_1}}]]\n",
      "2024-12-09 21:34:55.152211: I tensorflow/core/grappler/optimizers/custom_graph_optimizer_registry.cc:114] Plugin optimizer for device_type GPU is enabled.\n"
     ]
    },
    {
     "name": "stdout",
     "output_type": "stream",
     "text": [
      "63/63 [==============================] - 2s 17ms/step - loss: 6.3210\n",
      "Epoch 2/10\n",
      "63/63 [==============================] - 1s 9ms/step - loss: 6.1087\n",
      "Epoch 3/10\n",
      "63/63 [==============================] - 1s 8ms/step - loss: 6.1285\n",
      "Epoch 4/10\n",
      "63/63 [==============================] - 1s 8ms/step - loss: 6.0183\n",
      "Epoch 5/10\n",
      "63/63 [==============================] - 1s 9ms/step - loss: 6.0773\n",
      "Epoch 6/10\n",
      "63/63 [==============================] - 1s 8ms/step - loss: 6.0807\n",
      "Epoch 7/10\n",
      "63/63 [==============================] - 1s 8ms/step - loss: 6.0997\n",
      "Epoch 8/10\n",
      "63/63 [==============================] - 0s 8ms/step - loss: 6.0963\n",
      "Epoch 9/10\n",
      "63/63 [==============================] - 0s 8ms/step - loss: 6.1719\n",
      "Epoch 10/10\n",
      "63/63 [==============================] - 0s 8ms/step - loss: 6.2147\n",
      "32/32 [==============================] - 0s 2ms/step\n",
      "32/32 [==============================] - 0s 2ms/step\n"
     ]
    },
    {
     "name": "stderr",
     "output_type": "stream",
     "text": [
      "2024-12-09 21:35:01.390843: I tensorflow/core/grappler/optimizers/custom_graph_optimizer_registry.cc:114] Plugin optimizer for device_type GPU is enabled.\n"
     ]
    },
    {
     "name": "stdout",
     "output_type": "stream",
     "text": [
      "Epoch 1/10\n"
     ]
    },
    {
     "name": "stderr",
     "output_type": "stream",
     "text": [
      "2024-12-09 21:35:01.661193: I tensorflow/core/common_runtime/executor.cc:1197] [/device:CPU:0] (DEBUG INFO) Executor start aborting (this does not indicate an error and you can ignore this message): INVALID_ARGUMENT: You must feed a value for placeholder tensor 'Placeholder/_1' with dtype double and shape [1000]\n",
      "\t [[{{node Placeholder/_1}}]]\n",
      "2024-12-09 21:35:01.661433: I tensorflow/core/common_runtime/executor.cc:1197] [/device:CPU:0] (DEBUG INFO) Executor start aborting (this does not indicate an error and you can ignore this message): INVALID_ARGUMENT: You must feed a value for placeholder tensor 'Placeholder/_3' with dtype double and shape [1000,20]\n",
      "\t [[{{node Placeholder/_3}}]]\n",
      "2024-12-09 21:35:01.820298: I tensorflow/core/grappler/optimizers/custom_graph_optimizer_registry.cc:114] Plugin optimizer for device_type GPU is enabled.\n"
     ]
    },
    {
     "name": "stdout",
     "output_type": "stream",
     "text": [
      "63/63 [==============================] - 2s 17ms/step - loss: 6.1980\n",
      "Epoch 2/10\n",
      "63/63 [==============================] - 1s 8ms/step - loss: 5.8106\n",
      "Epoch 3/10\n",
      "63/63 [==============================] - 1s 8ms/step - loss: 5.4802\n",
      "Epoch 4/10\n",
      "63/63 [==============================] - 0s 8ms/step - loss: 5.4355\n",
      "Epoch 5/10\n",
      "63/63 [==============================] - 1s 8ms/step - loss: 5.6315\n",
      "Epoch 6/10\n",
      "63/63 [==============================] - 1s 8ms/step - loss: 5.4543\n",
      "Epoch 7/10\n",
      "63/63 [==============================] - 0s 8ms/step - loss: 5.6196\n",
      "Epoch 8/10\n",
      "63/63 [==============================] - 1s 8ms/step - loss: 5.6120\n",
      "Epoch 9/10\n",
      "63/63 [==============================] - 1s 8ms/step - loss: 5.4996\n",
      "Epoch 10/10\n",
      "63/63 [==============================] - 0s 8ms/step - loss: 5.3986\n",
      "32/32 [==============================] - 0s 2ms/step\n",
      "32/32 [==============================] - 0s 2ms/step\n"
     ]
    },
    {
     "name": "stderr",
     "output_type": "stream",
     "text": [
      "2024-12-09 21:35:08.029267: I tensorflow/core/grappler/optimizers/custom_graph_optimizer_registry.cc:114] Plugin optimizer for device_type GPU is enabled.\n"
     ]
    },
    {
     "name": "stdout",
     "output_type": "stream",
     "text": [
      "Epoch 1/10\n"
     ]
    },
    {
     "name": "stderr",
     "output_type": "stream",
     "text": [
      "2024-12-09 21:35:08.256815: I tensorflow/core/common_runtime/executor.cc:1197] [/device:CPU:0] (DEBUG INFO) Executor start aborting (this does not indicate an error and you can ignore this message): INVALID_ARGUMENT: You must feed a value for placeholder tensor 'Placeholder/_3' with dtype double and shape [1000,30]\n",
      "\t [[{{node Placeholder/_3}}]]\n",
      "2024-12-09 21:35:08.257049: I tensorflow/core/common_runtime/executor.cc:1197] [/device:CPU:0] (DEBUG INFO) Executor start aborting (this does not indicate an error and you can ignore this message): INVALID_ARGUMENT: You must feed a value for placeholder tensor 'Placeholder/_1' with dtype double and shape [1000]\n",
      "\t [[{{node Placeholder/_1}}]]\n",
      "2024-12-09 21:35:08.415906: I tensorflow/core/grappler/optimizers/custom_graph_optimizer_registry.cc:114] Plugin optimizer for device_type GPU is enabled.\n"
     ]
    },
    {
     "name": "stdout",
     "output_type": "stream",
     "text": [
      "63/63 [==============================] - 2s 18ms/step - loss: 5.8553\n",
      "Epoch 2/10\n",
      "63/63 [==============================] - 1s 9ms/step - loss: 5.8955\n",
      "Epoch 3/10\n",
      "63/63 [==============================] - 1s 9ms/step - loss: 5.6916\n",
      "Epoch 4/10\n",
      "63/63 [==============================] - 1s 8ms/step - loss: 5.7221\n",
      "Epoch 5/10\n",
      "63/63 [==============================] - 0s 8ms/step - loss: 5.8551\n",
      "Epoch 6/10\n",
      "63/63 [==============================] - 1s 8ms/step - loss: 5.7774\n",
      "Epoch 7/10\n",
      "63/63 [==============================] - 1s 8ms/step - loss: 5.7863\n",
      "Epoch 8/10\n",
      "63/63 [==============================] - 0s 7ms/step - loss: 5.8567\n",
      "Epoch 9/10\n",
      "63/63 [==============================] - 1s 8ms/step - loss: 5.6780\n",
      "Epoch 10/10\n",
      "63/63 [==============================] - 0s 8ms/step - loss: 6.4288\n",
      "32/32 [==============================] - 0s 2ms/step\n",
      "32/32 [==============================] - 0s 2ms/step\n"
     ]
    },
    {
     "name": "stderr",
     "output_type": "stream",
     "text": [
      "2024-12-09 21:35:14.796598: I tensorflow/core/grappler/optimizers/custom_graph_optimizer_registry.cc:114] Plugin optimizer for device_type GPU is enabled.\n"
     ]
    },
    {
     "name": "stdout",
     "output_type": "stream",
     "text": [
      "Epoch 1/10\n"
     ]
    },
    {
     "name": "stderr",
     "output_type": "stream",
     "text": [
      "2024-12-09 21:35:15.024653: I tensorflow/core/common_runtime/executor.cc:1197] [/device:CPU:0] (DEBUG INFO) Executor start aborting (this does not indicate an error and you can ignore this message): INVALID_ARGUMENT: You must feed a value for placeholder tensor 'Placeholder/_3' with dtype double and shape [1000,20]\n",
      "\t [[{{node Placeholder/_3}}]]\n",
      "2024-12-09 21:35:15.024950: I tensorflow/core/common_runtime/executor.cc:1197] [/device:CPU:0] (DEBUG INFO) Executor start aborting (this does not indicate an error and you can ignore this message): INVALID_ARGUMENT: You must feed a value for placeholder tensor 'Placeholder/_1' with dtype double and shape [1000]\n",
      "\t [[{{node Placeholder/_1}}]]\n",
      "2024-12-09 21:35:15.191161: I tensorflow/core/grappler/optimizers/custom_graph_optimizer_registry.cc:114] Plugin optimizer for device_type GPU is enabled.\n"
     ]
    },
    {
     "name": "stdout",
     "output_type": "stream",
     "text": [
      "63/63 [==============================] - 2s 18ms/step - loss: 5.9839\n",
      "Epoch 2/10\n",
      "63/63 [==============================] - 1s 9ms/step - loss: 5.5744\n",
      "Epoch 3/10\n",
      "63/63 [==============================] - 1s 8ms/step - loss: 5.3401\n",
      "Epoch 4/10\n",
      "63/63 [==============================] - 0s 8ms/step - loss: 5.0268\n",
      "Epoch 5/10\n",
      "63/63 [==============================] - 1s 9ms/step - loss: 4.7450\n",
      "Epoch 6/10\n",
      "63/63 [==============================] - 1s 9ms/step - loss: 4.8139\n",
      "Epoch 7/10\n",
      "63/63 [==============================] - 1s 8ms/step - loss: 5.0244\n",
      "Epoch 8/10\n",
      "63/63 [==============================] - 1s 8ms/step - loss: 4.7558\n",
      "Epoch 9/10\n",
      "63/63 [==============================] - 1s 9ms/step - loss: 4.4123\n",
      "Epoch 10/10\n",
      "63/63 [==============================] - 1s 8ms/step - loss: 3.8115\n",
      "32/32 [==============================] - 0s 2ms/step\n",
      "32/32 [==============================] - 0s 2ms/step\n"
     ]
    },
    {
     "name": "stderr",
     "output_type": "stream",
     "text": [
      "2024-12-09 21:35:21.585272: I tensorflow/core/grappler/optimizers/custom_graph_optimizer_registry.cc:114] Plugin optimizer for device_type GPU is enabled.\n"
     ]
    },
    {
     "name": "stdout",
     "output_type": "stream",
     "text": [
      "Epoch 1/10\n"
     ]
    },
    {
     "name": "stderr",
     "output_type": "stream",
     "text": [
      "2024-12-09 21:35:21.860201: I tensorflow/core/common_runtime/executor.cc:1197] [/device:CPU:0] (DEBUG INFO) Executor start aborting (this does not indicate an error and you can ignore this message): INVALID_ARGUMENT: You must feed a value for placeholder tensor 'Placeholder/_1' with dtype double and shape [1000]\n",
      "\t [[{{node Placeholder/_1}}]]\n",
      "2024-12-09 21:35:21.860478: I tensorflow/core/common_runtime/executor.cc:1197] [/device:CPU:0] (DEBUG INFO) Executor start aborting (this does not indicate an error and you can ignore this message): INVALID_ARGUMENT: You must feed a value for placeholder tensor 'Placeholder/_3' with dtype double and shape [1000,150]\n",
      "\t [[{{node Placeholder/_3}}]]\n",
      "2024-12-09 21:35:22.021256: I tensorflow/core/grappler/optimizers/custom_graph_optimizer_registry.cc:114] Plugin optimizer for device_type GPU is enabled.\n"
     ]
    },
    {
     "name": "stdout",
     "output_type": "stream",
     "text": [
      "63/63 [==============================] - 2s 18ms/step - loss: 6.4940\n",
      "Epoch 2/10\n",
      "63/63 [==============================] - 1s 9ms/step - loss: 6.3508\n",
      "Epoch 3/10\n",
      "63/63 [==============================] - 1s 9ms/step - loss: 6.2120\n",
      "Epoch 4/10\n",
      "63/63 [==============================] - 1s 8ms/step - loss: 6.2768\n",
      "Epoch 5/10\n",
      "63/63 [==============================] - 1s 8ms/step - loss: 6.6468\n",
      "Epoch 6/10\n",
      "63/63 [==============================] - 1s 8ms/step - loss: 6.3648\n",
      "Epoch 7/10\n",
      "63/63 [==============================] - 1s 8ms/step - loss: 6.5050\n",
      "Epoch 8/10\n",
      "63/63 [==============================] - 1s 8ms/step - loss: 6.4413\n",
      "Epoch 9/10\n",
      "63/63 [==============================] - 1s 8ms/step - loss: 6.3700\n",
      "Epoch 10/10\n",
      "63/63 [==============================] - 1s 8ms/step - loss: 6.3836\n",
      "32/32 [==============================] - 0s 2ms/step\n",
      "32/32 [==============================] - 0s 2ms/step\n"
     ]
    },
    {
     "name": "stderr",
     "output_type": "stream",
     "text": [
      "2024-12-09 21:35:28.353834: I tensorflow/core/grappler/optimizers/custom_graph_optimizer_registry.cc:114] Plugin optimizer for device_type GPU is enabled.\n"
     ]
    },
    {
     "name": "stdout",
     "output_type": "stream",
     "text": [
      "Epoch 1/10\n"
     ]
    },
    {
     "name": "stderr",
     "output_type": "stream",
     "text": [
      "2024-12-09 21:35:28.583793: I tensorflow/core/common_runtime/executor.cc:1197] [/device:CPU:0] (DEBUG INFO) Executor start aborting (this does not indicate an error and you can ignore this message): INVALID_ARGUMENT: You must feed a value for placeholder tensor 'Placeholder/_3' with dtype double and shape [1000,100]\n",
      "\t [[{{node Placeholder/_3}}]]\n",
      "2024-12-09 21:35:28.584077: I tensorflow/core/common_runtime/executor.cc:1197] [/device:CPU:0] (DEBUG INFO) Executor start aborting (this does not indicate an error and you can ignore this message): INVALID_ARGUMENT: You must feed a value for placeholder tensor 'Placeholder/_1' with dtype double and shape [1000]\n",
      "\t [[{{node Placeholder/_1}}]]\n",
      "2024-12-09 21:35:28.745234: I tensorflow/core/grappler/optimizers/custom_graph_optimizer_registry.cc:114] Plugin optimizer for device_type GPU is enabled.\n"
     ]
    },
    {
     "name": "stdout",
     "output_type": "stream",
     "text": [
      "63/63 [==============================] - 2s 18ms/step - loss: 6.5240\n",
      "Epoch 2/10\n",
      "63/63 [==============================] - 1s 9ms/step - loss: 6.5269\n",
      "Epoch 3/10\n",
      "63/63 [==============================] - 1s 9ms/step - loss: 6.5780\n",
      "Epoch 4/10\n",
      "63/63 [==============================] - 0s 8ms/step - loss: 6.6986\n",
      "Epoch 5/10\n",
      "63/63 [==============================] - 1s 8ms/step - loss: 6.5744\n",
      "Epoch 6/10\n",
      "63/63 [==============================] - 1s 8ms/step - loss: 6.5551\n",
      "Epoch 7/10\n",
      "63/63 [==============================] - 0s 8ms/step - loss: 6.5451\n",
      "Epoch 8/10\n",
      "63/63 [==============================] - 1s 8ms/step - loss: 6.4461\n",
      "Epoch 9/10\n",
      "63/63 [==============================] - 1s 8ms/step - loss: 6.3304\n",
      "Epoch 10/10\n",
      "63/63 [==============================] - 1s 9ms/step - loss: 6.3205\n",
      "32/32 [==============================] - 0s 2ms/step\n",
      "32/32 [==============================] - 0s 2ms/step\n"
     ]
    },
    {
     "name": "stderr",
     "output_type": "stream",
     "text": [
      "2024-12-09 21:35:35.113687: I tensorflow/core/grappler/optimizers/custom_graph_optimizer_registry.cc:114] Plugin optimizer for device_type GPU is enabled.\n"
     ]
    },
    {
     "name": "stdout",
     "output_type": "stream",
     "text": [
      "Epoch 1/10\n"
     ]
    },
    {
     "name": "stderr",
     "output_type": "stream",
     "text": [
      "2024-12-09 21:35:35.334367: I tensorflow/core/common_runtime/executor.cc:1197] [/device:CPU:0] (DEBUG INFO) Executor start aborting (this does not indicate an error and you can ignore this message): INVALID_ARGUMENT: You must feed a value for placeholder tensor 'Placeholder/_3' with dtype double and shape [1000,150]\n",
      "\t [[{{node Placeholder/_3}}]]\n",
      "2024-12-09 21:35:35.334607: I tensorflow/core/common_runtime/executor.cc:1197] [/device:CPU:0] (DEBUG INFO) Executor start aborting (this does not indicate an error and you can ignore this message): INVALID_ARGUMENT: You must feed a value for placeholder tensor 'Placeholder/_4' with dtype double and shape [1000]\n",
      "\t [[{{node Placeholder/_4}}]]\n",
      "2024-12-09 21:35:35.499807: I tensorflow/core/grappler/optimizers/custom_graph_optimizer_registry.cc:114] Plugin optimizer for device_type GPU is enabled.\n"
     ]
    },
    {
     "name": "stdout",
     "output_type": "stream",
     "text": [
      "63/63 [==============================] - 2s 18ms/step - loss: 6.7889\n",
      "Epoch 2/10\n",
      "63/63 [==============================] - 1s 8ms/step - loss: 6.4904\n",
      "Epoch 3/10\n",
      "63/63 [==============================] - 1s 8ms/step - loss: 6.4492\n",
      "Epoch 4/10\n",
      "63/63 [==============================] - 1s 8ms/step - loss: 6.4656\n",
      "Epoch 5/10\n",
      "63/63 [==============================] - 1s 8ms/step - loss: 6.5691\n",
      "Epoch 6/10\n",
      "63/63 [==============================] - 0s 8ms/step - loss: 6.5706\n",
      "Epoch 7/10\n",
      "63/63 [==============================] - 0s 8ms/step - loss: 6.4231\n",
      "Epoch 8/10\n",
      "63/63 [==============================] - 1s 8ms/step - loss: 6.4771\n",
      "Epoch 9/10\n",
      "63/63 [==============================] - 1s 8ms/step - loss: 6.4084\n",
      "Epoch 10/10\n",
      "63/63 [==============================] - 1s 8ms/step - loss: 6.4689\n",
      "32/32 [==============================] - 0s 3ms/step\n",
      " 1/32 [..............................] - ETA: 0s"
     ]
    },
    {
     "name": "stderr",
     "output_type": "stream",
     "text": [
      "2024-12-09 21:35:41.810648: I tensorflow/core/grappler/optimizers/custom_graph_optimizer_registry.cc:114] Plugin optimizer for device_type GPU is enabled.\n"
     ]
    },
    {
     "name": "stdout",
     "output_type": "stream",
     "text": [
      "32/32 [==============================] - 0s 2ms/step\n",
      "Epoch 1/10\n"
     ]
    },
    {
     "name": "stderr",
     "output_type": "stream",
     "text": [
      "2024-12-09 21:35:42.081251: I tensorflow/core/common_runtime/executor.cc:1197] [/device:CPU:0] (DEBUG INFO) Executor start aborting (this does not indicate an error and you can ignore this message): INVALID_ARGUMENT: You must feed a value for placeholder tensor 'Placeholder/_4' with dtype double and shape [1000]\n",
      "\t [[{{node Placeholder/_4}}]]\n",
      "2024-12-09 21:35:42.081485: I tensorflow/core/common_runtime/executor.cc:1197] [/device:CPU:0] (DEBUG INFO) Executor start aborting (this does not indicate an error and you can ignore this message): INVALID_ARGUMENT: You must feed a value for placeholder tensor 'Placeholder/_4' with dtype double and shape [1000]\n",
      "\t [[{{node Placeholder/_4}}]]\n",
      "2024-12-09 21:35:42.234013: I tensorflow/core/grappler/optimizers/custom_graph_optimizer_registry.cc:114] Plugin optimizer for device_type GPU is enabled.\n"
     ]
    },
    {
     "name": "stdout",
     "output_type": "stream",
     "text": [
      "63/63 [==============================] - 2s 18ms/step - loss: 6.6087\n",
      "Epoch 2/10\n",
      "63/63 [==============================] - 1s 8ms/step - loss: 6.3090\n",
      "Epoch 3/10\n",
      "63/63 [==============================] - 1s 8ms/step - loss: 6.3733\n",
      "Epoch 4/10\n",
      "63/63 [==============================] - 1s 8ms/step - loss: 6.2909\n",
      "Epoch 5/10\n",
      "63/63 [==============================] - 1s 10ms/step - loss: 6.3175\n",
      "Epoch 6/10\n",
      "63/63 [==============================] - 1s 9ms/step - loss: 6.2402\n",
      "Epoch 7/10\n",
      "63/63 [==============================] - 0s 8ms/step - loss: 6.3331\n",
      "Epoch 8/10\n",
      "63/63 [==============================] - 0s 8ms/step - loss: 6.5612\n",
      "Epoch 9/10\n",
      "63/63 [==============================] - 0s 8ms/step - loss: 6.4970\n",
      "Epoch 10/10\n",
      "63/63 [==============================] - 1s 9ms/step - loss: 6.5740\n",
      "32/32 [==============================] - 0s 2ms/step\n",
      " 1/32 [..............................] - ETA: 0s"
     ]
    },
    {
     "name": "stderr",
     "output_type": "stream",
     "text": [
      "2024-12-09 21:35:48.703727: I tensorflow/core/grappler/optimizers/custom_graph_optimizer_registry.cc:114] Plugin optimizer for device_type GPU is enabled.\n"
     ]
    },
    {
     "name": "stdout",
     "output_type": "stream",
     "text": [
      "32/32 [==============================] - 0s 3ms/step\n",
      "Epoch 1/10\n"
     ]
    },
    {
     "name": "stderr",
     "output_type": "stream",
     "text": [
      "2024-12-09 21:35:49.025726: I tensorflow/core/common_runtime/executor.cc:1197] [/device:CPU:0] (DEBUG INFO) Executor start aborting (this does not indicate an error and you can ignore this message): INVALID_ARGUMENT: You must feed a value for placeholder tensor 'Placeholder/_3' with dtype double and shape [1000,300]\n",
      "\t [[{{node Placeholder/_3}}]]\n",
      "2024-12-09 21:35:49.025985: I tensorflow/core/common_runtime/executor.cc:1197] [/device:CPU:0] (DEBUG INFO) Executor start aborting (this does not indicate an error and you can ignore this message): INVALID_ARGUMENT: You must feed a value for placeholder tensor 'Placeholder/_1' with dtype double and shape [1000]\n",
      "\t [[{{node Placeholder/_1}}]]\n",
      "2024-12-09 21:35:49.198226: I tensorflow/core/grappler/optimizers/custom_graph_optimizer_registry.cc:114] Plugin optimizer for device_type GPU is enabled.\n"
     ]
    },
    {
     "name": "stdout",
     "output_type": "stream",
     "text": [
      "63/63 [==============================] - 2s 18ms/step - loss: 6.7650\n",
      "Epoch 2/10\n",
      "63/63 [==============================] - 1s 9ms/step - loss: 6.5109\n",
      "Epoch 3/10\n",
      "63/63 [==============================] - 0s 8ms/step - loss: 6.4745\n",
      "Epoch 4/10\n",
      "63/63 [==============================] - 1s 9ms/step - loss: 6.6642\n",
      "Epoch 5/10\n",
      "63/63 [==============================] - 1s 8ms/step - loss: 6.6782\n",
      "Epoch 6/10\n",
      "63/63 [==============================] - 1s 10ms/step - loss: 6.5802\n",
      "Epoch 7/10\n",
      "63/63 [==============================] - 1s 8ms/step - loss: 6.6731\n",
      "Epoch 8/10\n",
      "63/63 [==============================] - 1s 8ms/step - loss: 6.7710\n",
      "Epoch 9/10\n",
      "63/63 [==============================] - 1s 8ms/step - loss: 6.7566\n",
      "Epoch 10/10\n",
      "63/63 [==============================] - 0s 8ms/step - loss: 6.8041\n",
      "32/32 [==============================] - 0s 2ms/step\n",
      "32/32 [==============================] - 0s 2ms/step\n"
     ]
    },
    {
     "name": "stderr",
     "output_type": "stream",
     "text": [
      "2024-12-09 21:35:55.607697: I tensorflow/core/grappler/optimizers/custom_graph_optimizer_registry.cc:114] Plugin optimizer for device_type GPU is enabled.\n"
     ]
    },
    {
     "name": "stdout",
     "output_type": "stream",
     "text": [
      "Epoch 1/10\n"
     ]
    },
    {
     "name": "stderr",
     "output_type": "stream",
     "text": [
      "2024-12-09 21:35:55.843434: I tensorflow/core/common_runtime/executor.cc:1197] [/device:CPU:0] (DEBUG INFO) Executor start aborting (this does not indicate an error and you can ignore this message): INVALID_ARGUMENT: You must feed a value for placeholder tensor 'Placeholder/_0' with dtype double and shape [1000,200]\n",
      "\t [[{{node Placeholder/_0}}]]\n",
      "2024-12-09 21:35:55.843675: I tensorflow/core/common_runtime/executor.cc:1197] [/device:CPU:0] (DEBUG INFO) Executor start aborting (this does not indicate an error and you can ignore this message): INVALID_ARGUMENT: You must feed a value for placeholder tensor 'Placeholder/_4' with dtype double and shape [1000]\n",
      "\t [[{{node Placeholder/_4}}]]\n",
      "2024-12-09 21:35:56.017933: I tensorflow/core/grappler/optimizers/custom_graph_optimizer_registry.cc:114] Plugin optimizer for device_type GPU is enabled.\n"
     ]
    },
    {
     "name": "stdout",
     "output_type": "stream",
     "text": [
      "63/63 [==============================] - 2s 19ms/step - loss: 6.2570\n",
      "Epoch 2/10\n",
      "63/63 [==============================] - 1s 9ms/step - loss: 6.1794\n",
      "Epoch 3/10\n",
      "63/63 [==============================] - 1s 12ms/step - loss: 6.1828\n",
      "Epoch 4/10\n",
      "63/63 [==============================] - 1s 10ms/step - loss: 6.2434\n",
      "Epoch 5/10\n",
      "63/63 [==============================] - 1s 8ms/step - loss: 6.1406\n",
      "Epoch 6/10\n",
      "63/63 [==============================] - 0s 8ms/step - loss: 6.2037\n",
      "Epoch 7/10\n",
      "63/63 [==============================] - 1s 8ms/step - loss: 6.4960\n",
      "Epoch 8/10\n",
      "63/63 [==============================] - 1s 9ms/step - loss: 6.4071\n",
      "Epoch 9/10\n",
      "63/63 [==============================] - 1s 8ms/step - loss: 6.2765\n",
      "Epoch 10/10\n",
      "63/63 [==============================] - 0s 8ms/step - loss: 6.2859\n",
      "32/32 [==============================] - 0s 3ms/step\n",
      " 1/32 [..............................] - ETA: 0s"
     ]
    },
    {
     "name": "stderr",
     "output_type": "stream",
     "text": [
      "2024-12-09 21:36:02.993469: I tensorflow/core/grappler/optimizers/custom_graph_optimizer_registry.cc:114] Plugin optimizer for device_type GPU is enabled.\n"
     ]
    },
    {
     "name": "stdout",
     "output_type": "stream",
     "text": [
      "32/32 [==============================] - 0s 2ms/step\n",
      "Epoch 1/10\n"
     ]
    },
    {
     "name": "stderr",
     "output_type": "stream",
     "text": [
      "2024-12-09 21:36:03.270133: I tensorflow/core/common_runtime/executor.cc:1197] [/device:CPU:0] (DEBUG INFO) Executor start aborting (this does not indicate an error and you can ignore this message): INVALID_ARGUMENT: You must feed a value for placeholder tensor 'Placeholder/_3' with dtype double and shape [1000,300]\n",
      "\t [[{{node Placeholder/_3}}]]\n",
      "2024-12-09 21:36:03.270366: I tensorflow/core/common_runtime/executor.cc:1197] [/device:CPU:0] (DEBUG INFO) Executor start aborting (this does not indicate an error and you can ignore this message): INVALID_ARGUMENT: You must feed a value for placeholder tensor 'Placeholder/_3' with dtype double and shape [1000,300]\n",
      "\t [[{{node Placeholder/_3}}]]\n",
      "2024-12-09 21:36:03.455702: I tensorflow/core/grappler/optimizers/custom_graph_optimizer_registry.cc:114] Plugin optimizer for device_type GPU is enabled.\n"
     ]
    },
    {
     "name": "stdout",
     "output_type": "stream",
     "text": [
      "63/63 [==============================] - 23s 20ms/step - loss: 6.6469\n",
      "Epoch 2/10\n",
      "63/63 [==============================] - 1s 9ms/step - loss: 6.6449\n",
      "Epoch 3/10\n",
      "63/63 [==============================] - 1s 9ms/step - loss: 6.5998\n",
      "Epoch 4/10\n",
      "63/63 [==============================] - 1s 8ms/step - loss: 6.8652\n",
      "Epoch 5/10\n",
      "63/63 [==============================] - 0s 8ms/step - loss: 6.8329\n",
      "Epoch 6/10\n",
      "63/63 [==============================] - 1s 8ms/step - loss: 6.8112\n",
      "Epoch 7/10\n",
      "63/63 [==============================] - 1s 8ms/step - loss: 6.6664\n",
      "Epoch 8/10\n",
      "63/63 [==============================] - 0s 8ms/step - loss: 6.6210\n",
      "Epoch 9/10\n",
      "63/63 [==============================] - 1s 8ms/step - loss: 6.5952\n",
      "Epoch 10/10\n",
      "63/63 [==============================] - 0s 8ms/step - loss: 6.5212\n",
      "32/32 [==============================] - 0s 2ms/step\n",
      "32/32 [==============================] - 0s 2ms/step\n"
     ]
    },
    {
     "name": "stderr",
     "output_type": "stream",
     "text": [
      "2024-12-09 21:36:31.215768: I tensorflow/core/grappler/optimizers/custom_graph_optimizer_registry.cc:114] Plugin optimizer for device_type GPU is enabled.\n"
     ]
    },
    {
     "name": "stdout",
     "output_type": "stream",
     "text": [
      "Epoch 1/10\n"
     ]
    },
    {
     "name": "stderr",
     "output_type": "stream",
     "text": [
      "2024-12-09 21:36:31.458429: I tensorflow/core/common_runtime/executor.cc:1197] [/device:CPU:0] (DEBUG INFO) Executor start aborting (this does not indicate an error and you can ignore this message): INVALID_ARGUMENT: You must feed a value for placeholder tensor 'Placeholder/_1' with dtype double and shape [1000]\n",
      "\t [[{{node Placeholder/_1}}]]\n",
      "2024-12-09 21:36:31.458683: I tensorflow/core/common_runtime/executor.cc:1197] [/device:CPU:0] (DEBUG INFO) Executor start aborting (this does not indicate an error and you can ignore this message): INVALID_ARGUMENT: You must feed a value for placeholder tensor 'Placeholder/_4' with dtype double and shape [1000]\n",
      "\t [[{{node Placeholder/_4}}]]\n",
      "2024-12-09 21:36:31.631975: I tensorflow/core/grappler/optimizers/custom_graph_optimizer_registry.cc:114] Plugin optimizer for device_type GPU is enabled.\n"
     ]
    },
    {
     "name": "stdout",
     "output_type": "stream",
     "text": [
      "63/63 [==============================] - 2s 19ms/step - loss: 6.4781\n",
      "Epoch 2/10\n",
      "63/63 [==============================] - 1s 9ms/step - loss: 6.3269\n",
      "Epoch 3/10\n",
      "63/63 [==============================] - 1s 8ms/step - loss: 6.1760\n",
      "Epoch 4/10\n",
      "63/63 [==============================] - 0s 8ms/step - loss: 6.2952\n",
      "Epoch 5/10\n",
      "63/63 [==============================] - 1s 10ms/step - loss: 6.7759\n",
      "Epoch 6/10\n",
      "63/63 [==============================] - 1s 8ms/step - loss: 6.6222\n",
      "Epoch 7/10\n",
      "63/63 [==============================] - 1s 9ms/step - loss: 6.6415\n",
      "Epoch 8/10\n",
      "63/63 [==============================] - 1s 9ms/step - loss: 6.6262\n",
      "Epoch 9/10\n",
      "63/63 [==============================] - 1s 8ms/step - loss: 6.5889\n",
      "Epoch 10/10\n",
      "63/63 [==============================] - 1s 8ms/step - loss: 6.5611\n",
      "32/32 [==============================] - 0s 2ms/step\n",
      "32/32 [==============================] - 0s 2ms/step\n"
     ]
    },
    {
     "name": "stderr",
     "output_type": "stream",
     "text": [
      "2024-12-09 21:36:38.259934: I tensorflow/core/grappler/optimizers/custom_graph_optimizer_registry.cc:114] Plugin optimizer for device_type GPU is enabled.\n"
     ]
    },
    {
     "name": "stdout",
     "output_type": "stream",
     "text": [
      "Epoch 1/10\n"
     ]
    },
    {
     "name": "stderr",
     "output_type": "stream",
     "text": [
      "2024-12-09 21:36:38.534720: I tensorflow/core/common_runtime/executor.cc:1197] [/device:CPU:0] (DEBUG INFO) Executor start aborting (this does not indicate an error and you can ignore this message): INVALID_ARGUMENT: You must feed a value for placeholder tensor 'Placeholder/_3' with dtype double and shape [1000,600]\n",
      "\t [[{{node Placeholder/_3}}]]\n",
      "2024-12-09 21:36:38.534989: I tensorflow/core/common_runtime/executor.cc:1197] [/device:CPU:0] (DEBUG INFO) Executor start aborting (this does not indicate an error and you can ignore this message): INVALID_ARGUMENT: You must feed a value for placeholder tensor 'Placeholder/_1' with dtype double and shape [1000]\n",
      "\t [[{{node Placeholder/_1}}]]\n",
      "2024-12-09 21:36:38.705339: I tensorflow/core/grappler/optimizers/custom_graph_optimizer_registry.cc:114] Plugin optimizer for device_type GPU is enabled.\n"
     ]
    },
    {
     "name": "stdout",
     "output_type": "stream",
     "text": [
      "63/63 [==============================] - 2s 17ms/step - loss: 6.8826\n",
      "Epoch 2/10\n",
      "63/63 [==============================] - 1s 8ms/step - loss: 6.7912\n",
      "Epoch 3/10\n",
      "63/63 [==============================] - 1s 9ms/step - loss: 6.8549\n",
      "Epoch 4/10\n",
      "63/63 [==============================] - 0s 8ms/step - loss: 6.7251\n",
      "Epoch 5/10\n",
      "63/63 [==============================] - 0s 8ms/step - loss: 6.6685\n",
      "Epoch 6/10\n",
      "63/63 [==============================] - 1s 8ms/step - loss: 6.6250\n",
      "Epoch 7/10\n",
      "63/63 [==============================] - 1s 8ms/step - loss: 6.5838\n",
      "Epoch 8/10\n",
      "63/63 [==============================] - 1s 9ms/step - loss: 6.5274\n",
      "Epoch 9/10\n",
      "63/63 [==============================] - 1s 8ms/step - loss: 6.5405\n",
      "Epoch 10/10\n",
      "63/63 [==============================] - 0s 8ms/step - loss: 6.6656\n",
      "32/32 [==============================] - 0s 2ms/step\n",
      "32/32 [==============================] - 0s 2ms/step\n"
     ]
    },
    {
     "name": "stderr",
     "output_type": "stream",
     "text": [
      "2024-12-09 21:36:44.955087: I tensorflow/core/grappler/optimizers/custom_graph_optimizer_registry.cc:114] Plugin optimizer for device_type GPU is enabled.\n"
     ]
    },
    {
     "name": "stdout",
     "output_type": "stream",
     "text": [
      "Epoch 1/10\n"
     ]
    },
    {
     "name": "stderr",
     "output_type": "stream",
     "text": [
      "2024-12-09 21:36:45.209265: I tensorflow/core/common_runtime/executor.cc:1197] [/device:CPU:0] (DEBUG INFO) Executor start aborting (this does not indicate an error and you can ignore this message): INVALID_ARGUMENT: You must feed a value for placeholder tensor 'Placeholder/_3' with dtype double and shape [1000,400]\n",
      "\t [[{{node Placeholder/_3}}]]\n",
      "2024-12-09 21:36:45.209508: I tensorflow/core/common_runtime/executor.cc:1197] [/device:CPU:0] (DEBUG INFO) Executor start aborting (this does not indicate an error and you can ignore this message): INVALID_ARGUMENT: You must feed a value for placeholder tensor 'Placeholder/_1' with dtype double and shape [1000]\n",
      "\t [[{{node Placeholder/_1}}]]\n",
      "2024-12-09 21:36:45.369909: I tensorflow/core/grappler/optimizers/custom_graph_optimizer_registry.cc:114] Plugin optimizer for device_type GPU is enabled.\n"
     ]
    },
    {
     "name": "stdout",
     "output_type": "stream",
     "text": [
      "63/63 [==============================] - 2s 17ms/step - loss: 6.8836\n",
      "Epoch 2/10\n",
      "63/63 [==============================] - 1s 9ms/step - loss: 6.7233\n",
      "Epoch 3/10\n",
      "63/63 [==============================] - 1s 9ms/step - loss: 6.7527\n",
      "Epoch 4/10\n",
      "63/63 [==============================] - 1s 8ms/step - loss: 6.8819\n",
      "Epoch 5/10\n",
      "63/63 [==============================] - 1s 8ms/step - loss: 6.7720\n",
      "Epoch 6/10\n",
      "63/63 [==============================] - 0s 8ms/step - loss: 6.6555\n",
      "Epoch 7/10\n",
      "63/63 [==============================] - 1s 8ms/step - loss: 6.7493\n",
      "Epoch 8/10\n",
      "63/63 [==============================] - 1s 8ms/step - loss: 6.8312\n",
      "Epoch 9/10\n",
      "63/63 [==============================] - 1s 8ms/step - loss: 6.9601\n",
      "Epoch 10/10\n",
      "63/63 [==============================] - 1s 8ms/step - loss: 6.8079\n",
      "32/32 [==============================] - 0s 2ms/step\n",
      "32/32 [==============================] - 0s 2ms/step\n"
     ]
    },
    {
     "name": "stderr",
     "output_type": "stream",
     "text": [
      "2024-12-09 21:36:51.727060: I tensorflow/core/grappler/optimizers/custom_graph_optimizer_registry.cc:114] Plugin optimizer for device_type GPU is enabled.\n"
     ]
    },
    {
     "name": "stdout",
     "output_type": "stream",
     "text": [
      "Epoch 1/10\n"
     ]
    },
    {
     "name": "stderr",
     "output_type": "stream",
     "text": [
      "2024-12-09 21:36:51.976357: I tensorflow/core/common_runtime/executor.cc:1197] [/device:CPU:0] (DEBUG INFO) Executor start aborting (this does not indicate an error and you can ignore this message): INVALID_ARGUMENT: You must feed a value for placeholder tensor 'Placeholder/_1' with dtype double and shape [1000]\n",
      "\t [[{{node Placeholder/_1}}]]\n",
      "2024-12-09 21:36:51.976651: I tensorflow/core/common_runtime/executor.cc:1197] [/device:CPU:0] (DEBUG INFO) Executor start aborting (this does not indicate an error and you can ignore this message): INVALID_ARGUMENT: You must feed a value for placeholder tensor 'Placeholder/_1' with dtype double and shape [1000]\n",
      "\t [[{{node Placeholder/_1}}]]\n",
      "2024-12-09 21:36:52.138716: I tensorflow/core/grappler/optimizers/custom_graph_optimizer_registry.cc:114] Plugin optimizer for device_type GPU is enabled.\n"
     ]
    },
    {
     "name": "stdout",
     "output_type": "stream",
     "text": [
      "63/63 [==============================] - 2s 19ms/step - loss: 6.7983\n",
      "Epoch 2/10\n",
      "63/63 [==============================] - 1s 8ms/step - loss: 6.5798\n",
      "Epoch 3/10\n",
      "63/63 [==============================] - 1s 9ms/step - loss: 6.7210\n",
      "Epoch 4/10\n",
      "63/63 [==============================] - 1s 8ms/step - loss: 6.6965\n",
      "Epoch 5/10\n",
      "63/63 [==============================] - 0s 7ms/step - loss: 6.5265\n",
      "Epoch 6/10\n",
      "63/63 [==============================] - 1s 8ms/step - loss: 6.5171\n",
      "Epoch 7/10\n",
      "63/63 [==============================] - 0s 8ms/step - loss: 6.7268\n",
      "Epoch 8/10\n",
      "63/63 [==============================] - 0s 8ms/step - loss: 6.8424\n",
      "Epoch 9/10\n",
      "63/63 [==============================] - 0s 7ms/step - loss: 6.7041\n",
      "Epoch 10/10\n",
      "63/63 [==============================] - 1s 8ms/step - loss: 7.0397\n",
      "32/32 [==============================] - 0s 2ms/step\n"
     ]
    },
    {
     "name": "stderr",
     "output_type": "stream",
     "text": [
      "2024-12-09 21:36:58.431482: I tensorflow/core/grappler/optimizers/custom_graph_optimizer_registry.cc:114] Plugin optimizer for device_type GPU is enabled.\n"
     ]
    },
    {
     "name": "stdout",
     "output_type": "stream",
     "text": [
      "32/32 [==============================] - 0s 6ms/step\n",
      "Epoch 1/10\n"
     ]
    },
    {
     "name": "stderr",
     "output_type": "stream",
     "text": [
      "2024-12-09 21:37:03.050607: I tensorflow/core/common_runtime/executor.cc:1197] [/device:CPU:0] (DEBUG INFO) Executor start aborting (this does not indicate an error and you can ignore this message): INVALID_ARGUMENT: You must feed a value for placeholder tensor 'Placeholder/_3' with dtype double and shape [1000,400]\n",
      "\t [[{{node Placeholder/_3}}]]\n",
      "2024-12-09 21:37:03.050887: I tensorflow/core/common_runtime/executor.cc:1197] [/device:CPU:0] (DEBUG INFO) Executor start aborting (this does not indicate an error and you can ignore this message): INVALID_ARGUMENT: You must feed a value for placeholder tensor 'Placeholder/_1' with dtype double and shape [1000]\n",
      "\t [[{{node Placeholder/_1}}]]\n",
      "2024-12-09 21:37:03.256126: I tensorflow/core/grappler/optimizers/custom_graph_optimizer_registry.cc:114] Plugin optimizer for device_type GPU is enabled.\n"
     ]
    },
    {
     "name": "stdout",
     "output_type": "stream",
     "text": [
      "63/63 [==============================] - 2s 18ms/step - loss: 6.9157\n",
      "Epoch 2/10\n",
      "63/63 [==============================] - 1s 9ms/step - loss: 6.6460\n",
      "Epoch 3/10\n",
      "63/63 [==============================] - 1s 9ms/step - loss: 6.5842\n",
      "Epoch 4/10\n",
      "63/63 [==============================] - 1s 9ms/step - loss: 6.5039\n",
      "Epoch 5/10\n",
      "63/63 [==============================] - 1s 9ms/step - loss: 6.7611\n",
      "Epoch 6/10\n",
      "63/63 [==============================] - 1s 8ms/step - loss: 6.7911\n",
      "Epoch 7/10\n",
      "63/63 [==============================] - 1s 9ms/step - loss: 6.8310\n",
      "Epoch 8/10\n",
      "63/63 [==============================] - 1s 9ms/step - loss: 6.7725\n",
      "Epoch 9/10\n",
      "63/63 [==============================] - 1s 8ms/step - loss: 6.8226\n",
      "Epoch 10/10\n",
      "63/63 [==============================] - 1s 9ms/step - loss: 6.9320\n",
      "32/32 [==============================] - 0s 2ms/step\n",
      "28/32 [=========================>....] - ETA: 0s"
     ]
    },
    {
     "name": "stderr",
     "output_type": "stream",
     "text": [
      "2024-12-09 21:37:10.225842: I tensorflow/core/grappler/optimizers/custom_graph_optimizer_registry.cc:114] Plugin optimizer for device_type GPU is enabled.\n"
     ]
    },
    {
     "name": "stdout",
     "output_type": "stream",
     "text": [
      "32/32 [==============================] - 0s 2ms/step\n",
      "Epoch 1/10\n"
     ]
    },
    {
     "name": "stderr",
     "output_type": "stream",
     "text": [
      "2024-12-09 21:37:10.476708: I tensorflow/core/common_runtime/executor.cc:1197] [/device:CPU:0] (DEBUG INFO) Executor start aborting (this does not indicate an error and you can ignore this message): INVALID_ARGUMENT: You must feed a value for placeholder tensor 'Placeholder/_1' with dtype double and shape [10000]\n",
      "\t [[{{node Placeholder/_1}}]]\n",
      "2024-12-09 21:37:10.477012: I tensorflow/core/common_runtime/executor.cc:1197] [/device:CPU:0] (DEBUG INFO) Executor start aborting (this does not indicate an error and you can ignore this message): INVALID_ARGUMENT: You must feed a value for placeholder tensor 'Placeholder/_1' with dtype double and shape [10000]\n",
      "\t [[{{node Placeholder/_1}}]]\n",
      "2024-12-09 21:37:10.642936: I tensorflow/core/grappler/optimizers/custom_graph_optimizer_registry.cc:114] Plugin optimizer for device_type GPU is enabled.\n"
     ]
    },
    {
     "name": "stdout",
     "output_type": "stream",
     "text": [
      "625/625 [==============================] - 6s 9ms/step - loss: 4.8080\n",
      "Epoch 2/10\n",
      "625/625 [==============================] - 5s 9ms/step - loss: 5.0970\n",
      "Epoch 3/10\n",
      "625/625 [==============================] - 5s 8ms/step - loss: 0.6955\n",
      "Epoch 4/10\n",
      "625/625 [==============================] - 5s 8ms/step - loss: 0.7043\n",
      "Epoch 5/10\n",
      "625/625 [==============================] - 5s 8ms/step - loss: 0.6120\n",
      "Epoch 6/10\n",
      "625/625 [==============================] - 5s 8ms/step - loss: 1.9935\n",
      "Epoch 7/10\n",
      "625/625 [==============================] - 5s 8ms/step - loss: 4.8401\n",
      "Epoch 8/10\n",
      "625/625 [==============================] - 5s 8ms/step - loss: 1.3601\n",
      "Epoch 9/10\n",
      "625/625 [==============================] - 5s 8ms/step - loss: 3.2709\n",
      "Epoch 10/10\n",
      "625/625 [==============================] - 5s 8ms/step - loss: 5.1075\n",
      " 81/313 [======>.......................] - ETA: 0s"
     ]
    },
    {
     "name": "stderr",
     "output_type": "stream",
     "text": [
      "2024-12-09 21:38:03.122423: I tensorflow/core/grappler/optimizers/custom_graph_optimizer_registry.cc:114] Plugin optimizer for device_type GPU is enabled.\n"
     ]
    },
    {
     "name": "stdout",
     "output_type": "stream",
     "text": [
      "313/313 [==============================] - 1s 2ms/step\n",
      "313/313 [==============================] - 1s 2ms/step\n",
      "Epoch 1/10\n"
     ]
    },
    {
     "name": "stderr",
     "output_type": "stream",
     "text": [
      "2024-12-09 21:38:04.421597: I tensorflow/core/common_runtime/executor.cc:1197] [/device:CPU:0] (DEBUG INFO) Executor start aborting (this does not indicate an error and you can ignore this message): INVALID_ARGUMENT: You must feed a value for placeholder tensor 'Placeholder/_3' with dtype double and shape [10000,10]\n",
      "\t [[{{node Placeholder/_3}}]]\n",
      "2024-12-09 21:38:04.421875: I tensorflow/core/common_runtime/executor.cc:1197] [/device:CPU:0] (DEBUG INFO) Executor start aborting (this does not indicate an error and you can ignore this message): INVALID_ARGUMENT: You must feed a value for placeholder tensor 'Placeholder/_1' with dtype double and shape [10000]\n",
      "\t [[{{node Placeholder/_1}}]]\n",
      "2024-12-09 21:38:04.585647: I tensorflow/core/grappler/optimizers/custom_graph_optimizer_registry.cc:114] Plugin optimizer for device_type GPU is enabled.\n"
     ]
    },
    {
     "name": "stdout",
     "output_type": "stream",
     "text": [
      "625/625 [==============================] - 6s 8ms/step - loss: 3.0599\n",
      "Epoch 2/10\n",
      "625/625 [==============================] - 5s 8ms/step - loss: 2.8064\n",
      "Epoch 3/10\n",
      "625/625 [==============================] - 5s 8ms/step - loss: 5.7570\n",
      "Epoch 4/10\n",
      "625/625 [==============================] - 5s 8ms/step - loss: 3.6935\n",
      "Epoch 5/10\n",
      "625/625 [==============================] - 5s 8ms/step - loss: 2.5136\n",
      "Epoch 6/10\n",
      "625/625 [==============================] - 5s 8ms/step - loss: 0.9299\n",
      "Epoch 7/10\n",
      "625/625 [==============================] - 5s 8ms/step - loss: 0.8622\n",
      "Epoch 8/10\n",
      "625/625 [==============================] - 5s 8ms/step - loss: 1.9427\n",
      "Epoch 9/10\n",
      "625/625 [==============================] - 5s 8ms/step - loss: 0.6961\n",
      "Epoch 10/10\n",
      "625/625 [==============================] - 5s 8ms/step - loss: 0.7237\n",
      " 43/313 [===>..........................] - ETA: 0s"
     ]
    },
    {
     "name": "stderr",
     "output_type": "stream",
     "text": [
      "2024-12-09 21:38:54.020398: I tensorflow/core/grappler/optimizers/custom_graph_optimizer_registry.cc:114] Plugin optimizer for device_type GPU is enabled.\n"
     ]
    },
    {
     "name": "stdout",
     "output_type": "stream",
     "text": [
      "313/313 [==============================] - 1s 2ms/step\n",
      "313/313 [==============================] - 0s 2ms/step\n",
      "Epoch 1/10\n"
     ]
    },
    {
     "name": "stderr",
     "output_type": "stream",
     "text": [
      "2024-12-09 21:38:55.271100: I tensorflow/core/common_runtime/executor.cc:1197] [/device:CPU:0] (DEBUG INFO) Executor start aborting (this does not indicate an error and you can ignore this message): INVALID_ARGUMENT: You must feed a value for placeholder tensor 'Placeholder/_4' with dtype double and shape [10000]\n",
      "\t [[{{node Placeholder/_4}}]]\n",
      "2024-12-09 21:38:55.271332: I tensorflow/core/common_runtime/executor.cc:1197] [/device:CPU:0] (DEBUG INFO) Executor start aborting (this does not indicate an error and you can ignore this message): INVALID_ARGUMENT: You must feed a value for placeholder tensor 'Placeholder/_4' with dtype double and shape [10000]\n",
      "\t [[{{node Placeholder/_4}}]]\n",
      "2024-12-09 21:38:55.437261: I tensorflow/core/grappler/optimizers/custom_graph_optimizer_registry.cc:114] Plugin optimizer for device_type GPU is enabled.\n"
     ]
    },
    {
     "name": "stdout",
     "output_type": "stream",
     "text": [
      "625/625 [==============================] - 6s 8ms/step - loss: 2.4720\n",
      "Epoch 2/10\n",
      "625/625 [==============================] - 5s 8ms/step - loss: 3.2408\n",
      "Epoch 3/10\n",
      "625/625 [==============================] - 5s 8ms/step - loss: 4.3902\n",
      "Epoch 4/10\n",
      "625/625 [==============================] - 5s 8ms/step - loss: 3.6079\n",
      "Epoch 5/10\n",
      "625/625 [==============================] - 5s 7ms/step - loss: 1.5500\n",
      "Epoch 6/10\n",
      "625/625 [==============================] - 5s 8ms/step - loss: 0.6758\n",
      "Epoch 7/10\n",
      "625/625 [==============================] - 5s 8ms/step - loss: 0.6113\n",
      "Epoch 8/10\n",
      "625/625 [==============================] - 5s 8ms/step - loss: 0.9916\n",
      "Epoch 9/10\n",
      "625/625 [==============================] - 5s 8ms/step - loss: 6.1795\n",
      "Epoch 10/10\n",
      "625/625 [==============================] - 5s 8ms/step - loss: 6.4783\n",
      " 48/313 [===>..........................] - ETA: 0s"
     ]
    },
    {
     "name": "stderr",
     "output_type": "stream",
     "text": [
      "2024-12-09 21:39:44.500556: I tensorflow/core/grappler/optimizers/custom_graph_optimizer_registry.cc:114] Plugin optimizer for device_type GPU is enabled.\n"
     ]
    },
    {
     "name": "stdout",
     "output_type": "stream",
     "text": [
      "313/313 [==============================] - 1s 2ms/step\n",
      "313/313 [==============================] - 0s 1ms/step\n",
      "Epoch 1/10\n"
     ]
    },
    {
     "name": "stderr",
     "output_type": "stream",
     "text": [
      "2024-12-09 21:39:45.847564: I tensorflow/core/common_runtime/executor.cc:1197] [/device:CPU:0] (DEBUG INFO) Executor start aborting (this does not indicate an error and you can ignore this message): INVALID_ARGUMENT: You must feed a value for placeholder tensor 'Placeholder/_4' with dtype double and shape [10000]\n",
      "\t [[{{node Placeholder/_4}}]]\n",
      "2024-12-09 21:39:45.847898: I tensorflow/core/common_runtime/executor.cc:1197] [/device:CPU:0] (DEBUG INFO) Executor start aborting (this does not indicate an error and you can ignore this message): INVALID_ARGUMENT: You must feed a value for placeholder tensor 'Placeholder/_1' with dtype double and shape [10000]\n",
      "\t [[{{node Placeholder/_1}}]]\n",
      "2024-12-09 21:39:46.011331: I tensorflow/core/grappler/optimizers/custom_graph_optimizer_registry.cc:114] Plugin optimizer for device_type GPU is enabled.\n"
     ]
    },
    {
     "name": "stdout",
     "output_type": "stream",
     "text": [
      "625/625 [==============================] - 6s 8ms/step - loss: 2.4156\n",
      "Epoch 2/10\n",
      "625/625 [==============================] - 5s 7ms/step - loss: 4.3694\n",
      "Epoch 3/10\n",
      "625/625 [==============================] - 5s 8ms/step - loss: 4.3115\n",
      "Epoch 4/10\n",
      "625/625 [==============================] - 5s 7ms/step - loss: 7.7125\n",
      "Epoch 5/10\n",
      "625/625 [==============================] - 4s 7ms/step - loss: 7.7125\n",
      "Epoch 6/10\n",
      "625/625 [==============================] - 5s 8ms/step - loss: 7.7125\n",
      "Epoch 7/10\n",
      "625/625 [==============================] - 5s 7ms/step - loss: 7.7125\n",
      "Epoch 8/10\n",
      "625/625 [==============================] - 5s 7ms/step - loss: 7.7125\n",
      "Epoch 9/10\n",
      "625/625 [==============================] - 5s 7ms/step - loss: 7.7125\n",
      "Epoch 10/10\n",
      "625/625 [==============================] - 4s 7ms/step - loss: 7.7125\n",
      " 51/313 [===>..........................] - ETA: 0s"
     ]
    },
    {
     "name": "stderr",
     "output_type": "stream",
     "text": [
      "2024-12-09 21:40:33.373832: I tensorflow/core/grappler/optimizers/custom_graph_optimizer_registry.cc:114] Plugin optimizer for device_type GPU is enabled.\n"
     ]
    },
    {
     "name": "stdout",
     "output_type": "stream",
     "text": [
      "313/313 [==============================] - 1s 2ms/step\n",
      "313/313 [==============================] - 0s 1ms/step\n",
      "Epoch 1/10\n"
     ]
    },
    {
     "name": "stderr",
     "output_type": "stream",
     "text": [
      "2024-12-09 21:40:34.594448: I tensorflow/core/common_runtime/executor.cc:1197] [/device:CPU:0] (DEBUG INFO) Executor start aborting (this does not indicate an error and you can ignore this message): INVALID_ARGUMENT: You must feed a value for placeholder tensor 'Placeholder/_3' with dtype double and shape [10000,30]\n",
      "\t [[{{node Placeholder/_3}}]]\n",
      "2024-12-09 21:40:34.594705: I tensorflow/core/common_runtime/executor.cc:1197] [/device:CPU:0] (DEBUG INFO) Executor start aborting (this does not indicate an error and you can ignore this message): INVALID_ARGUMENT: You must feed a value for placeholder tensor 'Placeholder/_0' with dtype double and shape [10000,30]\n",
      "\t [[{{node Placeholder/_0}}]]\n",
      "2024-12-09 21:40:34.771123: I tensorflow/core/grappler/optimizers/custom_graph_optimizer_registry.cc:114] Plugin optimizer for device_type GPU is enabled.\n"
     ]
    },
    {
     "name": "stdout",
     "output_type": "stream",
     "text": [
      "625/625 [==============================] - 6s 8ms/step - loss: 4.1184\n",
      "Epoch 2/10\n",
      "625/625 [==============================] - 5s 7ms/step - loss: 2.6143\n",
      "Epoch 3/10\n",
      "625/625 [==============================] - 4s 7ms/step - loss: 1.4878\n",
      "Epoch 4/10\n",
      "625/625 [==============================] - 5s 7ms/step - loss: 3.9932\n",
      "Epoch 5/10\n",
      "625/625 [==============================] - 5s 8ms/step - loss: 1.1505\n",
      "Epoch 6/10\n",
      "625/625 [==============================] - 5s 8ms/step - loss: 1.9154\n",
      "Epoch 7/10\n",
      "625/625 [==============================] - 5s 8ms/step - loss: 4.7714\n",
      "Epoch 8/10\n",
      "625/625 [==============================] - 5s 8ms/step - loss: 5.0231\n",
      "Epoch 9/10\n",
      "625/625 [==============================] - 5s 8ms/step - loss: 6.3469\n",
      "Epoch 10/10\n",
      "625/625 [==============================] - 5s 8ms/step - loss: 6.3757\n",
      " 43/313 [===>..........................] - ETA: 0s"
     ]
    },
    {
     "name": "stderr",
     "output_type": "stream",
     "text": [
      "2024-12-09 21:41:22.891096: I tensorflow/core/grappler/optimizers/custom_graph_optimizer_registry.cc:114] Plugin optimizer for device_type GPU is enabled.\n"
     ]
    },
    {
     "name": "stdout",
     "output_type": "stream",
     "text": [
      "313/313 [==============================] - 1s 2ms/step\n",
      "313/313 [==============================] - 1s 2ms/step\n",
      "Epoch 1/10\n"
     ]
    },
    {
     "name": "stderr",
     "output_type": "stream",
     "text": [
      "2024-12-09 21:41:24.185311: I tensorflow/core/common_runtime/executor.cc:1197] [/device:CPU:0] (DEBUG INFO) Executor start aborting (this does not indicate an error and you can ignore this message): INVALID_ARGUMENT: You must feed a value for placeholder tensor 'Placeholder/_3' with dtype double and shape [10000,20]\n",
      "\t [[{{node Placeholder/_3}}]]\n",
      "2024-12-09 21:41:24.185558: I tensorflow/core/common_runtime/executor.cc:1197] [/device:CPU:0] (DEBUG INFO) Executor start aborting (this does not indicate an error and you can ignore this message): INVALID_ARGUMENT: You must feed a value for placeholder tensor 'Placeholder/_1' with dtype double and shape [10000]\n",
      "\t [[{{node Placeholder/_1}}]]\n",
      "2024-12-09 21:41:24.352327: I tensorflow/core/grappler/optimizers/custom_graph_optimizer_registry.cc:114] Plugin optimizer for device_type GPU is enabled.\n"
     ]
    },
    {
     "name": "stdout",
     "output_type": "stream",
     "text": [
      "625/625 [==============================] - 6s 8ms/step - loss: 2.5107\n",
      "Epoch 2/10\n",
      "625/625 [==============================] - 5s 8ms/step - loss: 4.7572\n",
      "Epoch 3/10\n",
      "625/625 [==============================] - 5s 8ms/step - loss: 3.6950\n",
      "Epoch 4/10\n",
      "625/625 [==============================] - 5s 8ms/step - loss: 3.8954\n",
      "Epoch 5/10\n",
      "625/625 [==============================] - 5s 7ms/step - loss: 5.3696\n",
      "Epoch 6/10\n",
      "625/625 [==============================] - 5s 8ms/step - loss: 1.8167\n",
      "Epoch 7/10\n",
      "625/625 [==============================] - 5s 8ms/step - loss: 0.9243\n",
      "Epoch 8/10\n",
      "625/625 [==============================] - 5s 8ms/step - loss: 0.6125\n",
      "Epoch 9/10\n",
      "625/625 [==============================] - 5s 8ms/step - loss: 4.4275\n",
      "Epoch 10/10\n",
      "625/625 [==============================] - 5s 8ms/step - loss: 3.6028\n",
      " 97/313 [========>.....................] - ETA: 0s"
     ]
    },
    {
     "name": "stderr",
     "output_type": "stream",
     "text": [
      "2024-12-09 21:42:12.811607: I tensorflow/core/grappler/optimizers/custom_graph_optimizer_registry.cc:114] Plugin optimizer for device_type GPU is enabled.\n"
     ]
    },
    {
     "name": "stdout",
     "output_type": "stream",
     "text": [
      "313/313 [==============================] - 1s 2ms/step\n",
      "313/313 [==============================] - 0s 2ms/step\n",
      "Epoch 1/10\n"
     ]
    },
    {
     "name": "stderr",
     "output_type": "stream",
     "text": [
      "2024-12-09 21:42:13.995363: I tensorflow/core/common_runtime/executor.cc:1197] [/device:CPU:0] (DEBUG INFO) Executor start aborting (this does not indicate an error and you can ignore this message): INVALID_ARGUMENT: You must feed a value for placeholder tensor 'Placeholder/_3' with dtype double and shape [10000,30]\n",
      "\t [[{{node Placeholder/_3}}]]\n",
      "2024-12-09 21:42:13.995610: I tensorflow/core/common_runtime/executor.cc:1197] [/device:CPU:0] (DEBUG INFO) Executor start aborting (this does not indicate an error and you can ignore this message): INVALID_ARGUMENT: You must feed a value for placeholder tensor 'Placeholder/_1' with dtype double and shape [10000]\n",
      "\t [[{{node Placeholder/_1}}]]\n",
      "2024-12-09 21:42:14.195752: I tensorflow/core/grappler/optimizers/custom_graph_optimizer_registry.cc:114] Plugin optimizer for device_type GPU is enabled.\n"
     ]
    },
    {
     "name": "stdout",
     "output_type": "stream",
     "text": [
      "625/625 [==============================] - 6s 8ms/step - loss: 5.4540\n",
      "Epoch 2/10\n",
      "625/625 [==============================] - 5s 8ms/step - loss: 6.0959\n",
      "Epoch 3/10\n",
      "625/625 [==============================] - 5s 8ms/step - loss: 6.7325\n",
      "Epoch 4/10\n",
      "625/625 [==============================] - 5s 8ms/step - loss: 6.5604\n",
      "Epoch 5/10\n",
      "625/625 [==============================] - 5s 8ms/step - loss: 6.8633\n",
      "Epoch 6/10\n",
      "625/625 [==============================] - 5s 8ms/step - loss: 6.7563\n",
      "Epoch 7/10\n",
      "625/625 [==============================] - 5s 8ms/step - loss: 6.7469\n",
      "Epoch 8/10\n",
      "625/625 [==============================] - 5s 8ms/step - loss: 6.7516\n",
      "Epoch 9/10\n",
      "625/625 [==============================] - 5s 8ms/step - loss: 6.6740\n",
      "Epoch 10/10\n",
      "625/625 [==============================] - 5s 8ms/step - loss: 7.0374\n",
      " 96/313 [========>.....................] - ETA: 0s"
     ]
    },
    {
     "name": "stderr",
     "output_type": "stream",
     "text": [
      "2024-12-09 21:43:02.570489: I tensorflow/core/grappler/optimizers/custom_graph_optimizer_registry.cc:114] Plugin optimizer for device_type GPU is enabled.\n"
     ]
    },
    {
     "name": "stdout",
     "output_type": "stream",
     "text": [
      "313/313 [==============================] - 1s 2ms/step\n",
      "313/313 [==============================] - 0s 2ms/step\n",
      "Epoch 1/10\n"
     ]
    },
    {
     "name": "stderr",
     "output_type": "stream",
     "text": [
      "2024-12-09 21:43:03.752783: I tensorflow/core/common_runtime/executor.cc:1197] [/device:CPU:0] (DEBUG INFO) Executor start aborting (this does not indicate an error and you can ignore this message): INVALID_ARGUMENT: You must feed a value for placeholder tensor 'Placeholder/_3' with dtype double and shape [10000,20]\n",
      "\t [[{{node Placeholder/_3}}]]\n",
      "2024-12-09 21:43:03.753027: I tensorflow/core/common_runtime/executor.cc:1197] [/device:CPU:0] (DEBUG INFO) Executor start aborting (this does not indicate an error and you can ignore this message): INVALID_ARGUMENT: You must feed a value for placeholder tensor 'Placeholder/_4' with dtype double and shape [10000]\n",
      "\t [[{{node Placeholder/_4}}]]\n",
      "2024-12-09 21:43:03.909348: I tensorflow/core/grappler/optimizers/custom_graph_optimizer_registry.cc:114] Plugin optimizer for device_type GPU is enabled.\n"
     ]
    },
    {
     "name": "stdout",
     "output_type": "stream",
     "text": [
      "625/625 [==============================] - 6s 9ms/step - loss: 4.4874\n",
      "Epoch 2/10\n",
      "625/625 [==============================] - 263s 421ms/step - loss: 6.8592\n",
      "Epoch 3/10\n",
      "625/625 [==============================] - 5s 8ms/step - loss: 6.6380\n",
      "Epoch 4/10\n",
      "625/625 [==============================] - 5s 7ms/step - loss: 6.8716\n",
      "Epoch 5/10\n",
      "625/625 [==============================] - 705s 1s/step - loss: 6.8099\n",
      "Epoch 6/10\n",
      "625/625 [==============================] - 5s 7ms/step - loss: 6.9859\n",
      "Epoch 7/10\n",
      "625/625 [==============================] - 5s 8ms/step - loss: 6.8680\n",
      "Epoch 8/10\n",
      "625/625 [==============================] - 5s 7ms/step - loss: 6.9264\n",
      "Epoch 9/10\n",
      "625/625 [==============================] - 482s 773ms/step - loss: 6.8872\n",
      "Epoch 10/10\n",
      "625/625 [==============================] - 6s 9ms/step - loss: 7.2498\n",
      " 12/313 [>.............................] - ETA: 1s "
     ]
    },
    {
     "name": "stderr",
     "output_type": "stream",
     "text": [
      "2024-12-09 22:07:49.716515: I tensorflow/core/grappler/optimizers/custom_graph_optimizer_registry.cc:114] Plugin optimizer for device_type GPU is enabled.\n"
     ]
    },
    {
     "name": "stdout",
     "output_type": "stream",
     "text": [
      "313/313 [==============================] - 1s 2ms/step\n",
      "313/313 [==============================] - 0s 1ms/step\n",
      "Epoch 1/10\n"
     ]
    },
    {
     "name": "stderr",
     "output_type": "stream",
     "text": [
      "2024-12-09 22:07:51.128115: I tensorflow/core/common_runtime/executor.cc:1197] [/device:CPU:0] (DEBUG INFO) Executor start aborting (this does not indicate an error and you can ignore this message): INVALID_ARGUMENT: You must feed a value for placeholder tensor 'Placeholder/_4' with dtype double and shape [10000]\n",
      "\t [[{{node Placeholder/_4}}]]\n",
      "2024-12-09 22:07:51.128364: I tensorflow/core/common_runtime/executor.cc:1197] [/device:CPU:0] (DEBUG INFO) Executor start aborting (this does not indicate an error and you can ignore this message): INVALID_ARGUMENT: You must feed a value for placeholder tensor 'Placeholder/_0' with dtype double and shape [10000,150]\n",
      "\t [[{{node Placeholder/_0}}]]\n",
      "2024-12-09 22:07:51.304262: I tensorflow/core/grappler/optimizers/custom_graph_optimizer_registry.cc:114] Plugin optimizer for device_type GPU is enabled.\n"
     ]
    },
    {
     "name": "stdout",
     "output_type": "stream",
     "text": [
      "625/625 [==============================] - 31s 49ms/step - loss: 6.2010\n",
      "Epoch 2/10\n",
      "625/625 [==============================] - 5s 8ms/step - loss: 6.9367\n",
      "Epoch 3/10\n",
      "625/625 [==============================] - 30s 48ms/step - loss: 6.9207\n",
      "Epoch 4/10\n",
      "625/625 [==============================] - 5s 7ms/step - loss: 6.8735\n",
      "Epoch 5/10\n",
      "625/625 [==============================] - 16s 25ms/step - loss: 6.9375\n",
      "Epoch 6/10\n",
      "625/625 [==============================] - 93s 149ms/step - loss: 6.8897\n",
      "Epoch 7/10\n",
      "625/625 [==============================] - 5s 7ms/step - loss: 6.9192\n",
      "Epoch 8/10\n",
      "625/625 [==============================] - 130s 209ms/step - loss: 7.0274\n",
      "Epoch 9/10\n",
      "625/625 [==============================] - 4s 7ms/step - loss: 7.0462\n",
      "Epoch 10/10\n",
      "625/625 [==============================] - 4s 7ms/step - loss: 7.0382\n",
      " 55/313 [====>.........................] - ETA: 0s"
     ]
    },
    {
     "name": "stderr",
     "output_type": "stream",
     "text": [
      "2024-12-09 22:13:14.437933: I tensorflow/core/grappler/optimizers/custom_graph_optimizer_registry.cc:114] Plugin optimizer for device_type GPU is enabled.\n"
     ]
    },
    {
     "name": "stdout",
     "output_type": "stream",
     "text": [
      "313/313 [==============================] - 1s 2ms/step\n",
      "313/313 [==============================] - 0s 1ms/step\n",
      "Epoch 1/10\n"
     ]
    },
    {
     "name": "stderr",
     "output_type": "stream",
     "text": [
      "2024-12-09 22:13:15.708448: I tensorflow/core/common_runtime/executor.cc:1197] [/device:CPU:0] (DEBUG INFO) Executor start aborting (this does not indicate an error and you can ignore this message): INVALID_ARGUMENT: You must feed a value for placeholder tensor 'Placeholder/_1' with dtype double and shape [10000]\n",
      "\t [[{{node Placeholder/_1}}]]\n",
      "2024-12-09 22:13:15.708720: I tensorflow/core/common_runtime/executor.cc:1197] [/device:CPU:0] (DEBUG INFO) Executor start aborting (this does not indicate an error and you can ignore this message): INVALID_ARGUMENT: You must feed a value for placeholder tensor 'Placeholder/_0' with dtype double and shape [10000,100]\n",
      "\t [[{{node Placeholder/_0}}]]\n",
      "2024-12-09 22:13:15.873178: I tensorflow/core/grappler/optimizers/custom_graph_optimizer_registry.cc:114] Plugin optimizer for device_type GPU is enabled.\n"
     ]
    },
    {
     "name": "stdout",
     "output_type": "stream",
     "text": [
      "625/625 [==============================] - 5s 8ms/step - loss: 6.4709\n",
      "Epoch 2/10\n",
      "625/625 [==============================] - 5s 7ms/step - loss: 6.4180\n",
      "Epoch 3/10\n",
      "625/625 [==============================] - 5s 7ms/step - loss: 7.0100\n",
      "Epoch 4/10\n",
      "625/625 [==============================] - 5s 7ms/step - loss: 6.8144\n",
      "Epoch 5/10\n",
      "625/625 [==============================] - 5s 7ms/step - loss: 6.7921\n",
      "Epoch 6/10\n",
      "625/625 [==============================] - 5s 7ms/step - loss: 6.7354\n",
      "Epoch 7/10\n",
      "625/625 [==============================] - 337s 540ms/step - loss: 6.9484\n",
      "Epoch 8/10\n",
      "625/625 [==============================] - 5s 7ms/step - loss: 6.7003\n",
      "Epoch 9/10\n",
      "625/625 [==============================] - 5s 7ms/step - loss: 7.1143\n",
      "Epoch 10/10\n",
      "625/625 [==============================] - 156s 249ms/step - loss: 7.0209\n",
      " 24/313 [=>............................] - ETA: 1s"
     ]
    },
    {
     "name": "stderr",
     "output_type": "stream",
     "text": [
      "2024-12-09 22:22:05.882058: I tensorflow/core/grappler/optimizers/custom_graph_optimizer_registry.cc:114] Plugin optimizer for device_type GPU is enabled.\n"
     ]
    },
    {
     "name": "stdout",
     "output_type": "stream",
     "text": [
      "313/313 [==============================] - 1s 2ms/step\n",
      "313/313 [==============================] - 0s 2ms/step\n",
      "Epoch 1/10\n"
     ]
    },
    {
     "name": "stderr",
     "output_type": "stream",
     "text": [
      "2024-12-09 22:22:07.306504: I tensorflow/core/common_runtime/executor.cc:1197] [/device:CPU:0] (DEBUG INFO) Executor start aborting (this does not indicate an error and you can ignore this message): INVALID_ARGUMENT: You must feed a value for placeholder tensor 'Placeholder/_1' with dtype double and shape [10000]\n",
      "\t [[{{node Placeholder/_1}}]]\n",
      "2024-12-09 22:22:07.306751: I tensorflow/core/common_runtime/executor.cc:1197] [/device:CPU:0] (DEBUG INFO) Executor start aborting (this does not indicate an error and you can ignore this message): INVALID_ARGUMENT: You must feed a value for placeholder tensor 'Placeholder/_0' with dtype double and shape [10000,150]\n",
      "\t [[{{node Placeholder/_0}}]]\n",
      "2024-12-09 22:22:07.483053: I tensorflow/core/grappler/optimizers/custom_graph_optimizer_registry.cc:114] Plugin optimizer for device_type GPU is enabled.\n"
     ]
    },
    {
     "name": "stdout",
     "output_type": "stream",
     "text": [
      "625/625 [==============================] - 6s 8ms/step - loss: 7.0384\n",
      "Epoch 2/10\n",
      "625/625 [==============================] - 5s 8ms/step - loss: 6.9412\n",
      "Epoch 3/10\n",
      "625/625 [==============================] - 5s 7ms/step - loss: 6.9149\n",
      "Epoch 4/10\n",
      "625/625 [==============================] - 5s 8ms/step - loss: 7.2108\n",
      "Epoch 5/10\n",
      "625/625 [==============================] - 5s 7ms/step - loss: 7.1665\n",
      "Epoch 6/10\n",
      "625/625 [==============================] - 5s 7ms/step - loss: 7.0673\n",
      "Epoch 7/10\n",
      "625/625 [==============================] - 5s 7ms/step - loss: 7.1231\n",
      "Epoch 8/10\n",
      "625/625 [==============================] - 5s 8ms/step - loss: 7.3448\n",
      "Epoch 9/10\n",
      "625/625 [==============================] - 5s 8ms/step - loss: 7.2403\n",
      "Epoch 10/10\n",
      "625/625 [==============================] - 5s 7ms/step - loss: 7.6281\n",
      " 79/313 [======>.......................] - ETA: 0s"
     ]
    },
    {
     "name": "stderr",
     "output_type": "stream",
     "text": [
      "2024-12-09 22:22:55.783824: I tensorflow/core/grappler/optimizers/custom_graph_optimizer_registry.cc:114] Plugin optimizer for device_type GPU is enabled.\n"
     ]
    },
    {
     "name": "stdout",
     "output_type": "stream",
     "text": [
      "313/313 [==============================] - 1s 2ms/step\n",
      "313/313 [==============================] - 1s 2ms/step\n",
      "Epoch 1/10\n"
     ]
    },
    {
     "name": "stderr",
     "output_type": "stream",
     "text": [
      "2024-12-09 22:22:57.070686: I tensorflow/core/common_runtime/executor.cc:1197] [/device:CPU:0] (DEBUG INFO) Executor start aborting (this does not indicate an error and you can ignore this message): INVALID_ARGUMENT: You must feed a value for placeholder tensor 'Placeholder/_3' with dtype double and shape [10000,100]\n",
      "\t [[{{node Placeholder/_3}}]]\n",
      "2024-12-09 22:22:57.070937: I tensorflow/core/common_runtime/executor.cc:1197] [/device:CPU:0] (DEBUG INFO) Executor start aborting (this does not indicate an error and you can ignore this message): INVALID_ARGUMENT: You must feed a value for placeholder tensor 'Placeholder/_0' with dtype double and shape [10000,100]\n",
      "\t [[{{node Placeholder/_0}}]]\n",
      "2024-12-09 22:22:57.239726: I tensorflow/core/grappler/optimizers/custom_graph_optimizer_registry.cc:114] Plugin optimizer for device_type GPU is enabled.\n"
     ]
    },
    {
     "name": "stdout",
     "output_type": "stream",
     "text": [
      "625/625 [==============================] - 6s 8ms/step - loss: 5.8030\n",
      "Epoch 2/10\n",
      "625/625 [==============================] - 5s 8ms/step - loss: 6.9142\n",
      "Epoch 3/10\n",
      "625/625 [==============================] - 5s 8ms/step - loss: 6.7098\n",
      "Epoch 4/10\n",
      "625/625 [==============================] - 5s 7ms/step - loss: 7.3136\n",
      "Epoch 5/10\n",
      "625/625 [==============================] - 5s 8ms/step - loss: 7.1836\n",
      "Epoch 6/10\n",
      "625/625 [==============================] - 5s 7ms/step - loss: 7.1821\n",
      "Epoch 7/10\n",
      "625/625 [==============================] - 5s 8ms/step - loss: 7.1858\n",
      "Epoch 8/10\n",
      "625/625 [==============================] - 5s 8ms/step - loss: 7.1326\n",
      "Epoch 9/10\n",
      "625/625 [==============================] - 5s 8ms/step - loss: 7.0998\n",
      "Epoch 10/10\n",
      "625/625 [==============================] - 5s 8ms/step - loss: 7.3136\n",
      " 24/313 [=>............................] - ETA: 1s "
     ]
    },
    {
     "name": "stderr",
     "output_type": "stream",
     "text": [
      "2024-12-09 22:23:46.017371: I tensorflow/core/grappler/optimizers/custom_graph_optimizer_registry.cc:114] Plugin optimizer for device_type GPU is enabled.\n"
     ]
    },
    {
     "name": "stdout",
     "output_type": "stream",
     "text": [
      "313/313 [==============================] - 1s 2ms/step\n",
      "313/313 [==============================] - 1s 2ms/step\n",
      "Epoch 1/10\n"
     ]
    },
    {
     "name": "stderr",
     "output_type": "stream",
     "text": [
      "2024-12-09 22:23:47.843292: I tensorflow/core/common_runtime/executor.cc:1197] [/device:CPU:0] (DEBUG INFO) Executor start aborting (this does not indicate an error and you can ignore this message): INVALID_ARGUMENT: You must feed a value for placeholder tensor 'Placeholder/_1' with dtype double and shape [10000]\n",
      "\t [[{{node Placeholder/_1}}]]\n",
      "2024-12-09 22:23:47.843657: I tensorflow/core/common_runtime/executor.cc:1197] [/device:CPU:0] (DEBUG INFO) Executor start aborting (this does not indicate an error and you can ignore this message): INVALID_ARGUMENT: You must feed a value for placeholder tensor 'Placeholder/_1' with dtype double and shape [10000]\n",
      "\t [[{{node Placeholder/_1}}]]\n",
      "2024-12-09 22:23:48.016341: I tensorflow/core/grappler/optimizers/custom_graph_optimizer_registry.cc:114] Plugin optimizer for device_type GPU is enabled.\n"
     ]
    },
    {
     "name": "stdout",
     "output_type": "stream",
     "text": [
      "625/625 [==============================] - 6s 9ms/step - loss: 6.7822\n",
      "Epoch 2/10\n",
      "625/625 [==============================] - 5s 8ms/step - loss: 6.8785\n",
      "Epoch 3/10\n",
      "625/625 [==============================] - 5s 8ms/step - loss: 6.9749\n",
      "Epoch 4/10\n",
      "625/625 [==============================] - 5s 8ms/step - loss: 7.0054\n",
      "Epoch 5/10\n",
      "625/625 [==============================] - 5s 7ms/step - loss: 7.3809\n",
      "Epoch 6/10\n",
      "625/625 [==============================] - 5s 8ms/step - loss: 7.2954\n",
      "Epoch 7/10\n",
      "625/625 [==============================] - 5s 7ms/step - loss: 7.2967\n",
      "Epoch 8/10\n",
      "625/625 [==============================] - 5s 7ms/step - loss: 7.1647\n",
      "Epoch 9/10\n",
      "625/625 [==============================] - 5s 7ms/step - loss: 7.3816\n",
      "Epoch 10/10\n",
      "625/625 [==============================] - 5s 8ms/step - loss: 7.2145\n",
      " 49/313 [===>..........................] - ETA: 0s"
     ]
    },
    {
     "name": "stderr",
     "output_type": "stream",
     "text": [
      "2024-12-09 22:24:37.120529: I tensorflow/core/grappler/optimizers/custom_graph_optimizer_registry.cc:114] Plugin optimizer for device_type GPU is enabled.\n"
     ]
    },
    {
     "name": "stdout",
     "output_type": "stream",
     "text": [
      "313/313 [==============================] - 1s 2ms/step\n",
      "313/313 [==============================] - 1s 2ms/step\n",
      "Epoch 1/10\n"
     ]
    },
    {
     "name": "stderr",
     "output_type": "stream",
     "text": [
      "2024-12-09 22:24:38.580982: I tensorflow/core/common_runtime/executor.cc:1197] [/device:CPU:0] (DEBUG INFO) Executor start aborting (this does not indicate an error and you can ignore this message): INVALID_ARGUMENT: You must feed a value for placeholder tensor 'Placeholder/_4' with dtype double and shape [10000]\n",
      "\t [[{{node Placeholder/_4}}]]\n",
      "2024-12-09 22:24:38.581238: I tensorflow/core/common_runtime/executor.cc:1197] [/device:CPU:0] (DEBUG INFO) Executor start aborting (this does not indicate an error and you can ignore this message): INVALID_ARGUMENT: You must feed a value for placeholder tensor 'Placeholder/_4' with dtype double and shape [10000]\n",
      "\t [[{{node Placeholder/_4}}]]\n",
      "2024-12-09 22:24:38.764064: I tensorflow/core/grappler/optimizers/custom_graph_optimizer_registry.cc:114] Plugin optimizer for device_type GPU is enabled.\n"
     ]
    },
    {
     "name": "stdout",
     "output_type": "stream",
     "text": [
      "625/625 [==============================] - 6s 8ms/step - loss: 7.0702\n",
      "Epoch 2/10\n",
      "625/625 [==============================] - 5s 8ms/step - loss: 6.9570\n",
      "Epoch 3/10\n",
      "625/625 [==============================] - 5s 8ms/step - loss: 7.0394\n",
      "Epoch 4/10\n",
      "625/625 [==============================] - 5s 8ms/step - loss: 7.1886\n",
      "Epoch 5/10\n",
      "625/625 [==============================] - 5s 9ms/step - loss: 7.2456\n",
      "Epoch 6/10\n",
      "625/625 [==============================] - 5s 8ms/step - loss: 7.1798\n",
      "Epoch 7/10\n",
      "625/625 [==============================] - 5s 8ms/step - loss: 7.2776\n",
      "Epoch 8/10\n",
      "625/625 [==============================] - 5s 8ms/step - loss: 7.2520\n",
      "Epoch 9/10\n",
      "625/625 [==============================] - 5s 9ms/step - loss: 7.1651\n",
      "Epoch 10/10\n",
      "625/625 [==============================] - 5s 8ms/step - loss: 7.2664\n",
      " 49/313 [===>..........................] - ETA: 0s"
     ]
    },
    {
     "name": "stderr",
     "output_type": "stream",
     "text": [
      "2024-12-09 22:25:31.344850: I tensorflow/core/grappler/optimizers/custom_graph_optimizer_registry.cc:114] Plugin optimizer for device_type GPU is enabled.\n"
     ]
    },
    {
     "name": "stdout",
     "output_type": "stream",
     "text": [
      "313/313 [==============================] - 1s 2ms/step\n",
      "313/313 [==============================] - 1s 2ms/step\n",
      "Epoch 1/10\n"
     ]
    },
    {
     "name": "stderr",
     "output_type": "stream",
     "text": [
      "2024-12-09 22:25:32.861306: I tensorflow/core/common_runtime/executor.cc:1197] [/device:CPU:0] (DEBUG INFO) Executor start aborting (this does not indicate an error and you can ignore this message): INVALID_ARGUMENT: You must feed a value for placeholder tensor 'Placeholder/_0' with dtype double and shape [10000,300]\n",
      "\t [[{{node Placeholder/_0}}]]\n",
      "2024-12-09 22:25:32.861536: I tensorflow/core/common_runtime/executor.cc:1197] [/device:CPU:0] (DEBUG INFO) Executor start aborting (this does not indicate an error and you can ignore this message): INVALID_ARGUMENT: You must feed a value for placeholder tensor 'Placeholder/_1' with dtype double and shape [10000]\n",
      "\t [[{{node Placeholder/_1}}]]\n",
      "2024-12-09 22:25:33.046637: I tensorflow/core/grappler/optimizers/custom_graph_optimizer_registry.cc:114] Plugin optimizer for device_type GPU is enabled.\n"
     ]
    },
    {
     "name": "stdout",
     "output_type": "stream",
     "text": [
      "625/625 [==============================] - 7s 10ms/step - loss: 7.0165\n",
      "Epoch 2/10\n",
      "625/625 [==============================] - 5s 8ms/step - loss: 7.0238\n",
      "Epoch 3/10\n",
      "625/625 [==============================] - 5s 8ms/step - loss: 6.8945\n",
      "Epoch 4/10\n",
      "625/625 [==============================] - 5s 8ms/step - loss: 7.1155\n",
      "Epoch 5/10\n",
      "625/625 [==============================] - 5s 8ms/step - loss: 7.2499\n",
      "Epoch 6/10\n",
      "625/625 [==============================] - 5s 8ms/step - loss: 7.3026\n",
      "Epoch 7/10\n",
      "625/625 [==============================] - 5s 8ms/step - loss: 7.1968\n",
      "Epoch 8/10\n",
      "625/625 [==============================] - 5s 8ms/step - loss: 7.1928\n",
      "Epoch 9/10\n",
      "625/625 [==============================] - 5s 8ms/step - loss: 7.3042\n",
      "Epoch 10/10\n",
      "625/625 [==============================] - 5s 8ms/step - loss: 7.3378\n",
      " 47/313 [===>..........................] - ETA: 0s"
     ]
    },
    {
     "name": "stderr",
     "output_type": "stream",
     "text": [
      "2024-12-09 22:26:24.725435: I tensorflow/core/grappler/optimizers/custom_graph_optimizer_registry.cc:114] Plugin optimizer for device_type GPU is enabled.\n"
     ]
    },
    {
     "name": "stdout",
     "output_type": "stream",
     "text": [
      "313/313 [==============================] - 1s 2ms/step\n",
      "313/313 [==============================] - 1s 2ms/step\n",
      "Epoch 1/10\n"
     ]
    },
    {
     "name": "stderr",
     "output_type": "stream",
     "text": [
      "2024-12-09 22:26:26.138905: I tensorflow/core/common_runtime/executor.cc:1197] [/device:CPU:0] (DEBUG INFO) Executor start aborting (this does not indicate an error and you can ignore this message): INVALID_ARGUMENT: You must feed a value for placeholder tensor 'Placeholder/_1' with dtype double and shape [10000]\n",
      "\t [[{{node Placeholder/_1}}]]\n",
      "2024-12-09 22:26:26.139161: I tensorflow/core/common_runtime/executor.cc:1197] [/device:CPU:0] (DEBUG INFO) Executor start aborting (this does not indicate an error and you can ignore this message): INVALID_ARGUMENT: You must feed a value for placeholder tensor 'Placeholder/_3' with dtype double and shape [10000,200]\n",
      "\t [[{{node Placeholder/_3}}]]\n",
      "2024-12-09 22:26:26.328115: I tensorflow/core/grappler/optimizers/custom_graph_optimizer_registry.cc:114] Plugin optimizer for device_type GPU is enabled.\n"
     ]
    },
    {
     "name": "stdout",
     "output_type": "stream",
     "text": [
      "625/625 [==============================] - 6s 9ms/step - loss: 7.0790\n",
      "Epoch 2/10\n",
      "625/625 [==============================] - 5s 8ms/step - loss: 6.7530\n",
      "Epoch 3/10\n",
      "625/625 [==============================] - 5s 8ms/step - loss: 7.0070\n",
      "Epoch 4/10\n",
      "625/625 [==============================] - 5s 9ms/step - loss: 6.9996\n",
      "Epoch 5/10\n",
      "625/625 [==============================] - 5s 9ms/step - loss: 6.9999\n",
      "Epoch 6/10\n",
      "625/625 [==============================] - 5s 9ms/step - loss: 7.1558\n",
      "Epoch 7/10\n",
      "625/625 [==============================] - 5s 9ms/step - loss: 7.1330\n",
      "Epoch 8/10\n",
      "625/625 [==============================] - 6s 9ms/step - loss: 7.4182\n",
      "Epoch 9/10\n",
      "625/625 [==============================] - 5s 9ms/step - loss: 7.3599\n",
      "Epoch 10/10\n",
      "625/625 [==============================] - 5s 8ms/step - loss: 7.3556\n",
      " 77/313 [======>.......................] - ETA: 0s"
     ]
    },
    {
     "name": "stderr",
     "output_type": "stream",
     "text": [
      "2024-12-09 22:27:21.009056: I tensorflow/core/grappler/optimizers/custom_graph_optimizer_registry.cc:114] Plugin optimizer for device_type GPU is enabled.\n"
     ]
    },
    {
     "name": "stdout",
     "output_type": "stream",
     "text": [
      "313/313 [==============================] - 1s 2ms/step\n",
      "313/313 [==============================] - 1s 2ms/step\n",
      "Epoch 1/10\n"
     ]
    },
    {
     "name": "stderr",
     "output_type": "stream",
     "text": [
      "2024-12-09 22:27:22.833338: I tensorflow/core/common_runtime/executor.cc:1197] [/device:CPU:0] (DEBUG INFO) Executor start aborting (this does not indicate an error and you can ignore this message): INVALID_ARGUMENT: You must feed a value for placeholder tensor 'Placeholder/_0' with dtype double and shape [10000,600]\n",
      "\t [[{{node Placeholder/_0}}]]\n",
      "2024-12-09 22:27:22.833609: I tensorflow/core/common_runtime/executor.cc:1197] [/device:CPU:0] (DEBUG INFO) Executor start aborting (this does not indicate an error and you can ignore this message): INVALID_ARGUMENT: You must feed a value for placeholder tensor 'Placeholder/_1' with dtype double and shape [10000]\n",
      "\t [[{{node Placeholder/_1}}]]\n",
      "2024-12-09 22:27:23.020392: I tensorflow/core/grappler/optimizers/custom_graph_optimizer_registry.cc:114] Plugin optimizer for device_type GPU is enabled.\n"
     ]
    },
    {
     "name": "stdout",
     "output_type": "stream",
     "text": [
      "625/625 [==============================] - 7s 10ms/step - loss: 7.1636\n",
      "Epoch 2/10\n",
      "625/625 [==============================] - 5s 8ms/step - loss: 6.8909\n",
      "Epoch 3/10\n",
      "625/625 [==============================] - 5s 9ms/step - loss: 7.1009\n",
      "Epoch 4/10\n",
      "625/625 [==============================] - 5s 9ms/step - loss: 7.1481\n",
      "Epoch 5/10\n",
      "625/625 [==============================] - 5s 8ms/step - loss: 7.2580\n",
      "Epoch 6/10\n",
      "625/625 [==============================] - 6s 9ms/step - loss: 7.1536\n",
      "Epoch 7/10\n",
      "625/625 [==============================] - 6s 9ms/step - loss: 7.3057\n",
      "Epoch 8/10\n",
      "625/625 [==============================] - 6s 10ms/step - loss: 7.3118\n",
      "Epoch 9/10\n",
      "625/625 [==============================] - 6s 9ms/step - loss: 7.3462\n",
      "Epoch 10/10\n",
      "625/625 [==============================] - 6s 10ms/step - loss: 7.3299\n",
      " 59/313 [====>.........................] - ETA: 0s"
     ]
    },
    {
     "name": "stderr",
     "output_type": "stream",
     "text": [
      "2024-12-09 22:28:20.651386: I tensorflow/core/grappler/optimizers/custom_graph_optimizer_registry.cc:114] Plugin optimizer for device_type GPU is enabled.\n"
     ]
    },
    {
     "name": "stdout",
     "output_type": "stream",
     "text": [
      "313/313 [==============================] - 1s 2ms/step\n",
      "313/313 [==============================] - 1s 2ms/step\n",
      "Epoch 1/10\n"
     ]
    },
    {
     "name": "stderr",
     "output_type": "stream",
     "text": [
      "2024-12-09 22:28:22.397983: I tensorflow/core/common_runtime/executor.cc:1197] [/device:CPU:0] (DEBUG INFO) Executor start aborting (this does not indicate an error and you can ignore this message): INVALID_ARGUMENT: You must feed a value for placeholder tensor 'Placeholder/_3' with dtype double and shape [10000,400]\n",
      "\t [[{{node Placeholder/_3}}]]\n",
      "2024-12-09 22:28:22.398328: I tensorflow/core/common_runtime/executor.cc:1197] [/device:CPU:0] (DEBUG INFO) Executor start aborting (this does not indicate an error and you can ignore this message): INVALID_ARGUMENT: You must feed a value for placeholder tensor 'Placeholder/_3' with dtype double and shape [10000,400]\n",
      "\t [[{{node Placeholder/_3}}]]\n",
      "2024-12-09 22:28:22.581238: I tensorflow/core/grappler/optimizers/custom_graph_optimizer_registry.cc:114] Plugin optimizer for device_type GPU is enabled.\n"
     ]
    },
    {
     "name": "stdout",
     "output_type": "stream",
     "text": [
      "625/625 [==============================] - 7s 10ms/step - loss: 7.0996\n",
      "Epoch 2/10\n",
      "625/625 [==============================] - 6s 10ms/step - loss: 6.9896\n",
      "Epoch 3/10\n",
      "625/625 [==============================] - 6s 10ms/step - loss: 7.0950\n",
      "Epoch 4/10\n",
      "625/625 [==============================] - 5s 9ms/step - loss: 7.1569\n",
      "Epoch 5/10\n",
      "625/625 [==============================] - 5s 9ms/step - loss: 7.3315\n",
      "Epoch 6/10\n",
      "625/625 [==============================] - 5s 9ms/step - loss: 7.3862\n",
      "Epoch 7/10\n",
      "625/625 [==============================] - 5s 9ms/step - loss: 7.3161\n",
      "Epoch 8/10\n",
      "625/625 [==============================] - 5s 8ms/step - loss: 7.2850\n",
      "Epoch 9/10\n",
      "625/625 [==============================] - 5s 9ms/step - loss: 7.2623\n",
      "Epoch 10/10\n",
      "625/625 [==============================] - 5s 8ms/step - loss: 7.3093\n",
      " 79/313 [======>.......................] - ETA: 0s"
     ]
    },
    {
     "name": "stderr",
     "output_type": "stream",
     "text": [
      "2024-12-09 22:29:19.526841: I tensorflow/core/grappler/optimizers/custom_graph_optimizer_registry.cc:114] Plugin optimizer for device_type GPU is enabled.\n"
     ]
    },
    {
     "name": "stdout",
     "output_type": "stream",
     "text": [
      "313/313 [==============================] - 1s 2ms/step\n",
      "313/313 [==============================] - 1s 2ms/step\n",
      "Epoch 1/10\n"
     ]
    },
    {
     "name": "stderr",
     "output_type": "stream",
     "text": [
      "2024-12-09 22:29:21.216374: I tensorflow/core/common_runtime/executor.cc:1197] [/device:CPU:0] (DEBUG INFO) Executor start aborting (this does not indicate an error and you can ignore this message): INVALID_ARGUMENT: You must feed a value for placeholder tensor 'Placeholder/_3' with dtype double and shape [10000,600]\n",
      "\t [[{{node Placeholder/_3}}]]\n",
      "2024-12-09 22:29:21.216658: I tensorflow/core/common_runtime/executor.cc:1197] [/device:CPU:0] (DEBUG INFO) Executor start aborting (this does not indicate an error and you can ignore this message): INVALID_ARGUMENT: You must feed a value for placeholder tensor 'Placeholder/_1' with dtype double and shape [10000]\n",
      "\t [[{{node Placeholder/_1}}]]\n",
      "2024-12-09 22:29:21.393974: I tensorflow/core/grappler/optimizers/custom_graph_optimizer_registry.cc:114] Plugin optimizer for device_type GPU is enabled.\n"
     ]
    },
    {
     "name": "stdout",
     "output_type": "stream",
     "text": [
      "625/625 [==============================] - 6s 9ms/step - loss: 7.2223\n",
      "Epoch 2/10\n",
      "625/625 [==============================] - 6s 9ms/step - loss: 7.3258\n",
      "Epoch 3/10\n",
      "625/625 [==============================] - 5s 9ms/step - loss: 7.3636\n",
      "Epoch 4/10\n",
      "625/625 [==============================] - 5s 8ms/step - loss: 7.2820\n",
      "Epoch 5/10\n",
      "625/625 [==============================] - 5s 9ms/step - loss: 7.3280\n",
      "Epoch 6/10\n",
      "625/625 [==============================] - 5s 9ms/step - loss: 7.3771\n",
      "Epoch 7/10\n",
      "625/625 [==============================] - 5s 8ms/step - loss: 7.3786\n",
      "Epoch 8/10\n",
      "625/625 [==============================] - 5s 8ms/step - loss: 7.4220\n",
      "Epoch 9/10\n",
      "625/625 [==============================] - 5s 8ms/step - loss: 7.2682\n",
      "Epoch 10/10\n",
      "625/625 [==============================] - 5s 8ms/step - loss: 7.4044\n",
      " 83/313 [======>.......................] - ETA: 0s"
     ]
    },
    {
     "name": "stderr",
     "output_type": "stream",
     "text": [
      "2024-12-09 22:30:15.188700: I tensorflow/core/grappler/optimizers/custom_graph_optimizer_registry.cc:114] Plugin optimizer for device_type GPU is enabled.\n"
     ]
    },
    {
     "name": "stdout",
     "output_type": "stream",
     "text": [
      "313/313 [==============================] - 1s 2ms/step\n",
      "313/313 [==============================] - 1s 2ms/step\n",
      "Epoch 1/10\n"
     ]
    },
    {
     "name": "stderr",
     "output_type": "stream",
     "text": [
      "2024-12-09 22:30:16.537121: I tensorflow/core/common_runtime/executor.cc:1197] [/device:CPU:0] (DEBUG INFO) Executor start aborting (this does not indicate an error and you can ignore this message): INVALID_ARGUMENT: You must feed a value for placeholder tensor 'Placeholder/_3' with dtype double and shape [10000,400]\n",
      "\t [[{{node Placeholder/_3}}]]\n",
      "2024-12-09 22:30:16.537381: I tensorflow/core/common_runtime/executor.cc:1197] [/device:CPU:0] (DEBUG INFO) Executor start aborting (this does not indicate an error and you can ignore this message): INVALID_ARGUMENT: You must feed a value for placeholder tensor 'Placeholder/_1' with dtype double and shape [10000]\n",
      "\t [[{{node Placeholder/_1}}]]\n",
      "2024-12-09 22:30:16.712006: I tensorflow/core/grappler/optimizers/custom_graph_optimizer_registry.cc:114] Plugin optimizer for device_type GPU is enabled.\n"
     ]
    },
    {
     "name": "stdout",
     "output_type": "stream",
     "text": [
      "625/625 [==============================] - 6s 9ms/step - loss: 7.0839\n",
      "Epoch 2/10\n",
      "625/625 [==============================] - 5s 8ms/step - loss: 7.2075\n",
      "Epoch 3/10\n",
      "625/625 [==============================] - 5s 8ms/step - loss: 7.1340\n",
      "Epoch 4/10\n",
      "625/625 [==============================] - 5s 8ms/step - loss: 7.1919\n",
      "Epoch 5/10\n",
      "625/625 [==============================] - 5s 8ms/step - loss: 7.3289\n",
      "Epoch 6/10\n",
      "625/625 [==============================] - 5s 8ms/step - loss: 7.4599\n",
      "Epoch 7/10\n",
      "625/625 [==============================] - 5s 8ms/step - loss: 7.4125\n",
      "Epoch 8/10\n",
      "625/625 [==============================] - 5s 8ms/step - loss: 7.4737\n",
      "Epoch 9/10\n",
      "625/625 [==============================] - 5s 8ms/step - loss: 7.5049\n",
      "Epoch 10/10\n",
      "625/625 [==============================] - 5s 9ms/step - loss: 7.4491\n",
      " 88/313 [=======>......................] - ETA: 0s"
     ]
    },
    {
     "name": "stderr",
     "output_type": "stream",
     "text": [
      "2024-12-09 22:31:09.294797: I tensorflow/core/grappler/optimizers/custom_graph_optimizer_registry.cc:114] Plugin optimizer for device_type GPU is enabled.\n"
     ]
    },
    {
     "name": "stdout",
     "output_type": "stream",
     "text": [
      "313/313 [==============================] - 1s 2ms/step\n",
      "313/313 [==============================] - 1s 2ms/step\n",
      "Results:\n",
      "|Num Samples    |Num Features   |Corr Strength  |CMI Estimate             |\n",
      "--------------------------------------------------------------------------------\n",
      "|            100|              5|           0.50|               0.29802322|\n",
      "|            100|              5|           0.80|               0.96857548|\n",
      "|            100|             10|           0.50|               0.74505806|\n",
      "|            100|             10|           0.80|               0.07450581|\n",
      "|            100|             50|           0.50|              -0.26077032|\n",
      "|            100|             50|           0.80|               2.60770321|\n",
      "|            100|            100|           0.50|               0.14901161|\n",
      "|            100|            100|           0.80|               1.78813934|\n",
      "|            100|            200|           0.50|              -2.11410224|\n",
      "|            100|            200|           0.80|              -0.37252903|\n",
      "|           1000|              5|           0.50|               0.00000000|\n",
      "|           1000|              5|           0.80|               0.00000000|\n",
      "|           1000|             10|           0.50|               0.00000000|\n",
      "|           1000|             10|           0.80|               0.00000000|\n",
      "|           1000|             50|           0.50|              -0.14901161|\n",
      "|           1000|             50|           0.80|              -1.11758709|\n",
      "|           1000|            100|           0.50|               0.00000000|\n",
      "|           1000|            100|           0.80|              -0.14901161|\n",
      "|           1000|            200|           0.50|              -1.21071935|\n",
      "|           1000|            200|           0.80|              -0.59604645|\n",
      "|          10000|              5|           0.50|               0.44703484|\n",
      "|          10000|              5|           0.80|              -0.57742000|\n",
      "|          10000|             10|           0.50|               0.07450581|\n",
      "|          10000|             10|           0.80|               0.07450581|\n",
      "|          10000|             50|           0.50|               0.29802322|\n",
      "|          10000|             50|           0.80|              -1.34110451|\n",
      "|          10000|            100|           0.50|               1.19209290|\n",
      "|          10000|            100|           0.80|               0.14901161|\n",
      "|          10000|            200|           0.50|              -0.96857548|\n",
      "|          10000|            200|           0.80|              -0.59604645|\n"
     ]
    }
   ],
   "source": [
    "# Define ranges for hyperparameters\n",
    "num_samples_range = [100, 1000, 10000]\n",
    "num_features_range = [5, 10, 50, 100, 200]  \n",
    "correlation_strength_range = [0.5, 0.8]\n",
    "\n",
    "# Results dictionary\n",
    "results = {}\n",
    "\n",
    "# Loop through all combinations\n",
    "for num_samples in num_samples_range:\n",
    "    for num_features in num_features_range:\n",
    "        for correlation_strength in correlation_strength_range:\n",
    "            key = (num_samples, num_features, correlation_strength)\n",
    "            X, Y, Z = generate_data(num_samples, num_features, correlation_strength)\n",
    "            estimated_cmi = estimate_conditional_mi(X, Y, Z)\n",
    "            results[key] = estimated_cmi*(10000000)\n",
    "\n",
    "# Print the results in a tabular format\n",
    "print(\"Results:\")\n",
    "print(\"|{:15s}|{:15s}|{:15s}|{:25s}|\".format('Num Samples', 'Num Features', 'Corr Strength', 'CMI Estimate'))\n",
    "print(\"-\"*80)\n",
    "for key, value in results.items():\n",
    "    num_samples, num_features, correlation_strength = key\n",
    "    print(\"|{:15d}|{:15d}|{:15.2f}|{:25.8f}|\".format(num_samples, num_features, correlation_strength, value))"
   ]
  },
  {
   "cell_type": "markdown",
   "metadata": {},
   "source": [
    "We can clearly see that the trendline is as expected when we scale up the difference by 10^6. This is implying that something is going wrong in either data generating mechanism or there is a possibility of insufficient training"
   ]
  },
  {
   "cell_type": "code",
   "execution_count": 62,
   "metadata": {},
   "outputs": [],
   "source": [
    "import pandas as pd\n",
    "df = pd.DataFrame(results.items())\n",
    "df.to_csv(\"Results.csv\")"
   ]
  },
  {
   "cell_type": "markdown",
   "metadata": {},
   "source": [
    "### Tried to implement and compare with HSIC (Could ignore)"
   ]
  },
  {
   "cell_type": "code",
   "execution_count": 66,
   "metadata": {},
   "outputs": [],
   "source": [
    "from hyppo.independence import Hsic\n",
    "\n",
    "def estimate_conditional_mi_hsic(X, Y, Z):\n",
    "  # Concatenate X and Z\n",
    "  XZ = np.concatenate([X, Z], axis=1)\n",
    "\n",
    "  # Create Hsic object\n",
    "  hsic = Hsic(compute_kernel='gaussian', bias=False)\n",
    "\n",
    "  # Calculate HSIC statistic for XZ and Y\n",
    "  hsic_xz_y_result = hsic.test(XZ, Y)\n",
    "  hsic_xz_y = hsic_xz_y_result.stat\n",
    "\n",
    "  # Calculate HSIC between Z and Y\n",
    "  ZY = np.concatenate([Z, Y], axis=1)\n",
    "  hsic_z_y_result = hsic.test(ZY, ZY)  # Pass ZY as both X and Y\n",
    "  hsic_z_y = hsic_z_y_result.stat\n",
    "\n",
    "  # Estimate conditional mutual information\n",
    "  conditional_mi = hsic_xz_y - hsic_z_y\n",
    "\n",
    "  return conditional_mi"
   ]
  },
  {
   "cell_type": "code",
   "execution_count": 65,
   "metadata": {},
   "outputs": [
    {
     "ename": "KeyboardInterrupt",
     "evalue": "",
     "output_type": "error",
     "traceback": [
      "\u001b[0;31m---------------------------------------------------------------------------\u001b[0m",
      "\u001b[0;31mKeyboardInterrupt\u001b[0m                         Traceback (most recent call last)",
      "Cell \u001b[0;32mIn[65], line 15\u001b[0m\n\u001b[1;32m     13\u001b[0m             key \u001b[38;5;241m=\u001b[39m (num_samples, num_features, correlation_strength)\n\u001b[1;32m     14\u001b[0m             X, Y, Z \u001b[38;5;241m=\u001b[39m generate_data(num_samples, num_features, correlation_strength)\n\u001b[0;32m---> 15\u001b[0m             estimated_cmi \u001b[38;5;241m=\u001b[39m estimate_conditional_mi_hsic(X, Y, Z)\n\u001b[1;32m     16\u001b[0m             results[key] \u001b[38;5;241m=\u001b[39m estimated_cmi\n\u001b[1;32m     18\u001b[0m \u001b[38;5;66;03m# Print the results in a tabular format\u001b[39;00m\n",
      "Cell \u001b[0;32mIn[53], line 11\u001b[0m, in \u001b[0;36mestimate_conditional_mi_hsic\u001b[0;34m(X, Y, Z)\u001b[0m\n\u001b[1;32m      8\u001b[0m hsic \u001b[38;5;241m=\u001b[39m Hsic(compute_kernel\u001b[38;5;241m=\u001b[39m\u001b[38;5;124m'\u001b[39m\u001b[38;5;124mgaussian\u001b[39m\u001b[38;5;124m'\u001b[39m, bias\u001b[38;5;241m=\u001b[39m\u001b[38;5;28;01mFalse\u001b[39;00m)\n\u001b[1;32m     10\u001b[0m \u001b[38;5;66;03m# Calculate HSIC statistic for XZ and Y\u001b[39;00m\n\u001b[0;32m---> 11\u001b[0m hsic_xz_y_result \u001b[38;5;241m=\u001b[39m hsic\u001b[38;5;241m.\u001b[39mtest(XZ, Y)\n\u001b[1;32m     12\u001b[0m hsic_xz_y \u001b[38;5;241m=\u001b[39m hsic_xz_y_result\u001b[38;5;241m.\u001b[39mstat\n\u001b[1;32m     14\u001b[0m \u001b[38;5;66;03m# Calculate HSIC between Z and Y\u001b[39;00m\n",
      "File \u001b[0;32m/opt/anaconda3/lib/python3.11/site-packages/hyppo/independence/hsic.py:179\u001b[0m, in \u001b[0;36mHsic.test\u001b[0;34m(self, x, y, reps, workers, auto, random_state)\u001b[0m\n\u001b[1;32m    176\u001b[0m x, y \u001b[38;5;241m=\u001b[39m check_input()\n\u001b[1;32m    178\u001b[0m \u001b[38;5;28;01mif\u001b[39;00m auto \u001b[38;5;129;01mand\u001b[39;00m x\u001b[38;5;241m.\u001b[39mshape[\u001b[38;5;241m0\u001b[39m] \u001b[38;5;241m>\u001b[39m \u001b[38;5;241m20\u001b[39m:\n\u001b[0;32m--> 179\u001b[0m     stat, pvalue \u001b[38;5;241m=\u001b[39m chi2_approx(\u001b[38;5;28mself\u001b[39m\u001b[38;5;241m.\u001b[39mstatistic, x, y)\n\u001b[1;32m    180\u001b[0m     \u001b[38;5;28mself\u001b[39m\u001b[38;5;241m.\u001b[39mstat \u001b[38;5;241m=\u001b[39m stat\n\u001b[1;32m    181\u001b[0m     \u001b[38;5;28mself\u001b[39m\u001b[38;5;241m.\u001b[39mpvalue \u001b[38;5;241m=\u001b[39m pvalue\n",
      "File \u001b[0;32m/opt/anaconda3/lib/python3.11/site-packages/hyppo/tools/common.py:680\u001b[0m, in \u001b[0;36mchi2_approx\u001b[0;34m(calc_stat, x, y)\u001b[0m\n\u001b[1;32m    645\u001b[0m \u001b[38;5;250m\u001b[39m\u001b[38;5;124;03m\"\"\"\u001b[39;00m\n\u001b[1;32m    646\u001b[0m \u001b[38;5;124;03mFast chi-squared approximation for the p-value.\u001b[39;00m\n\u001b[1;32m    647\u001b[0m \n\u001b[0;32m   (...)\u001b[0m\n\u001b[1;32m    677\u001b[0m \u001b[38;5;124;03m.. footbibliography::\u001b[39;00m\n\u001b[1;32m    678\u001b[0m \u001b[38;5;124;03m\"\"\"\u001b[39;00m\n\u001b[1;32m    679\u001b[0m n \u001b[38;5;241m=\u001b[39m x\u001b[38;5;241m.\u001b[39mshape[\u001b[38;5;241m0\u001b[39m]\n\u001b[0;32m--> 680\u001b[0m stat \u001b[38;5;241m=\u001b[39m calc_stat(x, y)\n\u001b[1;32m    681\u001b[0m pvalue \u001b[38;5;241m=\u001b[39m chi2\u001b[38;5;241m.\u001b[39msf(stat \u001b[38;5;241m*\u001b[39m n \u001b[38;5;241m+\u001b[39m \u001b[38;5;241m1\u001b[39m, \u001b[38;5;241m1\u001b[39m)\n\u001b[1;32m    683\u001b[0m \u001b[38;5;28;01mreturn\u001b[39;00m stat, pvalue\n",
      "File \u001b[0;32m/opt/anaconda3/lib/python3.11/site-packages/hyppo/independence/hsic.py:117\u001b[0m, in \u001b[0;36mHsic.statistic\u001b[0;34m(self, x, y)\u001b[0m\n\u001b[1;32m    114\u001b[0m disty \u001b[38;5;241m=\u001b[39m y\n\u001b[1;32m    116\u001b[0m \u001b[38;5;28;01mif\u001b[39;00m \u001b[38;5;129;01mnot\u001b[39;00m \u001b[38;5;28mself\u001b[39m\u001b[38;5;241m.\u001b[39mis_kernel:\n\u001b[0;32m--> 117\u001b[0m     kernx, kerny \u001b[38;5;241m=\u001b[39m compute_kern(x, y, metric\u001b[38;5;241m=\u001b[39m\u001b[38;5;28mself\u001b[39m\u001b[38;5;241m.\u001b[39mcompute_kernel, \u001b[38;5;241m*\u001b[39m\u001b[38;5;241m*\u001b[39m\u001b[38;5;28mself\u001b[39m\u001b[38;5;241m.\u001b[39mkwargs)\n\u001b[1;32m    118\u001b[0m     distx \u001b[38;5;241m=\u001b[39m \u001b[38;5;241m1\u001b[39m \u001b[38;5;241m-\u001b[39m kernx \u001b[38;5;241m/\u001b[39m np\u001b[38;5;241m.\u001b[39mmax(kernx)\n\u001b[1;32m    119\u001b[0m     disty \u001b[38;5;241m=\u001b[39m \u001b[38;5;241m1\u001b[39m \u001b[38;5;241m-\u001b[39m kerny \u001b[38;5;241m/\u001b[39m np\u001b[38;5;241m.\u001b[39mmax(kerny)\n",
      "File \u001b[0;32m/opt/anaconda3/lib/python3.11/site-packages/hyppo/tools/common.py:174\u001b[0m, in \u001b[0;36mcompute_kern\u001b[0;34m(x, y, metric, workers, **kwargs)\u001b[0m\n\u001b[1;32m    172\u001b[0m n \u001b[38;5;241m=\u001b[39m l2\u001b[38;5;241m.\u001b[39mshape[\u001b[38;5;241m0\u001b[39m]\n\u001b[1;32m    173\u001b[0m \u001b[38;5;66;03m# compute median of off diagonal elements\u001b[39;00m\n\u001b[0;32m--> 174\u001b[0m med \u001b[38;5;241m=\u001b[39m np\u001b[38;5;241m.\u001b[39mmedian(\n\u001b[1;32m    175\u001b[0m     np\u001b[38;5;241m.\u001b[39mlib\u001b[38;5;241m.\u001b[39mstride_tricks\u001b[38;5;241m.\u001b[39mas_strided(\n\u001b[1;32m    176\u001b[0m         l2, (n \u001b[38;5;241m-\u001b[39m \u001b[38;5;241m1\u001b[39m, n \u001b[38;5;241m+\u001b[39m \u001b[38;5;241m1\u001b[39m), (l2\u001b[38;5;241m.\u001b[39mitemsize \u001b[38;5;241m*\u001b[39m (n \u001b[38;5;241m+\u001b[39m \u001b[38;5;241m1\u001b[39m), l2\u001b[38;5;241m.\u001b[39mitemsize)\n\u001b[1;32m    177\u001b[0m     )[:, \u001b[38;5;241m1\u001b[39m:]\n\u001b[1;32m    178\u001b[0m )\n\u001b[1;32m    179\u001b[0m \u001b[38;5;66;03m# prevents division by zero when used on label vectors\u001b[39;00m\n\u001b[1;32m    180\u001b[0m med \u001b[38;5;241m=\u001b[39m med \u001b[38;5;28;01mif\u001b[39;00m med \u001b[38;5;28;01melse\u001b[39;00m \u001b[38;5;241m1\u001b[39m\n",
      "File \u001b[0;32m/opt/anaconda3/lib/python3.11/site-packages/numpy/lib/function_base.py:3927\u001b[0m, in \u001b[0;36mmedian\u001b[0;34m(a, axis, out, overwrite_input, keepdims)\u001b[0m\n\u001b[1;32m   3845\u001b[0m \u001b[38;5;129m@array_function_dispatch\u001b[39m(_median_dispatcher)\n\u001b[1;32m   3846\u001b[0m \u001b[38;5;28;01mdef\u001b[39;00m \u001b[38;5;21mmedian\u001b[39m(a, axis\u001b[38;5;241m=\u001b[39m\u001b[38;5;28;01mNone\u001b[39;00m, out\u001b[38;5;241m=\u001b[39m\u001b[38;5;28;01mNone\u001b[39;00m, overwrite_input\u001b[38;5;241m=\u001b[39m\u001b[38;5;28;01mFalse\u001b[39;00m, keepdims\u001b[38;5;241m=\u001b[39m\u001b[38;5;28;01mFalse\u001b[39;00m):\n\u001b[1;32m   3847\u001b[0m \u001b[38;5;250m    \u001b[39m\u001b[38;5;124;03m\"\"\"\u001b[39;00m\n\u001b[1;32m   3848\u001b[0m \u001b[38;5;124;03m    Compute the median along the specified axis.\u001b[39;00m\n\u001b[1;32m   3849\u001b[0m \n\u001b[0;32m   (...)\u001b[0m\n\u001b[1;32m   3925\u001b[0m \n\u001b[1;32m   3926\u001b[0m \u001b[38;5;124;03m    \"\"\"\u001b[39;00m\n\u001b[0;32m-> 3927\u001b[0m     \u001b[38;5;28;01mreturn\u001b[39;00m _ureduce(a, func\u001b[38;5;241m=\u001b[39m_median, keepdims\u001b[38;5;241m=\u001b[39mkeepdims, axis\u001b[38;5;241m=\u001b[39maxis, out\u001b[38;5;241m=\u001b[39mout,\n\u001b[1;32m   3928\u001b[0m                     overwrite_input\u001b[38;5;241m=\u001b[39moverwrite_input)\n",
      "File \u001b[0;32m/opt/anaconda3/lib/python3.11/site-packages/numpy/lib/function_base.py:3823\u001b[0m, in \u001b[0;36m_ureduce\u001b[0;34m(a, func, keepdims, **kwargs)\u001b[0m\n\u001b[1;32m   3820\u001b[0m             index_out \u001b[38;5;241m=\u001b[39m (\u001b[38;5;241m0\u001b[39m, ) \u001b[38;5;241m*\u001b[39m nd\n\u001b[1;32m   3821\u001b[0m             kwargs[\u001b[38;5;124m'\u001b[39m\u001b[38;5;124mout\u001b[39m\u001b[38;5;124m'\u001b[39m] \u001b[38;5;241m=\u001b[39m out[(\u001b[38;5;28mEllipsis\u001b[39m, ) \u001b[38;5;241m+\u001b[39m index_out]\n\u001b[0;32m-> 3823\u001b[0m r \u001b[38;5;241m=\u001b[39m func(a, \u001b[38;5;241m*\u001b[39m\u001b[38;5;241m*\u001b[39mkwargs)\n\u001b[1;32m   3825\u001b[0m \u001b[38;5;28;01mif\u001b[39;00m out \u001b[38;5;129;01mis\u001b[39;00m \u001b[38;5;129;01mnot\u001b[39;00m \u001b[38;5;28;01mNone\u001b[39;00m:\n\u001b[1;32m   3826\u001b[0m     \u001b[38;5;28;01mreturn\u001b[39;00m out\n",
      "File \u001b[0;32m/opt/anaconda3/lib/python3.11/site-packages/numpy/lib/function_base.py:3960\u001b[0m, in \u001b[0;36m_median\u001b[0;34m(a, axis, out, overwrite_input)\u001b[0m\n\u001b[1;32m   3958\u001b[0m         part \u001b[38;5;241m=\u001b[39m a\n\u001b[1;32m   3959\u001b[0m \u001b[38;5;28;01melse\u001b[39;00m:\n\u001b[0;32m-> 3960\u001b[0m     part \u001b[38;5;241m=\u001b[39m partition(a, kth, axis\u001b[38;5;241m=\u001b[39maxis)\n\u001b[1;32m   3962\u001b[0m \u001b[38;5;28;01mif\u001b[39;00m part\u001b[38;5;241m.\u001b[39mshape \u001b[38;5;241m==\u001b[39m ():\n\u001b[1;32m   3963\u001b[0m     \u001b[38;5;66;03m# make 0-D arrays work\u001b[39;00m\n\u001b[1;32m   3964\u001b[0m     \u001b[38;5;28;01mreturn\u001b[39;00m part\u001b[38;5;241m.\u001b[39mitem()\n",
      "File \u001b[0;32m/opt/anaconda3/lib/python3.11/site-packages/numpy/core/fromnumeric.py:771\u001b[0m, in \u001b[0;36mpartition\u001b[0;34m(a, kth, axis, kind, order)\u001b[0m\n\u001b[1;32m    769\u001b[0m \u001b[38;5;28;01melse\u001b[39;00m:\n\u001b[1;32m    770\u001b[0m     a \u001b[38;5;241m=\u001b[39m asanyarray(a)\u001b[38;5;241m.\u001b[39mcopy(order\u001b[38;5;241m=\u001b[39m\u001b[38;5;124m\"\u001b[39m\u001b[38;5;124mK\u001b[39m\u001b[38;5;124m\"\u001b[39m)\n\u001b[0;32m--> 771\u001b[0m a\u001b[38;5;241m.\u001b[39mpartition(kth, axis\u001b[38;5;241m=\u001b[39maxis, kind\u001b[38;5;241m=\u001b[39mkind, order\u001b[38;5;241m=\u001b[39morder)\n\u001b[1;32m    772\u001b[0m \u001b[38;5;28;01mreturn\u001b[39;00m a\n",
      "\u001b[0;31mKeyboardInterrupt\u001b[0m: "
     ]
    }
   ],
   "source": [
    "# Define ranges for hyperparameters\n",
    "num_samples_range = [100, 1000, 10000]\n",
    "num_features_range = [5, 10, 50, 100, 200]  # Increased range for higher dimensions\n",
    "correlation_strength_range = [0.2]\n",
    "\n",
    "# Results dictionary\n",
    "results_hsic = {}\n",
    "\n",
    "# Loop through all combinations\n",
    "for num_samples in num_samples_range:\n",
    "    for num_features in num_features_range:\n",
    "        for correlation_strength in correlation_strength_range:\n",
    "            key = (num_samples, num_features, correlation_strength)\n",
    "            X, Y, Z = generate_data(num_samples, num_features, correlation_strength)\n",
    "            estimated_cmi = estimate_conditional_mi_hsic(X, Y, Z)\n",
    "            results[key] = estimated_cmi\n",
    "\n",
    "# Print the results in a tabular format\n",
    "print(\"Results:\")\n",
    "print(\"|{:15s}|{:15s}|{:15s}|{:25s}|\".format('Num Samples', 'Num Features', 'Corr Strength', 'CMI Estimate'))\n",
    "print(\"-\"*80)\n",
    "for key, value in results_hsic.items():\n",
    "    num_samples, num_features, correlation_strength = key\n",
    "    print(\"|{:15d}|{:15d}|{:15.2f}|{:25.8f}|\".format(num_samples, num_features, correlation_strength, value))"
   ]
  },
  {
   "cell_type": "code",
   "execution_count": null,
   "metadata": {},
   "outputs": [],
   "source": []
  }
 ],
 "metadata": {
  "kernelspec": {
   "display_name": "base",
   "language": "python",
   "name": "python3"
  },
  "language_info": {
   "codemirror_mode": {
    "name": "ipython",
    "version": 3
   },
   "file_extension": ".py",
   "mimetype": "text/x-python",
   "name": "python",
   "nbconvert_exporter": "python",
   "pygments_lexer": "ipython3",
   "version": "3.11.5"
  }
 },
 "nbformat": 4,
 "nbformat_minor": 2
}
